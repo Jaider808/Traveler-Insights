{
 "cells": [
  {
   "cell_type": "markdown",
   "metadata": {},
   "source": [
    "# **Traveler Insights**"
   ]
  },
  {
   "cell_type": "markdown",
   "metadata": {},
   "source": [
    "A medida que el turismo se vuelve cada vez más digital y las reseñas en línea influyen fuertemente en las decisiones de viaje, las plataformas digitales juegan un papel crucial en la comprensión de las preferencias y comportamientos de los turistas. A través de Traveler Insights, tu misión es desarrollar un modelo capaz de clasificar el sentimiento de estas reseñas en tres categorías principales: positivo, neutral o negativo. Esta tarea es clave para ayudar a la industria turística a comprender mejor las emociones de los visitantes, permitiéndoles adaptar sus ofertas para mejorar las experiencias y optimizar sus servicios."
   ]
  },
  {
   "cell_type": "markdown",
   "metadata": {},
   "source": [
    "Participantes:\n",
    "\n",
    "Daniel Isaías Cruz González\n",
    "\n",
    "Jaider Castilla Babilonia"
   ]
  },
  {
   "cell_type": "markdown",
   "metadata": {},
   "source": [
    "---"
   ]
  },
  {
   "cell_type": "code",
   "execution_count": 2,
   "metadata": {},
   "outputs": [
    {
     "name": "stdout",
     "output_type": "stream",
     "text": [
      "Requirement already satisfied: pandas in c:\\users\\jaide\\documents\\traveler-insights\\.venv\\lib\\site-packages (2.2.3)\n",
      "Requirement already satisfied: numpy>=1.23.2 in c:\\users\\jaide\\documents\\traveler-insights\\.venv\\lib\\site-packages (from pandas) (2.1.3)\n",
      "Requirement already satisfied: python-dateutil>=2.8.2 in c:\\users\\jaide\\documents\\traveler-insights\\.venv\\lib\\site-packages (from pandas) (2.9.0.post0)\n",
      "Requirement already satisfied: pytz>=2020.1 in c:\\users\\jaide\\documents\\traveler-insights\\.venv\\lib\\site-packages (from pandas) (2024.2)\n",
      "Requirement already satisfied: tzdata>=2022.7 in c:\\users\\jaide\\documents\\traveler-insights\\.venv\\lib\\site-packages (from pandas) (2024.2)\n",
      "Requirement already satisfied: six>=1.5 in c:\\users\\jaide\\documents\\traveler-insights\\.venv\\lib\\site-packages (from python-dateutil>=2.8.2->pandas) (1.16.0)\n",
      "Note: you may need to restart the kernel to use updated packages.\n"
     ]
    }
   ],
   "source": [
    "# Importando librerias\n",
    "%pip install pandas\n",
    "import pandas as pd\n",
    "import numpy as np"
   ]
  },
  {
   "cell_type": "markdown",
   "metadata": {},
   "source": [
    "---"
   ]
  },
  {
   "cell_type": "code",
   "execution_count": 3,
   "metadata": {},
   "outputs": [
    {
     "name": "stdout",
     "output_type": "stream",
     "text": [
      "     ID        Sitio  Índice del lugar                   Nombre del lugar  \\\n",
      "0   380  Tripadvisor                50                        Isla Múcura   \n",
      "1   196   Foursquare                30  Doki's comidas rápidas (Majagual)   \n",
      "2   723  Tripadvisor                56                 Playa la Coquerita   \n",
      "3   522  Tripadvisor                50                        Isla Múcura   \n",
      "4  1126  Tripadvisor                74                 Covenas Diving Co.   \n",
      "\n",
      "                                    Enlace del lugar    Municipio Valoración  \\\n",
      "0  https://www.tripadvisor.co/Attraction_Review-g...   San Onofre      4.5/5   \n",
      "1  https://es.foursquare.com/v/dokis-comidas-r%C3...    Sincelejo     7.4/10   \n",
      "2  https://www.tripadvisor.co/Attraction_Review-g...      Coveñas      4.0/5   \n",
      "3  https://www.tripadvisor.co/Attraction_Review-g...   San Onofre      4.5/5   \n",
      "4  https://www.tripadvisor.co/Attraction_Review-g...      Coveñas      5.0/5   \n",
      "\n",
      "      Valoraciones              Precio  \\\n",
      "0              281  Precio Desconocido   \n",
      "1  13 valoraciones                   $   \n",
      "2               28  Precio Desconocido   \n",
      "3              281  Precio Desconocido   \n",
      "4              259  Precio Desconocido   \n",
      "\n",
      "                                          Comentario                  Fecha  \\\n",
      "0  La isla es muy hermosa y tiene unas aguas muy ...   24 de agosto de 2017   \n",
      "1  Lahamburguesa de polloy elpatacónDoki, son del...         Abril 12, 2015   \n",
      "2  La playa es preciosa, de aguas mansas y playas...  14 de febrero de 2020   \n",
      "3  es un paraíso de playa Para llegar a la isla l...   3 de octubre de 2012   \n",
      "4  Es muy buena escuela de buceo; excelente los l...     4 de marzo de 2018   \n",
      "\n",
      "   Votos a favor  Votos en contra  Valoración_num Sentimiento  \n",
      "0              0                0             4.5     neutral  \n",
      "1              0                0             7.4    positivo  \n",
      "2              0                0             4.0     neutral  \n",
      "3              0                0             4.5     neutral  \n",
      "4              0                0             5.0     neutral  \n"
     ]
    }
   ],
   "source": [
    "# Carga del dataset \n",
    "data_train = pd.read_csv('dataset/train.csv')\n",
    "data_test = pd.read_csv('dataset/test.csv')\n",
    "print(data_train.head(5))"
   ]
  },
  {
   "cell_type": "code",
   "execution_count": 9,
   "metadata": {},
   "outputs": [
    {
     "name": "stdout",
     "output_type": "stream",
     "text": [
      "<class 'pandas.core.frame.DataFrame'>\n",
      "RangeIndex: 818 entries, 0 to 817\n",
      "Data columns (total 15 columns):\n",
      " #   Column            Non-Null Count  Dtype  \n",
      "---  ------            --------------  -----  \n",
      " 0   ID                818 non-null    int64  \n",
      " 1   Sitio             818 non-null    object \n",
      " 2   Índice del lugar  818 non-null    int64  \n",
      " 3   Nombre del lugar  818 non-null    object \n",
      " 4   Enlace del lugar  817 non-null    object \n",
      " 5   Municipio         818 non-null    object \n",
      " 6   Valoración        818 non-null    object \n",
      " 7   Valoraciones      818 non-null    object \n",
      " 8   Precio            818 non-null    object \n",
      " 9   Comentario        818 non-null    object \n",
      " 10  Fecha             818 non-null    object \n",
      " 11  Votos a favor     818 non-null    int64  \n",
      " 12  Votos en contra   818 non-null    int64  \n",
      " 13  Valoración_num    818 non-null    float64\n",
      " 14  Sentimiento       818 non-null    object \n",
      "dtypes: float64(1), int64(4), object(10)\n",
      "memory usage: 96.0+ KB\n",
      "None\n"
     ]
    }
   ],
   "source": [
    "print(data_train.info())"
   ]
  },
  {
   "cell_type": "code",
   "execution_count": 10,
   "metadata": {},
   "outputs": [
    {
     "name": "stdout",
     "output_type": "stream",
     "text": [
      "Columna 'ID' tiene 818 valores\n",
      "Columna 'Sitio' tiene 2 valores\n",
      "Columna 'Índice del lugar' tiene 69 valores\n",
      "Columna 'Nombre del lugar' tiene 73 valores\n",
      "Columna 'Enlace del lugar' tiene 69 valores\n",
      "Columna 'Municipio' tiene 9 valores\n",
      "Columna 'Valoración' tiene 23 valores\n",
      "Columna 'Valoraciones' tiene 43 valores\n",
      "Columna 'Precio' tiene 4 valores\n",
      "Columna 'Comentario' tiene 809 valores\n",
      "Columna 'Fecha' tiene 688 valores\n",
      "Columna 'Votos a favor' tiene 16 valores\n",
      "Columna 'Votos en contra' tiene 2 valores\n",
      "Columna 'Valoración_num' tiene 23 valores\n",
      "Columna 'Sentimiento' tiene 3 valores\n"
     ]
    }
   ],
   "source": [
    "# Analizar las columnas y sus valores\n",
    "for col in data_train.columns:\n",
    "    unique_vals = data_train[col].nunique()\n",
    "    print(f\"Columna '{col}' tiene {unique_vals} valores\")"
   ]
  },
  {
   "cell_type": "code",
   "execution_count": null,
   "metadata": {},
   "outputs": [
    {
     "name": "stdout",
     "output_type": "stream",
     "text": [
      "<class 'pandas.core.frame.DataFrame'>\n",
      "RangeIndex: 818 entries, 0 to 817\n",
      "Data columns (total 9 columns):\n",
      " #   Column            Non-Null Count  Dtype  \n",
      "---  ------            --------------  -----  \n",
      " 0   ID                818 non-null    int64  \n",
      " 1   Índice del lugar  818 non-null    int64  \n",
      " 2   Valoración        818 non-null    object \n",
      " 3   Valoraciones      818 non-null    object \n",
      " 4   Comentario        818 non-null    object \n",
      " 5   Votos a favor     818 non-null    int64  \n",
      " 6   Votos en contra   818 non-null    int64  \n",
      " 7   Valoración_num    818 non-null    float64\n",
      " 8   Sentimiento       818 non-null    object \n",
      "dtypes: float64(1), int64(4), object(4)\n",
      "memory usage: 57.6+ KB\n",
      "None\n"
     ]
    }
   ],
   "source": [
    "# Eliminar columnas no relevantes para el análisis\n",
    "data_clean = data_train.drop(columns=['Sitio', 'Nombre del lugar', 'Municipio', 'Enlace del lugar', 'Precio','Fecha'])\n",
    "print(data_clean.info())\n"
   ]
  }
 ],
 "metadata": {
  "kernelspec": {
   "display_name": ".venv",
   "language": "python",
   "name": "python3"
  },
  "language_info": {
   "codemirror_mode": {
    "name": "ipython",
    "version": 3
   },
   "file_extension": ".py",
   "mimetype": "text/x-python",
   "name": "python",
   "nbconvert_exporter": "python",
   "pygments_lexer": "ipython3",
   "version": "3.11.9"
  }
 },
 "nbformat": 4,
 "nbformat_minor": 2
}
