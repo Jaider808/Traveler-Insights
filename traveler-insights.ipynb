{
 "cells": [
  {
   "cell_type": "markdown",
   "metadata": {},
   "source": [
    "# **Traveler Insights**"
   ]
  },
  {
   "cell_type": "markdown",
   "metadata": {},
   "source": [
    "A medida que el turismo se vuelve cada vez más digital y las reseñas en línea influyen fuertemente en las decisiones de viaje, las plataformas digitales juegan un papel crucial en la comprensión de las preferencias y comportamientos de los turistas. A través de Traveler Insights, tu misión es desarrollar un modelo capaz de clasificar el sentimiento de estas reseñas en tres categorías principales: positivo, neutral o negativo. Esta tarea es clave para ayudar a la industria turística a comprender mejor las emociones de los visitantes, permitiéndoles adaptar sus ofertas para mejorar las experiencias y optimizar sus servicios."
   ]
  },
  {
   "cell_type": "markdown",
   "metadata": {},
   "source": [
    "Participantes:\n",
    "\n",
    "Daniel Isaías Cruz González\n",
    "\n",
    "Jaider Castilla Babilonia"
   ]
  },
  {
   "cell_type": "markdown",
   "metadata": {},
   "source": [
    "---"
   ]
  },
  {
   "cell_type": "code",
   "execution_count": 4,
   "metadata": {},
   "outputs": [
    {
     "name": "stdout",
     "output_type": "stream",
     "text": [
      "Requirement already satisfied: pandas in c:\\users\\jaide\\documents\\traveler-insights\\.venv\\lib\\site-packages (2.2.3)\n",
      "Requirement already satisfied: numpy>=1.23.2 in c:\\users\\jaide\\documents\\traveler-insights\\.venv\\lib\\site-packages (from pandas) (2.1.3)\n",
      "Requirement already satisfied: python-dateutil>=2.8.2 in c:\\users\\jaide\\documents\\traveler-insights\\.venv\\lib\\site-packages (from pandas) (2.9.0.post0)\n",
      "Requirement already satisfied: pytz>=2020.1 in c:\\users\\jaide\\documents\\traveler-insights\\.venv\\lib\\site-packages (from pandas) (2024.2)\n",
      "Requirement already satisfied: tzdata>=2022.7 in c:\\users\\jaide\\documents\\traveler-insights\\.venv\\lib\\site-packages (from pandas) (2024.2)\n",
      "Requirement already satisfied: six>=1.5 in c:\\users\\jaide\\documents\\traveler-insights\\.venv\\lib\\site-packages (from python-dateutil>=2.8.2->pandas) (1.16.0)\n",
      "Note: you may need to restart the kernel to use updated packages.\n"
     ]
    }
   ],
   "source": [
    "%pip install pandas\n",
    "import pandas as pd\n",
    "import numpy as np"
   ]
  },
  {
   "cell_type": "code",
   "execution_count": null,
   "metadata": {},
   "outputs": [
    {
     "name": "stdout",
     "output_type": "stream",
     "text": [
      "      ID        Sitio  Índice del lugar               Nombre del lugar  \\\n",
      "0    980  Tripadvisor                74             Covenas Diving Co.   \n",
      "1   1249  Tripadvisor                79       Anfibio Sports Adventure   \n",
      "2    260   Foursquare                42  Playas De La Primera Ensenada   \n",
      "3    459  Tripadvisor                50                    Isla Múcura   \n",
      "4    309   Foursquare                48                   Lile's Pizza   \n",
      "5   1129  Tripadvisor                74             Covenas Diving Co.   \n",
      "6   1026  Tripadvisor                74             Covenas Diving Co.   \n",
      "7    126   Foursquare                12         Olga Piña y Juana Luna   \n",
      "8    963  Tripadvisor                74             Covenas Diving Co.   \n",
      "9    692  Tripadvisor                53          Playas Rincon del Mar   \n",
      "10  1251  Tripadvisor                79       Anfibio Sports Adventure   \n",
      "\n",
      "                                     Enlace del lugar    Municipio Valoración  \\\n",
      "0   https://www.tripadvisor.co/Attraction_Review-g...      Coveñas      5.0/5   \n",
      "1   https://www.tripadvisor.co/Attraction_Review-g...   San Onofre      5.0/5   \n",
      "2   https://foursquare.com/v/playas-de-la-primera-...      Coveñas     6.9/10   \n",
      "3   https://www.tripadvisor.co/Attraction_Review-g...   San Onofre      4.5/5   \n",
      "4   https://foursquare.com/v/liles-pizza/5185a7cb4...    Sincelejo     6.7/10   \n",
      "5   https://www.tripadvisor.co/Attraction_Review-g...      Coveñas      5.0/5   \n",
      "6   https://www.tripadvisor.co/Attraction_Review-g...      Coveñas      5.0/5   \n",
      "7   https://es.foursquare.com/v/olga-pi%C3%B1a-y-j...      Corozal     8.0/10   \n",
      "8   https://www.tripadvisor.co/Attraction_Review-g...      Coveñas      5.0/5   \n",
      "9   https://www.tripadvisor.co/Attraction_Review-g...   San Onofre      4.0/5   \n",
      "10  https://www.tripadvisor.co/Attraction_Review-g...   San Onofre      5.0/5   \n",
      "\n",
      "       Valoraciones              Precio  \\\n",
      "0               259  Precio Desconocido   \n",
      "1                34  Precio Desconocido   \n",
      "2    9 valoraciones  Precio Desconocido   \n",
      "3               281  Precio Desconocido   \n",
      "4   31 valoraciones                   $   \n",
      "5               259  Precio Desconocido   \n",
      "6               259  Precio Desconocido   \n",
      "7   32 valoraciones  Precio Desconocido   \n",
      "8               259  Precio Desconocido   \n",
      "9                51  Precio Desconocido   \n",
      "10               34  Precio Desconocido   \n",
      "\n",
      "                                           Comentario                 Fecha  \\\n",
      "0   De las mejores experiencias de la vida, no se ...   25 de abril de 2021   \n",
      "1   Me encanto el plan de Stand up paddle y de bic...    1 de julio de 2021   \n",
      "2   Excelentes playas para disfrutar del hermoso m...        Abril 13, 2013   \n",
      "3   Experiencia inolvidable Es un paisaje exótico,...    7 de enero de 2015   \n",
      "4         Excelente la caprichosa y los granizados ;)   Septiembre 19, 2013   \n",
      "5   Excelente experiencia en Coveñas con mi amigo ...   19 de enero de 2018   \n",
      "6   Excelente instructor, excelentes equipos. Una ...  4 de febrero de 2020   \n",
      "7   Parada obligada para los viajeros muy buenos e...         Marzo 2, 2014   \n",
      "8   Excelente experiencia. Mucho coral y mucha var...  19 de agosto de 2022   \n",
      "9   Su nombre hace honor a su ubicación, es un rin...    12 de mayo de 2016   \n",
      "10  Excelente plan en Rincón del mar. Es un deport...   15 de junio de 2021   \n",
      "\n",
      "    Votos a favor  Votos en contra  Valoración_num  Sentimiento  \n",
      "0               0                0             5.0          NaN  \n",
      "1               0                0             5.0          NaN  \n",
      "2               0                0             6.9          NaN  \n",
      "3               0                0             4.5          NaN  \n",
      "4               0                0             6.7          NaN  \n",
      "5               0                0             5.0          NaN  \n",
      "6               0                0             5.0          NaN  \n",
      "7               1                0             8.0          NaN  \n",
      "8               0                0             5.0          NaN  \n",
      "9               0                0             4.0          NaN  \n",
      "10              0                0             5.0          NaN  \n"
     ]
    }
   ],
   "source": [
    "# Carga del dataset\n",
    "data = pd.read_csv('dataset\\submission.csv')\n",
    "print(data.head(11))"
   ]
  }
 ],
 "metadata": {
  "kernelspec": {
   "display_name": ".venv",
   "language": "python",
   "name": "python3"
  },
  "language_info": {
   "codemirror_mode": {
    "name": "ipython",
    "version": 3
   },
   "file_extension": ".py",
   "mimetype": "text/x-python",
   "name": "python",
   "nbconvert_exporter": "python",
   "pygments_lexer": "ipython3",
   "version": "3.11.9"
  }
 },
 "nbformat": 4,
 "nbformat_minor": 2
}
