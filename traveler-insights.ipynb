{
 "cells": [
  {
   "cell_type": "markdown",
   "metadata": {},
   "source": [
    "# **Traveler Insights**"
   ]
  },
  {
   "cell_type": "markdown",
   "metadata": {},
   "source": [
    "A medida que el turismo se vuelve cada vez más digital y las reseñas en línea influyen fuertemente en las decisiones de viaje, las plataformas digitales juegan un papel crucial en la comprensión de las preferencias y comportamientos de los turistas. A través de Traveler Insights, tu misión es desarrollar un modelo capaz de clasificar el sentimiento de estas reseñas en tres categorías principales: positivo, neutral o negativo. Esta tarea es clave para ayudar a la industria turística a comprender mejor las emociones de los visitantes, permitiéndoles adaptar sus ofertas para mejorar las experiencias y optimizar sus servicios."
   ]
  },
  {
   "cell_type": "markdown",
   "metadata": {},
   "source": [
    "Participantes:\n",
    "\n",
    "Daniel Isaías Cruz González\n",
    "\n",
    "Jaider Castilla Babilonia"
   ]
  },
  {
   "cell_type": "markdown",
   "metadata": {},
   "source": [
    "---"
   ]
  },
  {
   "cell_type": "code",
   "execution_count": 25,
   "metadata": {},
   "outputs": [
    {
     "name": "stdout",
     "output_type": "stream",
     "text": [
      "Requirement already satisfied: pandas in c:\\users\\jaide\\documents\\traveler-insights\\.venv\\lib\\site-packages (2.2.3)\n",
      "Requirement already satisfied: scikit-learn in c:\\users\\jaide\\documents\\traveler-insights\\.venv\\lib\\site-packages (1.5.2)\n",
      "Requirement already satisfied: numpy>=1.23.2 in c:\\users\\jaide\\documents\\traveler-insights\\.venv\\lib\\site-packages (from pandas) (2.1.3)\n",
      "Requirement already satisfied: python-dateutil>=2.8.2 in c:\\users\\jaide\\documents\\traveler-insights\\.venv\\lib\\site-packages (from pandas) (2.9.0.post0)\n",
      "Requirement already satisfied: pytz>=2020.1 in c:\\users\\jaide\\documents\\traveler-insights\\.venv\\lib\\site-packages (from pandas) (2024.2)\n",
      "Requirement already satisfied: tzdata>=2022.7 in c:\\users\\jaide\\documents\\traveler-insights\\.venv\\lib\\site-packages (from pandas) (2024.2)\n",
      "Requirement already satisfied: scipy>=1.6.0 in c:\\users\\jaide\\documents\\traveler-insights\\.venv\\lib\\site-packages (from scikit-learn) (1.14.1)\n",
      "Requirement already satisfied: joblib>=1.2.0 in c:\\users\\jaide\\documents\\traveler-insights\\.venv\\lib\\site-packages (from scikit-learn) (1.4.2)\n",
      "Requirement already satisfied: threadpoolctl>=3.1.0 in c:\\users\\jaide\\documents\\traveler-insights\\.venv\\lib\\site-packages (from scikit-learn) (3.5.0)\n",
      "Requirement already satisfied: six>=1.5 in c:\\users\\jaide\\documents\\traveler-insights\\.venv\\lib\\site-packages (from python-dateutil>=2.8.2->pandas) (1.16.0)\n",
      "Note: you may need to restart the kernel to use updated packages.\n"
     ]
    }
   ],
   "source": [
    "# Importando librerias\n",
    "%pip install pandas scikit-learn\n",
    "import pandas as pd\n",
    "import numpy as np\n",
    "from sklearn.model_selection import train_test_split\n",
    "from sklearn.feature_extraction.text import TfidfVectorizer\n",
    "from sklearn.ensemble import RandomForestClassifier\n",
    "from sklearn.metrics import classification_report, accuracy_score\n"
   ]
  },
  {
   "cell_type": "markdown",
   "metadata": {},
   "source": [
    "---"
   ]
  },
  {
   "cell_type": "code",
   "execution_count": 26,
   "metadata": {},
   "outputs": [
    {
     "name": "stdout",
     "output_type": "stream",
     "text": [
      "<class 'pandas.core.frame.DataFrame'>\n",
      "RangeIndex: 818 entries, 0 to 817\n",
      "Data columns (total 15 columns):\n",
      " #   Column            Non-Null Count  Dtype  \n",
      "---  ------            --------------  -----  \n",
      " 0   ID                818 non-null    int64  \n",
      " 1   Sitio             818 non-null    object \n",
      " 2   Índice del lugar  818 non-null    int64  \n",
      " 3   Nombre del lugar  818 non-null    object \n",
      " 4   Enlace del lugar  817 non-null    object \n",
      " 5   Municipio         818 non-null    object \n",
      " 6   Valoración        818 non-null    object \n",
      " 7   Valoraciones      818 non-null    object \n",
      " 8   Precio            818 non-null    object \n",
      " 9   Comentario        818 non-null    object \n",
      " 10  Fecha             818 non-null    object \n",
      " 11  Votos a favor     818 non-null    int64  \n",
      " 12  Votos en contra   818 non-null    int64  \n",
      " 13  Valoración_num    818 non-null    float64\n",
      " 14  Sentimiento       818 non-null    object \n",
      "dtypes: float64(1), int64(4), object(10)\n",
      "memory usage: 96.0+ KB\n",
      "None\n"
     ]
    }
   ],
   "source": [
    "# Carga de datasets\n",
    "data_train = pd.read_csv('dataset/train.csv')\n",
    "data_test = pd.read_csv('dataset/submission.csv')\n",
    "data_submission = pd.read_csv('dataset/test.csv')\n",
    "print(data_train.info())"
   ]
  },
  {
   "cell_type": "code",
   "execution_count": 27,
   "metadata": {},
   "outputs": [
    {
     "name": "stdout",
     "output_type": "stream",
     "text": [
      "<class 'pandas.core.frame.DataFrame'>\n",
      "RangeIndex: 129 entries, 0 to 128\n",
      "Data columns (total 15 columns):\n",
      " #   Column            Non-Null Count  Dtype  \n",
      "---  ------            --------------  -----  \n",
      " 0   ID                129 non-null    int64  \n",
      " 1   Sitio             129 non-null    object \n",
      " 2   Índice del lugar  129 non-null    int64  \n",
      " 3   Nombre del lugar  129 non-null    object \n",
      " 4   Enlace del lugar  129 non-null    object \n",
      " 5   Municipio         129 non-null    object \n",
      " 6   Valoración        129 non-null    object \n",
      " 7   Valoraciones      129 non-null    object \n",
      " 8   Precio            129 non-null    object \n",
      " 9   Comentario        129 non-null    object \n",
      " 10  Fecha             129 non-null    object \n",
      " 11  Votos a favor     129 non-null    int64  \n",
      " 12  Votos en contra   129 non-null    int64  \n",
      " 13  Valoración_num    129 non-null    float64\n",
      " 14  Sentimiento       0 non-null      float64\n",
      "dtypes: float64(2), int64(4), object(9)\n",
      "memory usage: 15.2+ KB\n",
      "None\n"
     ]
    }
   ],
   "source": [
    "print(data_test.info())"
   ]
  },
  {
   "cell_type": "code",
   "execution_count": 28,
   "metadata": {},
   "outputs": [
    {
     "name": "stdout",
     "output_type": "stream",
     "text": [
      "Columna 'ID' tiene 818 valores\n",
      "Columna 'Sitio' tiene 2 valores\n",
      "Columna 'Índice del lugar' tiene 69 valores\n",
      "Columna 'Nombre del lugar' tiene 73 valores\n",
      "Columna 'Enlace del lugar' tiene 69 valores\n",
      "Columna 'Municipio' tiene 9 valores\n",
      "Columna 'Valoración' tiene 23 valores\n",
      "Columna 'Valoraciones' tiene 43 valores\n",
      "Columna 'Precio' tiene 4 valores\n",
      "Columna 'Comentario' tiene 809 valores\n",
      "Columna 'Fecha' tiene 688 valores\n",
      "Columna 'Votos a favor' tiene 16 valores\n",
      "Columna 'Votos en contra' tiene 2 valores\n",
      "Columna 'Valoración_num' tiene 23 valores\n",
      "Columna 'Sentimiento' tiene 3 valores\n"
     ]
    }
   ],
   "source": [
    "# Analizar las columnas y valores de data_train\n",
    "for col in data_train.columns:\n",
    "    unique_vals = data_train[col].nunique()\n",
    "    print(f\"Columna '{col}' tiene {unique_vals} valores\")"
   ]
  },
  {
   "cell_type": "code",
   "execution_count": 29,
   "metadata": {},
   "outputs": [],
   "source": [
    "# Eliminar filas con valores nulos\n",
    "data_train = data_train.dropna(subset=['Comentario', 'Sentimiento'])\n",
    "\n",
    "# Convertir la columna Sentimiento a etiquetas numéricas\n",
    "sentiment_mapping = {'positivo': 2, 'neutral': 1, 'negativo': 0}\n",
    "data_train['Sentimiento_num'] = data_train['Sentimiento'].map(sentiment_mapping)\n",
    "\n",
    "# Separamos las etiquetas\n",
    "X_text_train = data_train['Comentario']\n",
    "y_train = data_train['Sentimiento']"
   ]
  },
  {
   "cell_type": "code",
   "execution_count": 30,
   "metadata": {},
   "outputs": [],
   "source": [
    "# Dividir el dataset en conjunto de entrenamiento y prueba\n",
    "X_train, X_val, y_train, y_val = train_test_split(X_text_train, y_train, test_size=0.2, random_state=42)\n",
    "\n",
    "# Lista de palabras de detención para español\n",
    "spanish_stop_words = [\n",
    "    \"de\", \"la\", \"que\", \"el\", \"en\", \"y\", \"a\", \"los\", \"del\", \"se\", \"las\", \"por\", \"un\", \"para\", \n",
    "    \"con\", \"no\", \"una\", \"su\", \"al\", \"lo\", \"como\", \"más\", \"pero\", \"sus\", \"le\", \"ya\", \"o\", \n",
    "    \"este\", \"sí\", \"porque\", \"esta\", \"entre\", \"cuando\", \"muy\", \"sin\", \"sobre\", \"también\", \n",
    "    \"me\", \"hasta\", \"hay\", \"donde\", \"quien\", \"desde\", \"todo\", \"nos\", \"durante\", \"todos\", \n",
    "    \"uno\", \"les\", \"ni\", \"contra\", \"otros\", \"ese\", \"eso\", \"ante\", \"ellos\", \"e\", \"esto\", \n",
    "    \"mí\", \"antes\", \"algunos\", \"qué\", \"unos\", \"yo\", \"otro\", \"otras\", \"otra\", \"él\", \n",
    "    \"tanto\", \"esa\", \"estos\", \"mucho\", \"quienes\", \"nada\", \"muchos\", \"cual\", \"poco\", \n",
    "    \"ella\", \"estar\", \"estas\", \"algunas\", \"algo\", \"nosotros\", \"mi\", \"mis\", \"tú\", \"te\", \n",
    "    \"ti\", \"tu\", \"tus\", \"ellas\", \"nosotras\", \"vosotros\", \"vosotras\", \"os\", \"mío\", \"mía\", \n",
    "    \"míos\", \"mías\", \"tuyo\", \"tuya\", \"tuyos\", \"tuyas\", \"suyo\", \"suya\", \"suyos\", \"suyas\", \n",
    "    \"nuestro\", \"nuestra\", \"nuestros\", \"nuestras\", \"vuestro\", \"vuestra\", \"vuestros\", \n",
    "    \"vuestras\", \"esos\", \"esas\", \"estoy\", \"estás\", \"está\", \"estamos\", \"estáis\", \"están\", \n",
    "    \"esté\", \"estés\", \"estemos\", \"estéis\", \"estén\", \"estaré\", \"estarás\", \"estará\", \n",
    "    \"estaremos\", \"estaréis\", \"estarán\", \"estaría\", \"estarías\", \"estaríamos\", \n",
    "    \"estaríais\", \"estarían\", \"estaba\", \"estabas\", \"estábamos\", \"estabais\", \"estaban\", \n",
    "    \"estuve\", \"estuviste\", \"estuvo\", \"estuvimos\", \"estuvisteis\", \"estuvieron\", \"estuviera\", \n",
    "    \"estuvieras\", \"estuviéramos\", \"estuvierais\", \"estuvieran\", \"estuviese\", \"estuvieses\", \n",
    "    \"estuviésemos\", \"estuvieseis\", \"estuviesen\", \"estando\", \"estado\", \"estados\", \n",
    "    \"estada\", \"estadas\", \"estad\"\n",
    "]"
   ]
  },
  {
   "cell_type": "code",
   "execution_count": 31,
   "metadata": {},
   "outputs": [
    {
     "name": "stdout",
     "output_type": "stream",
     "text": [
      "       ID        Sitio  Índice del lugar                   Nombre del lugar  \\\n",
      "0     380  Tripadvisor                50                        Isla Múcura   \n",
      "1     196   Foursquare                30  Doki's comidas rápidas (Majagual)   \n",
      "2     723  Tripadvisor                56                 Playa la Coquerita   \n",
      "3     522  Tripadvisor                50                        Isla Múcura   \n",
      "4    1126  Tripadvisor                74                 Covenas Diving Co.   \n",
      "..    ...          ...               ...                                ...   \n",
      "813    86   Foursquare                 4                        Don Parilla   \n",
      "814  1139  Tripadvisor                75                 Rincón Dive Center   \n",
      "815   827  Tripadvisor                59          Catedral de San Francisco   \n",
      "816   967  Tripadvisor                74                 Covenas Diving Co.   \n",
      "817   828  Tripadvisor                59          Catedral de San Francisco   \n",
      "\n",
      "                                      Enlace del lugar    Municipio  \\\n",
      "0    https://www.tripadvisor.co/Attraction_Review-g...   San Onofre   \n",
      "1    https://es.foursquare.com/v/dokis-comidas-r%C3...    Sincelejo   \n",
      "2    https://www.tripadvisor.co/Attraction_Review-g...      Coveñas   \n",
      "3    https://www.tripadvisor.co/Attraction_Review-g...   San Onofre   \n",
      "4    https://www.tripadvisor.co/Attraction_Review-g...      Coveñas   \n",
      "..                                                 ...          ...   \n",
      "813  https://es.foursquare.com/v/don-parilla/4d0d1a...    Sincelejo   \n",
      "814  https://www.tripadvisor.co/Attraction_Review-g...   San Onofre   \n",
      "815  https://www.tripadvisor.co/Attraction_Review-g...    Sincelejo   \n",
      "816  https://www.tripadvisor.co/Attraction_Review-g...      Coveñas   \n",
      "817  https://www.tripadvisor.co/Attraction_Review-g...    Sincelejo   \n",
      "\n",
      "    Valoración     Valoraciones              Precio  \\\n",
      "0        4.5/5              281  Precio Desconocido   \n",
      "1       7.4/10  13 valoraciones                   $   \n",
      "2        4.0/5               28  Precio Desconocido   \n",
      "3        4.5/5              281  Precio Desconocido   \n",
      "4        5.0/5              259  Precio Desconocido   \n",
      "..         ...              ...                 ...   \n",
      "813     8.7/10  24 valoraciones                $$$$   \n",
      "814      5.0/5              192  Precio Desconocido   \n",
      "815      4.0/5               30  Precio Desconocido   \n",
      "816      5.0/5              259  Precio Desconocido   \n",
      "817      4.0/5               30  Precio Desconocido   \n",
      "\n",
      "                                            Comentario  \\\n",
      "0    La isla es muy hermosa y tiene unas aguas muy ...   \n",
      "1    Lahamburguesa de polloy elpatacónDoki, son del...   \n",
      "2    La playa es preciosa, de aguas mansas y playas...   \n",
      "3    es un paraíso de playa Para llegar a la isla l...   \n",
      "4    Es muy buena escuela de buceo; excelente los l...   \n",
      "..                                                 ...   \n",
      "813             Lomitoa lasfinas hierbas... buenisimo!   \n",
      "814  Hicimos un excelente fun dive con Stefania y G...   \n",
      "815  El parque a su alrededor estaba en remodelació...   \n",
      "816  La mejor experiencia en Coveñas, totalmente re...   \n",
      "817  A mediados de enero aún conservaba la decoraci...   \n",
      "\n",
      "                      Fecha  Votos a favor  Votos en contra  Valoración_num  \\\n",
      "0      24 de agosto de 2017              0                0             4.5   \n",
      "1            Abril 12, 2015              0                0             7.4   \n",
      "2     14 de febrero de 2020              0                0             4.0   \n",
      "3      3 de octubre de 2012              0                0             4.5   \n",
      "4        4 de marzo de 2018              0                0             5.0   \n",
      "..                      ...            ...              ...             ...   \n",
      "813          Abril 20, 2014              0                0             8.7   \n",
      "814      2 de julio de 2023              0                0             5.0   \n",
      "815      5 de enero de 2015              0                0             4.0   \n",
      "816    23 de agosto de 2022              0                0             5.0   \n",
      "817  9 de noviembre de 2014              0                0             4.0   \n",
      "\n",
      "    Sentimiento  Sentimiento_num  \n",
      "0       neutral                1  \n",
      "1      positivo                2  \n",
      "2       neutral                1  \n",
      "3       neutral                1  \n",
      "4       neutral                1  \n",
      "..          ...              ...  \n",
      "813    positivo                2  \n",
      "814     neutral                1  \n",
      "815     neutral                1  \n",
      "816     neutral                1  \n",
      "817     neutral                1  \n",
      "\n",
      "[818 rows x 16 columns]\n"
     ]
    }
   ],
   "source": [
    "# Vectorizamos los comentarios usando TF-IDF\n",
    "vectorizer = TfidfVectorizer(max_features=5000, stop_words=spanish_stop_words)\n",
    "X_train_tfidf = vectorizer.fit_transform(X_train)\n",
    "X_val_tfidf = vectorizer.transform(X_val)\n",
    "X_test_tfidf = vectorizer.transform(data_test['Comentario'])\n",
    "print(data_train)"
   ]
  },
  {
   "cell_type": "markdown",
   "metadata": {},
   "source": [
    "#### Entrenamiento del modelo"
   ]
  },
  {
   "cell_type": "code",
   "execution_count": 32,
   "metadata": {},
   "outputs": [
    {
     "name": "stdout",
     "output_type": "stream",
     "text": [
      "              precision    recall  f1-score   support\n",
      "\n",
      "    negativo       0.00      0.00      0.00         4\n",
      "     neutral       0.85      0.96      0.90       122\n",
      "    positivo       0.78      0.55      0.65        38\n",
      "\n",
      "    accuracy                           0.84       164\n",
      "   macro avg       0.54      0.50      0.52       164\n",
      "weighted avg       0.82      0.84      0.82       164\n",
      "\n"
     ]
    },
    {
     "name": "stderr",
     "output_type": "stream",
     "text": [
      "c:\\Users\\jaide\\Documents\\Traveler-Insights\\.venv\\Lib\\site-packages\\sklearn\\metrics\\_classification.py:1531: UndefinedMetricWarning: Precision is ill-defined and being set to 0.0 in labels with no predicted samples. Use `zero_division` parameter to control this behavior.\n",
      "  _warn_prf(average, modifier, f\"{metric.capitalize()} is\", len(result))\n",
      "c:\\Users\\jaide\\Documents\\Traveler-Insights\\.venv\\Lib\\site-packages\\sklearn\\metrics\\_classification.py:1531: UndefinedMetricWarning: Precision is ill-defined and being set to 0.0 in labels with no predicted samples. Use `zero_division` parameter to control this behavior.\n",
      "  _warn_prf(average, modifier, f\"{metric.capitalize()} is\", len(result))\n",
      "c:\\Users\\jaide\\Documents\\Traveler-Insights\\.venv\\Lib\\site-packages\\sklearn\\metrics\\_classification.py:1531: UndefinedMetricWarning: Precision is ill-defined and being set to 0.0 in labels with no predicted samples. Use `zero_division` parameter to control this behavior.\n",
      "  _warn_prf(average, modifier, f\"{metric.capitalize()} is\", len(result))\n"
     ]
    }
   ],
   "source": [
    "modelo = RandomForestClassifier(random_state=42, n_estimators=100)\n",
    "modelo.fit(X_train_tfidf, y_train)\n",
    "y_val_pred = modelo.predict(X_val_tfidf)\n",
    "validation_report = classification_report(y_val, y_val_pred, target_names=['negativo', 'neutral', 'positivo'])\n",
    "print(validation_report)"
   ]
  },
  {
   "cell_type": "code",
   "execution_count": 33,
   "metadata": {},
   "outputs": [
    {
     "name": "stdout",
     "output_type": "stream",
     "text": [
      "Exactitud general en el conjunto de validación: 0.84%\n"
     ]
    }
   ],
   "source": [
    "# Evaluar el modelo en el conjunto de validación\n",
    "y_val_pred = modelo.predict(X_val_tfidf)\n",
    "\n",
    "# Calculo de exactitud general\n",
    "accuracy = accuracy_score(y_val, y_val_pred)\n",
    "print(f\"Exactitud general en el conjunto de validación: {accuracy:.2f}%\")"
   ]
  },
  {
   "cell_type": "code",
   "execution_count": 34,
   "metadata": {},
   "outputs": [
    {
     "name": "stdout",
     "output_type": "stream",
     "text": [
      "['neutral' 'neutral' 'neutral' 'neutral' 'positivo' 'neutral' 'neutral'\n",
      " 'neutral' 'neutral' 'neutral' 'neutral' 'neutral' 'neutral' 'neutral'\n",
      " 'positivo' 'neutral' 'neutral' 'neutral' 'neutral' 'neutral' 'neutral'\n",
      " 'neutral' 'neutral' 'neutral' 'neutral' 'neutral' 'neutral' 'positivo'\n",
      " 'positivo' 'neutral' 'neutral' 'neutral' 'neutral' 'positivo' 'neutral'\n",
      " 'neutral' 'neutral' 'neutral' 'neutral' 'neutral' 'neutral' 'neutral'\n",
      " 'neutral' 'neutral' 'neutral' 'positivo' 'neutral' 'neutral' 'neutral'\n",
      " 'neutral' 'neutral' 'neutral' 'neutral' 'neutral' 'neutral' 'neutral'\n",
      " 'neutral' 'neutral' 'positivo' 'neutral' 'neutral' 'neutral' 'neutral'\n",
      " 'neutral' 'neutral' 'neutral' 'neutral' 'neutral' 'neutral' 'neutral'\n",
      " 'neutral' 'neutral' 'neutral' 'neutral' 'neutral' 'neutral' 'neutral'\n",
      " 'neutral' 'positivo' 'positivo' 'neutral' 'neutral' 'neutral' 'neutral'\n",
      " 'neutral' 'positivo' 'neutral' 'neutral' 'neutral' 'neutral' 'neutral'\n",
      " 'neutral' 'neutral' 'neutral' 'neutral' 'neutral' 'neutral' 'neutral'\n",
      " 'neutral' 'neutral' 'neutral' 'neutral' 'neutral' 'neutral' 'neutral'\n",
      " 'neutral' 'neutral' 'neutral' 'positivo' 'neutral' 'neutral' 'neutral'\n",
      " 'neutral' 'neutral' 'neutral' 'neutral' 'neutral' 'neutral' 'neutral'\n",
      " 'positivo' 'neutral' 'neutral' 'neutral' 'neutral' 'neutral' 'neutral'\n",
      " 'positivo' 'neutral' 'neutral']\n"
     ]
    }
   ],
   "source": [
    "# Generar predicciones para el conjunto de prueba\n",
    "test_predictions = modelo.predict(X_test_tfidf)\n",
    "print(test_predictions)"
   ]
  },
  {
   "cell_type": "code",
   "execution_count": 35,
   "metadata": {},
   "outputs": [
    {
     "name": "stdout",
     "output_type": "stream",
     "text": [
      "0      1\n",
      "1      1\n",
      "2      1\n",
      "3      1\n",
      "4      2\n",
      "      ..\n",
      "124    1\n",
      "125    1\n",
      "126    2\n",
      "127    1\n",
      "128    1\n",
      "Name: Sentimiento, Length: 129, dtype: int64\n"
     ]
    }
   ],
   "source": [
    "data_test['Sentimiento'] = test_predictions\n",
    "data_test['Sentimiento'] = data_test['Sentimiento'].map({'negativo':0, 'neutral' :1, 'positivo' :2})\n",
    "print(data_test['Sentimiento'])"
   ]
  },
  {
   "cell_type": "code",
   "execution_count": 36,
   "metadata": {},
   "outputs": [
    {
     "data": {
      "text/plain": [
       "'submission_data.csv'"
      ]
     },
     "execution_count": 36,
     "metadata": {},
     "output_type": "execute_result"
    }
   ],
   "source": [
    "# Crear el archivo de envío\n",
    "data_submission = data_test[['ID', 'Sentimiento']].head(129)\n",
    "output_path = 'submission_data.csv'\n",
    "data_submission.to_csv(output_path, index=False)\n",
    "output_path"
   ]
  }
 ],
 "metadata": {
  "kernelspec": {
   "display_name": ".venv",
   "language": "python",
   "name": "python3"
  },
  "language_info": {
   "codemirror_mode": {
    "name": "ipython",
    "version": 3
   },
   "file_extension": ".py",
   "mimetype": "text/x-python",
   "name": "python",
   "nbconvert_exporter": "python",
   "pygments_lexer": "ipython3",
   "version": "3.11.9"
  }
 },
 "nbformat": 4,
 "nbformat_minor": 2
}
