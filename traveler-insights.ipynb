{
 "cells": [
  {
   "cell_type": "markdown",
   "metadata": {},
   "source": [
    "# **Traveler Insights**"
   ]
  },
  {
   "cell_type": "markdown",
   "metadata": {},
   "source": [
    "A medida que el turismo se vuelve cada vez más digital y las reseñas en línea influyen fuertemente en las decisiones de viaje, las plataformas digitales juegan un papel crucial en la comprensión de las preferencias y comportamientos de los turistas. A través de Traveler Insights, tu misión es desarrollar un modelo capaz de clasificar el sentimiento de estas reseñas en tres categorías principales: positivo, neutral o negativo. Esta tarea es clave para ayudar a la industria turística a comprender mejor las emociones de los visitantes, permitiéndoles adaptar sus ofertas para mejorar las experiencias y optimizar sus servicios."
   ]
  },
  {
   "cell_type": "markdown",
   "metadata": {},
   "source": [
    "Participantes:\n",
    "\n",
    "Daniel Isaías Cruz González\n",
    "\n",
    "Jaider Castilla Babilonia"
   ]
  },
  {
   "cell_type": "markdown",
   "metadata": {},
   "source": [
    "# Librerías Python"
   ]
  },
  {
   "cell_type": "markdown",
   "metadata": {},
   "source": [
    "---"
   ]
  },
  {
   "cell_type": "code",
   "execution_count": 37,
   "metadata": {},
   "outputs": [],
   "source": [
    "# Importando librerias\n",
    "import pandas as pd\n",
    "import numpy as np\n",
    "import seaborn as sns\n",
    "import matplotlib.pyplot as plt\n",
    "import plotly.express as px\n",
    "\n",
    "# ML\n"
   ]
  },
  {
   "cell_type": "markdown",
   "metadata": {},
   "source": [
    "# Contenido de datos\n",
    "\n",
    "*\n",
    "*\n",
    "*\n",
    "*"
   ]
  },
  {
   "cell_type": "markdown",
   "metadata": {},
   "source": [
    "# Lectura y Análisis de los datos"
   ]
  },
  {
   "cell_type": "markdown",
   "metadata": {},
   "source": [
    "---"
   ]
  },
  {
   "cell_type": "code",
   "execution_count": 10,
   "metadata": {
    "scrolled": true
   },
   "outputs": [
    {
     "data": {
      "text/html": [
       "<div>\n",
       "<style scoped>\n",
       "    .dataframe tbody tr th:only-of-type {\n",
       "        vertical-align: middle;\n",
       "    }\n",
       "\n",
       "    .dataframe tbody tr th {\n",
       "        vertical-align: top;\n",
       "    }\n",
       "\n",
       "    .dataframe thead th {\n",
       "        text-align: right;\n",
       "    }\n",
       "</style>\n",
       "<table border=\"1\" class=\"dataframe\">\n",
       "  <thead>\n",
       "    <tr style=\"text-align: right;\">\n",
       "      <th></th>\n",
       "      <th>ID</th>\n",
       "      <th>Sitio</th>\n",
       "      <th>Índice del lugar</th>\n",
       "      <th>Nombre del lugar</th>\n",
       "      <th>Enlace del lugar</th>\n",
       "      <th>Municipio</th>\n",
       "      <th>Valoración</th>\n",
       "      <th>Valoraciones</th>\n",
       "      <th>Precio</th>\n",
       "      <th>Comentario</th>\n",
       "      <th>Fecha</th>\n",
       "      <th>Votos a favor</th>\n",
       "      <th>Votos en contra</th>\n",
       "      <th>Valoración_num</th>\n",
       "      <th>Sentimiento</th>\n",
       "    </tr>\n",
       "  </thead>\n",
       "  <tbody>\n",
       "    <tr>\n",
       "      <th>0</th>\n",
       "      <td>380</td>\n",
       "      <td>Tripadvisor</td>\n",
       "      <td>50</td>\n",
       "      <td>Isla Múcura</td>\n",
       "      <td>https://www.tripadvisor.co/Attraction_Review-g...</td>\n",
       "      <td>San Onofre</td>\n",
       "      <td>4.5/5</td>\n",
       "      <td>281</td>\n",
       "      <td>Precio Desconocido</td>\n",
       "      <td>La isla es muy hermosa y tiene unas aguas muy ...</td>\n",
       "      <td>24 de agosto de 2017</td>\n",
       "      <td>0</td>\n",
       "      <td>0</td>\n",
       "      <td>4.5</td>\n",
       "      <td>neutral</td>\n",
       "    </tr>\n",
       "    <tr>\n",
       "      <th>1</th>\n",
       "      <td>196</td>\n",
       "      <td>Foursquare</td>\n",
       "      <td>30</td>\n",
       "      <td>Doki's comidas rápidas (Majagual)</td>\n",
       "      <td>https://es.foursquare.com/v/dokis-comidas-r%C3...</td>\n",
       "      <td>Sincelejo</td>\n",
       "      <td>7.4/10</td>\n",
       "      <td>13 valoraciones</td>\n",
       "      <td>$</td>\n",
       "      <td>Lahamburguesa de polloy elpatacónDoki, son del...</td>\n",
       "      <td>Abril 12, 2015</td>\n",
       "      <td>0</td>\n",
       "      <td>0</td>\n",
       "      <td>7.4</td>\n",
       "      <td>positivo</td>\n",
       "    </tr>\n",
       "    <tr>\n",
       "      <th>2</th>\n",
       "      <td>723</td>\n",
       "      <td>Tripadvisor</td>\n",
       "      <td>56</td>\n",
       "      <td>Playa la Coquerita</td>\n",
       "      <td>https://www.tripadvisor.co/Attraction_Review-g...</td>\n",
       "      <td>Coveñas</td>\n",
       "      <td>4.0/5</td>\n",
       "      <td>28</td>\n",
       "      <td>Precio Desconocido</td>\n",
       "      <td>La playa es preciosa, de aguas mansas y playas...</td>\n",
       "      <td>14 de febrero de 2020</td>\n",
       "      <td>0</td>\n",
       "      <td>0</td>\n",
       "      <td>4.0</td>\n",
       "      <td>neutral</td>\n",
       "    </tr>\n",
       "    <tr>\n",
       "      <th>3</th>\n",
       "      <td>522</td>\n",
       "      <td>Tripadvisor</td>\n",
       "      <td>50</td>\n",
       "      <td>Isla Múcura</td>\n",
       "      <td>https://www.tripadvisor.co/Attraction_Review-g...</td>\n",
       "      <td>San Onofre</td>\n",
       "      <td>4.5/5</td>\n",
       "      <td>281</td>\n",
       "      <td>Precio Desconocido</td>\n",
       "      <td>es un paraíso de playa Para llegar a la isla l...</td>\n",
       "      <td>3 de octubre de 2012</td>\n",
       "      <td>0</td>\n",
       "      <td>0</td>\n",
       "      <td>4.5</td>\n",
       "      <td>neutral</td>\n",
       "    </tr>\n",
       "    <tr>\n",
       "      <th>4</th>\n",
       "      <td>1126</td>\n",
       "      <td>Tripadvisor</td>\n",
       "      <td>74</td>\n",
       "      <td>Covenas Diving Co.</td>\n",
       "      <td>https://www.tripadvisor.co/Attraction_Review-g...</td>\n",
       "      <td>Coveñas</td>\n",
       "      <td>5.0/5</td>\n",
       "      <td>259</td>\n",
       "      <td>Precio Desconocido</td>\n",
       "      <td>Es muy buena escuela de buceo; excelente los l...</td>\n",
       "      <td>4 de marzo de 2018</td>\n",
       "      <td>0</td>\n",
       "      <td>0</td>\n",
       "      <td>5.0</td>\n",
       "      <td>neutral</td>\n",
       "    </tr>\n",
       "  </tbody>\n",
       "</table>\n",
       "</div>"
      ],
      "text/plain": [
       "     ID        Sitio  Índice del lugar                   Nombre del lugar  \\\n",
       "0   380  Tripadvisor                50                        Isla Múcura   \n",
       "1   196   Foursquare                30  Doki's comidas rápidas (Majagual)   \n",
       "2   723  Tripadvisor                56                 Playa la Coquerita   \n",
       "3   522  Tripadvisor                50                        Isla Múcura   \n",
       "4  1126  Tripadvisor                74                 Covenas Diving Co.   \n",
       "\n",
       "                                    Enlace del lugar    Municipio Valoración  \\\n",
       "0  https://www.tripadvisor.co/Attraction_Review-g...   San Onofre      4.5/5   \n",
       "1  https://es.foursquare.com/v/dokis-comidas-r%C3...    Sincelejo     7.4/10   \n",
       "2  https://www.tripadvisor.co/Attraction_Review-g...      Coveñas      4.0/5   \n",
       "3  https://www.tripadvisor.co/Attraction_Review-g...   San Onofre      4.5/5   \n",
       "4  https://www.tripadvisor.co/Attraction_Review-g...      Coveñas      5.0/5   \n",
       "\n",
       "      Valoraciones              Precio  \\\n",
       "0              281  Precio Desconocido   \n",
       "1  13 valoraciones                   $   \n",
       "2               28  Precio Desconocido   \n",
       "3              281  Precio Desconocido   \n",
       "4              259  Precio Desconocido   \n",
       "\n",
       "                                          Comentario                  Fecha  \\\n",
       "0  La isla es muy hermosa y tiene unas aguas muy ...   24 de agosto de 2017   \n",
       "1  Lahamburguesa de polloy elpatacónDoki, son del...         Abril 12, 2015   \n",
       "2  La playa es preciosa, de aguas mansas y playas...  14 de febrero de 2020   \n",
       "3  es un paraíso de playa Para llegar a la isla l...   3 de octubre de 2012   \n",
       "4  Es muy buena escuela de buceo; excelente los l...     4 de marzo de 2018   \n",
       "\n",
       "   Votos a favor  Votos en contra  Valoración_num Sentimiento  \n",
       "0              0                0             4.5     neutral  \n",
       "1              0                0             7.4    positivo  \n",
       "2              0                0             4.0     neutral  \n",
       "3              0                0             4.5     neutral  \n",
       "4              0                0             5.0     neutral  "
      ]
     },
     "execution_count": 10,
     "metadata": {},
     "output_type": "execute_result"
    }
   ],
   "source": [
    "# Carga del dataset \"TRAIN\"\n",
    "data_train = pd.read_csv('dataset/train.csv')\n",
    "data_train.head(5)"
   ]
  },
  {
   "cell_type": "code",
   "execution_count": 11,
   "metadata": {},
   "outputs": [
    {
     "name": "stdout",
     "output_type": "stream",
     "text": [
      "<class 'pandas.core.frame.DataFrame'>\n",
      "RangeIndex: 818 entries, 0 to 817\n",
      "Data columns (total 15 columns):\n",
      " #   Column            Non-Null Count  Dtype  \n",
      "---  ------            --------------  -----  \n",
      " 0   ID                818 non-null    int64  \n",
      " 1   Sitio             818 non-null    object \n",
      " 2   Índice del lugar  818 non-null    int64  \n",
      " 3   Nombre del lugar  818 non-null    object \n",
      " 4   Enlace del lugar  817 non-null    object \n",
      " 5   Municipio         818 non-null    object \n",
      " 6   Valoración        818 non-null    object \n",
      " 7   Valoraciones      818 non-null    object \n",
      " 8   Precio            818 non-null    object \n",
      " 9   Comentario        818 non-null    object \n",
      " 10  Fecha             818 non-null    object \n",
      " 11  Votos a favor     818 non-null    int64  \n",
      " 12  Votos en contra   818 non-null    int64  \n",
      " 13  Valoración_num    818 non-null    float64\n",
      " 14  Sentimiento       818 non-null    object \n",
      "dtypes: float64(1), int64(4), object(10)\n",
      "memory usage: 96.0+ KB\n"
     ]
    }
   ],
   "source": [
    "data_train.info()"
   ]
  },
  {
   "cell_type": "code",
   "execution_count": 12,
   "metadata": {
    "scrolled": true
   },
   "outputs": [
    {
     "data": {
      "text/html": [
       "<div>\n",
       "<style scoped>\n",
       "    .dataframe tbody tr th:only-of-type {\n",
       "        vertical-align: middle;\n",
       "    }\n",
       "\n",
       "    .dataframe tbody tr th {\n",
       "        vertical-align: top;\n",
       "    }\n",
       "\n",
       "    .dataframe thead th {\n",
       "        text-align: right;\n",
       "    }\n",
       "</style>\n",
       "<table border=\"1\" class=\"dataframe\">\n",
       "  <thead>\n",
       "    <tr style=\"text-align: right;\">\n",
       "      <th></th>\n",
       "      <th>ID</th>\n",
       "      <th>Sitio</th>\n",
       "      <th>Índice del lugar</th>\n",
       "      <th>Nombre del lugar</th>\n",
       "      <th>Enlace del lugar</th>\n",
       "      <th>Municipio</th>\n",
       "      <th>Valoración</th>\n",
       "      <th>Valoraciones</th>\n",
       "      <th>Precio</th>\n",
       "      <th>Comentario</th>\n",
       "      <th>Fecha</th>\n",
       "      <th>Votos a favor</th>\n",
       "      <th>Votos en contra</th>\n",
       "      <th>Valoración_num</th>\n",
       "      <th>Sentimiento</th>\n",
       "    </tr>\n",
       "  </thead>\n",
       "  <tbody>\n",
       "    <tr>\n",
       "      <th>0</th>\n",
       "      <td>56</td>\n",
       "      <td>Foursquare</td>\n",
       "      <td>2</td>\n",
       "      <td>Playas de Coveñas</td>\n",
       "      <td>https://es.foursquare.com/v/playas-de-cove%C3%...</td>\n",
       "      <td>Coveñas</td>\n",
       "      <td>8.8/10</td>\n",
       "      <td>241 valoraciones</td>\n",
       "      <td>Precio Desconocido</td>\n",
       "      <td>Un lugar para vacacionar? Coveñas es relax total!</td>\n",
       "      <td>Noviembre 3, 2012</td>\n",
       "      <td>4</td>\n",
       "      <td>0</td>\n",
       "      <td>8.8</td>\n",
       "      <td>positivo</td>\n",
       "    </tr>\n",
       "    <tr>\n",
       "      <th>1</th>\n",
       "      <td>1083</td>\n",
       "      <td>Tripadvisor</td>\n",
       "      <td>74</td>\n",
       "      <td>Covenas Diving Co.</td>\n",
       "      <td>https://www.tripadvisor.co/Attraction_Review-g...</td>\n",
       "      <td>Coveñas</td>\n",
       "      <td>5.0/5</td>\n",
       "      <td>259</td>\n",
       "      <td>Precio Desconocido</td>\n",
       "      <td>De regalo del Día del Padre me regalaron esta ...</td>\n",
       "      <td>5 de julio de 2019</td>\n",
       "      <td>2</td>\n",
       "      <td>0</td>\n",
       "      <td>5.0</td>\n",
       "      <td>neutral</td>\n",
       "    </tr>\n",
       "    <tr>\n",
       "      <th>2</th>\n",
       "      <td>262</td>\n",
       "      <td>Foursquare</td>\n",
       "      <td>43</td>\n",
       "      <td>Nonnina Pizza</td>\n",
       "      <td>https://foursquare.com/v/nonnina-pizza/4d17ec0...</td>\n",
       "      <td>Sincelejo</td>\n",
       "      <td>6.8/10</td>\n",
       "      <td>12 valoraciones</td>\n",
       "      <td>$</td>\n",
       "      <td>Recomiendo las pastas con tocineta, son realme...</td>\n",
       "      <td>Enero 15, 2014</td>\n",
       "      <td>0</td>\n",
       "      <td>0</td>\n",
       "      <td>6.8</td>\n",
       "      <td>neutral</td>\n",
       "    </tr>\n",
       "    <tr>\n",
       "      <th>3</th>\n",
       "      <td>447</td>\n",
       "      <td>Tripadvisor</td>\n",
       "      <td>50</td>\n",
       "      <td>Isla Múcura</td>\n",
       "      <td>https://www.tripadvisor.co/Attraction_Review-g...</td>\n",
       "      <td>San Onofre</td>\n",
       "      <td>4.5/5</td>\n",
       "      <td>281</td>\n",
       "      <td>Precio Desconocido</td>\n",
       "      <td>Increíble! Precioso lugar para descansar, muy ...</td>\n",
       "      <td>20 de febrero de 2015</td>\n",
       "      <td>0</td>\n",
       "      <td>0</td>\n",
       "      <td>4.5</td>\n",
       "      <td>neutral</td>\n",
       "    </tr>\n",
       "    <tr>\n",
       "      <th>4</th>\n",
       "      <td>59</td>\n",
       "      <td>Foursquare</td>\n",
       "      <td>2</td>\n",
       "      <td>Playas de Coveñas</td>\n",
       "      <td>https://es.foursquare.com/v/playas-de-cove%C3%...</td>\n",
       "      <td>Coveñas</td>\n",
       "      <td>8.8/10</td>\n",
       "      <td>241 valoraciones</td>\n",
       "      <td>Precio Desconocido</td>\n",
       "      <td>Muy bueno deli .</td>\n",
       "      <td>Noviembre 21, 2013</td>\n",
       "      <td>1</td>\n",
       "      <td>0</td>\n",
       "      <td>8.8</td>\n",
       "      <td>positivo</td>\n",
       "    </tr>\n",
       "  </tbody>\n",
       "</table>\n",
       "</div>"
      ],
      "text/plain": [
       "     ID        Sitio  Índice del lugar    Nombre del lugar  \\\n",
       "0    56   Foursquare                 2   Playas de Coveñas   \n",
       "1  1083  Tripadvisor                74  Covenas Diving Co.   \n",
       "2   262   Foursquare                43       Nonnina Pizza   \n",
       "3   447  Tripadvisor                50         Isla Múcura   \n",
       "4    59   Foursquare                 2   Playas de Coveñas   \n",
       "\n",
       "                                    Enlace del lugar    Municipio Valoración  \\\n",
       "0  https://es.foursquare.com/v/playas-de-cove%C3%...      Coveñas     8.8/10   \n",
       "1  https://www.tripadvisor.co/Attraction_Review-g...      Coveñas      5.0/5   \n",
       "2  https://foursquare.com/v/nonnina-pizza/4d17ec0...    Sincelejo     6.8/10   \n",
       "3  https://www.tripadvisor.co/Attraction_Review-g...   San Onofre      4.5/5   \n",
       "4  https://es.foursquare.com/v/playas-de-cove%C3%...      Coveñas     8.8/10   \n",
       "\n",
       "       Valoraciones              Precio  \\\n",
       "0  241 valoraciones  Precio Desconocido   \n",
       "1               259  Precio Desconocido   \n",
       "2   12 valoraciones                   $   \n",
       "3               281  Precio Desconocido   \n",
       "4  241 valoraciones  Precio Desconocido   \n",
       "\n",
       "                                          Comentario                  Fecha  \\\n",
       "0  Un lugar para vacacionar? Coveñas es relax total!      Noviembre 3, 2012   \n",
       "1  De regalo del Día del Padre me regalaron esta ...     5 de julio de 2019   \n",
       "2  Recomiendo las pastas con tocineta, son realme...         Enero 15, 2014   \n",
       "3  Increíble! Precioso lugar para descansar, muy ...  20 de febrero de 2015   \n",
       "4                                   Muy bueno deli .     Noviembre 21, 2013   \n",
       "\n",
       "   Votos a favor  Votos en contra  Valoración_num Sentimiento  \n",
       "0              4                0             8.8    positivo  \n",
       "1              2                0             5.0     neutral  \n",
       "2              0                0             6.8     neutral  \n",
       "3              0                0             4.5     neutral  \n",
       "4              1                0             8.8    positivo  "
      ]
     },
     "execution_count": 12,
     "metadata": {},
     "output_type": "execute_result"
    }
   ],
   "source": [
    "# Carga del dataset \"TEST\"\n",
    "data_test = pd.read_csv('dataset/test.csv')\n",
    "data_test.head(5)"
   ]
  },
  {
   "cell_type": "code",
   "execution_count": 13,
   "metadata": {
    "scrolled": true
   },
   "outputs": [
    {
     "name": "stdout",
     "output_type": "stream",
     "text": [
      "<class 'pandas.core.frame.DataFrame'>\n",
      "RangeIndex: 818 entries, 0 to 817\n",
      "Data columns (total 15 columns):\n",
      " #   Column            Non-Null Count  Dtype  \n",
      "---  ------            --------------  -----  \n",
      " 0   ID                818 non-null    int64  \n",
      " 1   Sitio             818 non-null    object \n",
      " 2   Índice del lugar  818 non-null    int64  \n",
      " 3   Nombre del lugar  818 non-null    object \n",
      " 4   Enlace del lugar  817 non-null    object \n",
      " 5   Municipio         818 non-null    object \n",
      " 6   Valoración        818 non-null    object \n",
      " 7   Valoraciones      818 non-null    object \n",
      " 8   Precio            818 non-null    object \n",
      " 9   Comentario        818 non-null    object \n",
      " 10  Fecha             818 non-null    object \n",
      " 11  Votos a favor     818 non-null    int64  \n",
      " 12  Votos en contra   818 non-null    int64  \n",
      " 13  Valoración_num    818 non-null    float64\n",
      " 14  Sentimiento       818 non-null    object \n",
      "dtypes: float64(1), int64(4), object(10)\n",
      "memory usage: 96.0+ KB\n"
     ]
    }
   ],
   "source": [
    "data_train.info()"
   ]
  },
  {
   "cell_type": "markdown",
   "metadata": {},
   "source": [
    "#### ANÁLISIS DE NULOS"
   ]
  },
  {
   "cell_type": "code",
   "execution_count": 15,
   "metadata": {},
   "outputs": [
    {
     "name": "stdout",
     "output_type": "stream",
     "text": [
      "número total de registros nulos en \"train\" : 1\n",
      "número total de registros nulos en \"test\" : 0\n"
     ]
    }
   ],
   "source": [
    "#total_nulos_train = \n",
    "print(f\"número total de registros nulos en \\\"train\\\" : {data_train.isnull().sum().sum()}\")\n",
    "#total_nulos_test = \n",
    "print(f\"número total de registros nulos en \\\"test\\\" : {data_test.isnull().sum().sum()}\")\n",
    "#nulos_por_columna = df.isnull().sum()\n",
    "#nulos_por_columna"
   ]
  },
  {
   "cell_type": "code",
   "execution_count": 16,
   "metadata": {},
   "outputs": [
    {
     "data": {
      "text/plain": [
       "ID                  0\n",
       "Sitio               0\n",
       "Índice del lugar    0\n",
       "Nombre del lugar    0\n",
       "Enlace del lugar    1\n",
       "Municipio           0\n",
       "Valoración          0\n",
       "Valoraciones        0\n",
       "Precio              0\n",
       "Comentario          0\n",
       "Fecha               0\n",
       "Votos a favor       0\n",
       "Votos en contra     0\n",
       "Valoración_num      0\n",
       "Sentimiento         0\n",
       "dtype: int64"
      ]
     },
     "execution_count": 16,
     "metadata": {},
     "output_type": "execute_result"
    }
   ],
   "source": [
    "nulos_por_columna = data_train.isnull().sum()\n",
    "nulos_por_columna"
   ]
  },
  {
   "cell_type": "code",
   "execution_count": 17,
   "metadata": {},
   "outputs": [
    {
     "data": {
      "text/plain": [
       "ID                  0\n",
       "Sitio               0\n",
       "Índice del lugar    0\n",
       "Nombre del lugar    0\n",
       "Enlace del lugar    0\n",
       "Municipio           0\n",
       "Valoración          0\n",
       "Valoraciones        0\n",
       "Precio              0\n",
       "Comentario          0\n",
       "Fecha               0\n",
       "Votos a favor       0\n",
       "Votos en contra     0\n",
       "Valoración_num      0\n",
       "Sentimiento         0\n",
       "dtype: int64"
      ]
     },
     "execution_count": 17,
     "metadata": {},
     "output_type": "execute_result"
    }
   ],
   "source": [
    "nulos_por_columna = data_test.isnull().sum()\n",
    "nulos_por_columna"
   ]
  },
  {
   "cell_type": "markdown",
   "metadata": {},
   "source": [
    "**Conclusión:** El único dataset que posee valores nulos es el de entrenamiento. Sin embargo, la característica dónde se encuentre dicho valor nulo (\"Enlace del lugar\") es prescindible para el análisis. Por lo que se procederá a eliminar dicha característica de ambos dataset.\n"
   ]
  },
  {
   "cell_type": "code",
   "execution_count": 19,
   "metadata": {},
   "outputs": [],
   "source": [
    "data_train = data_train.drop(\"Enlace del lugar\", axis=1)\n",
    "data_test = data_test.drop(\"Enlace del lugar\", axis=1)"
   ]
  },
  {
   "cell_type": "code",
   "execution_count": 20,
   "metadata": {
    "scrolled": true
   },
   "outputs": [
    {
     "data": {
      "text/html": [
       "<div>\n",
       "<style scoped>\n",
       "    .dataframe tbody tr th:only-of-type {\n",
       "        vertical-align: middle;\n",
       "    }\n",
       "\n",
       "    .dataframe tbody tr th {\n",
       "        vertical-align: top;\n",
       "    }\n",
       "\n",
       "    .dataframe thead th {\n",
       "        text-align: right;\n",
       "    }\n",
       "</style>\n",
       "<table border=\"1\" class=\"dataframe\">\n",
       "  <thead>\n",
       "    <tr style=\"text-align: right;\">\n",
       "      <th></th>\n",
       "      <th>ID</th>\n",
       "      <th>Sitio</th>\n",
       "      <th>Índice del lugar</th>\n",
       "      <th>Nombre del lugar</th>\n",
       "      <th>Municipio</th>\n",
       "      <th>Valoración</th>\n",
       "      <th>Valoraciones</th>\n",
       "      <th>Precio</th>\n",
       "      <th>Comentario</th>\n",
       "      <th>Fecha</th>\n",
       "      <th>Votos a favor</th>\n",
       "      <th>Votos en contra</th>\n",
       "      <th>Valoración_num</th>\n",
       "      <th>Sentimiento</th>\n",
       "    </tr>\n",
       "  </thead>\n",
       "  <tbody>\n",
       "    <tr>\n",
       "      <th>0</th>\n",
       "      <td>380</td>\n",
       "      <td>Tripadvisor</td>\n",
       "      <td>50</td>\n",
       "      <td>Isla Múcura</td>\n",
       "      <td>San Onofre</td>\n",
       "      <td>4.5/5</td>\n",
       "      <td>281</td>\n",
       "      <td>Precio Desconocido</td>\n",
       "      <td>La isla es muy hermosa y tiene unas aguas muy ...</td>\n",
       "      <td>24 de agosto de 2017</td>\n",
       "      <td>0</td>\n",
       "      <td>0</td>\n",
       "      <td>4.5</td>\n",
       "      <td>neutral</td>\n",
       "    </tr>\n",
       "    <tr>\n",
       "      <th>1</th>\n",
       "      <td>196</td>\n",
       "      <td>Foursquare</td>\n",
       "      <td>30</td>\n",
       "      <td>Doki's comidas rápidas (Majagual)</td>\n",
       "      <td>Sincelejo</td>\n",
       "      <td>7.4/10</td>\n",
       "      <td>13 valoraciones</td>\n",
       "      <td>$</td>\n",
       "      <td>Lahamburguesa de polloy elpatacónDoki, son del...</td>\n",
       "      <td>Abril 12, 2015</td>\n",
       "      <td>0</td>\n",
       "      <td>0</td>\n",
       "      <td>7.4</td>\n",
       "      <td>positivo</td>\n",
       "    </tr>\n",
       "    <tr>\n",
       "      <th>2</th>\n",
       "      <td>723</td>\n",
       "      <td>Tripadvisor</td>\n",
       "      <td>56</td>\n",
       "      <td>Playa la Coquerita</td>\n",
       "      <td>Coveñas</td>\n",
       "      <td>4.0/5</td>\n",
       "      <td>28</td>\n",
       "      <td>Precio Desconocido</td>\n",
       "      <td>La playa es preciosa, de aguas mansas y playas...</td>\n",
       "      <td>14 de febrero de 2020</td>\n",
       "      <td>0</td>\n",
       "      <td>0</td>\n",
       "      <td>4.0</td>\n",
       "      <td>neutral</td>\n",
       "    </tr>\n",
       "    <tr>\n",
       "      <th>3</th>\n",
       "      <td>522</td>\n",
       "      <td>Tripadvisor</td>\n",
       "      <td>50</td>\n",
       "      <td>Isla Múcura</td>\n",
       "      <td>San Onofre</td>\n",
       "      <td>4.5/5</td>\n",
       "      <td>281</td>\n",
       "      <td>Precio Desconocido</td>\n",
       "      <td>es un paraíso de playa Para llegar a la isla l...</td>\n",
       "      <td>3 de octubre de 2012</td>\n",
       "      <td>0</td>\n",
       "      <td>0</td>\n",
       "      <td>4.5</td>\n",
       "      <td>neutral</td>\n",
       "    </tr>\n",
       "    <tr>\n",
       "      <th>4</th>\n",
       "      <td>1126</td>\n",
       "      <td>Tripadvisor</td>\n",
       "      <td>74</td>\n",
       "      <td>Covenas Diving Co.</td>\n",
       "      <td>Coveñas</td>\n",
       "      <td>5.0/5</td>\n",
       "      <td>259</td>\n",
       "      <td>Precio Desconocido</td>\n",
       "      <td>Es muy buena escuela de buceo; excelente los l...</td>\n",
       "      <td>4 de marzo de 2018</td>\n",
       "      <td>0</td>\n",
       "      <td>0</td>\n",
       "      <td>5.0</td>\n",
       "      <td>neutral</td>\n",
       "    </tr>\n",
       "  </tbody>\n",
       "</table>\n",
       "</div>"
      ],
      "text/plain": [
       "     ID        Sitio  Índice del lugar                   Nombre del lugar  \\\n",
       "0   380  Tripadvisor                50                        Isla Múcura   \n",
       "1   196   Foursquare                30  Doki's comidas rápidas (Majagual)   \n",
       "2   723  Tripadvisor                56                 Playa la Coquerita   \n",
       "3   522  Tripadvisor                50                        Isla Múcura   \n",
       "4  1126  Tripadvisor                74                 Covenas Diving Co.   \n",
       "\n",
       "     Municipio Valoración     Valoraciones              Precio  \\\n",
       "0   San Onofre      4.5/5              281  Precio Desconocido   \n",
       "1    Sincelejo     7.4/10  13 valoraciones                   $   \n",
       "2      Coveñas      4.0/5               28  Precio Desconocido   \n",
       "3   San Onofre      4.5/5              281  Precio Desconocido   \n",
       "4      Coveñas      5.0/5              259  Precio Desconocido   \n",
       "\n",
       "                                          Comentario                  Fecha  \\\n",
       "0  La isla es muy hermosa y tiene unas aguas muy ...   24 de agosto de 2017   \n",
       "1  Lahamburguesa de polloy elpatacónDoki, son del...         Abril 12, 2015   \n",
       "2  La playa es preciosa, de aguas mansas y playas...  14 de febrero de 2020   \n",
       "3  es un paraíso de playa Para llegar a la isla l...   3 de octubre de 2012   \n",
       "4  Es muy buena escuela de buceo; excelente los l...     4 de marzo de 2018   \n",
       "\n",
       "   Votos a favor  Votos en contra  Valoración_num Sentimiento  \n",
       "0              0                0             4.5     neutral  \n",
       "1              0                0             7.4    positivo  \n",
       "2              0                0             4.0     neutral  \n",
       "3              0                0             4.5     neutral  \n",
       "4              0                0             5.0     neutral  "
      ]
     },
     "execution_count": 20,
     "metadata": {},
     "output_type": "execute_result"
    }
   ],
   "source": [
    "data_train.head()"
   ]
  },
  {
   "cell_type": "code",
   "execution_count": 21,
   "metadata": {
    "scrolled": true
   },
   "outputs": [
    {
     "data": {
      "text/html": [
       "<div>\n",
       "<style scoped>\n",
       "    .dataframe tbody tr th:only-of-type {\n",
       "        vertical-align: middle;\n",
       "    }\n",
       "\n",
       "    .dataframe tbody tr th {\n",
       "        vertical-align: top;\n",
       "    }\n",
       "\n",
       "    .dataframe thead th {\n",
       "        text-align: right;\n",
       "    }\n",
       "</style>\n",
       "<table border=\"1\" class=\"dataframe\">\n",
       "  <thead>\n",
       "    <tr style=\"text-align: right;\">\n",
       "      <th></th>\n",
       "      <th>ID</th>\n",
       "      <th>Sitio</th>\n",
       "      <th>Índice del lugar</th>\n",
       "      <th>Nombre del lugar</th>\n",
       "      <th>Municipio</th>\n",
       "      <th>Valoración</th>\n",
       "      <th>Valoraciones</th>\n",
       "      <th>Precio</th>\n",
       "      <th>Comentario</th>\n",
       "      <th>Fecha</th>\n",
       "      <th>Votos a favor</th>\n",
       "      <th>Votos en contra</th>\n",
       "      <th>Valoración_num</th>\n",
       "      <th>Sentimiento</th>\n",
       "    </tr>\n",
       "  </thead>\n",
       "  <tbody>\n",
       "    <tr>\n",
       "      <th>0</th>\n",
       "      <td>56</td>\n",
       "      <td>Foursquare</td>\n",
       "      <td>2</td>\n",
       "      <td>Playas de Coveñas</td>\n",
       "      <td>Coveñas</td>\n",
       "      <td>8.8/10</td>\n",
       "      <td>241 valoraciones</td>\n",
       "      <td>Precio Desconocido</td>\n",
       "      <td>Un lugar para vacacionar? Coveñas es relax total!</td>\n",
       "      <td>Noviembre 3, 2012</td>\n",
       "      <td>4</td>\n",
       "      <td>0</td>\n",
       "      <td>8.8</td>\n",
       "      <td>positivo</td>\n",
       "    </tr>\n",
       "    <tr>\n",
       "      <th>1</th>\n",
       "      <td>1083</td>\n",
       "      <td>Tripadvisor</td>\n",
       "      <td>74</td>\n",
       "      <td>Covenas Diving Co.</td>\n",
       "      <td>Coveñas</td>\n",
       "      <td>5.0/5</td>\n",
       "      <td>259</td>\n",
       "      <td>Precio Desconocido</td>\n",
       "      <td>De regalo del Día del Padre me regalaron esta ...</td>\n",
       "      <td>5 de julio de 2019</td>\n",
       "      <td>2</td>\n",
       "      <td>0</td>\n",
       "      <td>5.0</td>\n",
       "      <td>neutral</td>\n",
       "    </tr>\n",
       "    <tr>\n",
       "      <th>2</th>\n",
       "      <td>262</td>\n",
       "      <td>Foursquare</td>\n",
       "      <td>43</td>\n",
       "      <td>Nonnina Pizza</td>\n",
       "      <td>Sincelejo</td>\n",
       "      <td>6.8/10</td>\n",
       "      <td>12 valoraciones</td>\n",
       "      <td>$</td>\n",
       "      <td>Recomiendo las pastas con tocineta, son realme...</td>\n",
       "      <td>Enero 15, 2014</td>\n",
       "      <td>0</td>\n",
       "      <td>0</td>\n",
       "      <td>6.8</td>\n",
       "      <td>neutral</td>\n",
       "    </tr>\n",
       "    <tr>\n",
       "      <th>3</th>\n",
       "      <td>447</td>\n",
       "      <td>Tripadvisor</td>\n",
       "      <td>50</td>\n",
       "      <td>Isla Múcura</td>\n",
       "      <td>San Onofre</td>\n",
       "      <td>4.5/5</td>\n",
       "      <td>281</td>\n",
       "      <td>Precio Desconocido</td>\n",
       "      <td>Increíble! Precioso lugar para descansar, muy ...</td>\n",
       "      <td>20 de febrero de 2015</td>\n",
       "      <td>0</td>\n",
       "      <td>0</td>\n",
       "      <td>4.5</td>\n",
       "      <td>neutral</td>\n",
       "    </tr>\n",
       "    <tr>\n",
       "      <th>4</th>\n",
       "      <td>59</td>\n",
       "      <td>Foursquare</td>\n",
       "      <td>2</td>\n",
       "      <td>Playas de Coveñas</td>\n",
       "      <td>Coveñas</td>\n",
       "      <td>8.8/10</td>\n",
       "      <td>241 valoraciones</td>\n",
       "      <td>Precio Desconocido</td>\n",
       "      <td>Muy bueno deli .</td>\n",
       "      <td>Noviembre 21, 2013</td>\n",
       "      <td>1</td>\n",
       "      <td>0</td>\n",
       "      <td>8.8</td>\n",
       "      <td>positivo</td>\n",
       "    </tr>\n",
       "  </tbody>\n",
       "</table>\n",
       "</div>"
      ],
      "text/plain": [
       "     ID        Sitio  Índice del lugar    Nombre del lugar    Municipio  \\\n",
       "0    56   Foursquare                 2   Playas de Coveñas      Coveñas   \n",
       "1  1083  Tripadvisor                74  Covenas Diving Co.      Coveñas   \n",
       "2   262   Foursquare                43       Nonnina Pizza    Sincelejo   \n",
       "3   447  Tripadvisor                50         Isla Múcura   San Onofre   \n",
       "4    59   Foursquare                 2   Playas de Coveñas      Coveñas   \n",
       "\n",
       "  Valoración      Valoraciones              Precio  \\\n",
       "0     8.8/10  241 valoraciones  Precio Desconocido   \n",
       "1      5.0/5               259  Precio Desconocido   \n",
       "2     6.8/10   12 valoraciones                   $   \n",
       "3      4.5/5               281  Precio Desconocido   \n",
       "4     8.8/10  241 valoraciones  Precio Desconocido   \n",
       "\n",
       "                                          Comentario                  Fecha  \\\n",
       "0  Un lugar para vacacionar? Coveñas es relax total!      Noviembre 3, 2012   \n",
       "1  De regalo del Día del Padre me regalaron esta ...     5 de julio de 2019   \n",
       "2  Recomiendo las pastas con tocineta, son realme...         Enero 15, 2014   \n",
       "3  Increíble! Precioso lugar para descansar, muy ...  20 de febrero de 2015   \n",
       "4                                   Muy bueno deli .     Noviembre 21, 2013   \n",
       "\n",
       "   Votos a favor  Votos en contra  Valoración_num Sentimiento  \n",
       "0              4                0             8.8    positivo  \n",
       "1              2                0             5.0     neutral  \n",
       "2              0                0             6.8     neutral  \n",
       "3              0                0             4.5     neutral  \n",
       "4              1                0             8.8    positivo  "
      ]
     },
     "execution_count": 21,
     "metadata": {},
     "output_type": "execute_result"
    }
   ],
   "source": [
    "data_test.head()"
   ]
  },
  {
   "cell_type": "markdown",
   "metadata": {},
   "source": [
    "#### ANÁLISIS DE VALORES ÚNICOS"
   ]
  },
  {
   "cell_type": "code",
   "execution_count": 23,
   "metadata": {
    "scrolled": true
   },
   "outputs": [
    {
     "name": "stdout",
     "output_type": "stream",
     "text": [
      "Columna 'ID' tiene 818 valores únicos.\n",
      "Columna 'Sitio' tiene 2 valores únicos.\n",
      "Columna 'Índice del lugar' tiene 69 valores únicos.\n",
      "Columna 'Nombre del lugar' tiene 73 valores únicos.\n",
      "Columna 'Municipio' tiene 9 valores únicos.\n",
      "Columna 'Valoración' tiene 23 valores únicos.\n",
      "Columna 'Valoraciones' tiene 43 valores únicos.\n",
      "Columna 'Precio' tiene 4 valores únicos.\n",
      "Columna 'Comentario' tiene 809 valores únicos.\n",
      "Columna 'Fecha' tiene 688 valores únicos.\n",
      "Columna 'Votos a favor' tiene 16 valores únicos.\n",
      "Columna 'Votos en contra' tiene 2 valores únicos.\n",
      "Columna 'Valoración_num' tiene 23 valores únicos.\n",
      "Columna 'Sentimiento' tiene 3 valores únicos.\n"
     ]
    }
   ],
   "source": [
    "# Analizar las columnas y sus valores\n",
    "for col in data_train.columns:\n",
    "    unique_vals = data_train[col].nunique()\n",
    "    print(f\"Columna '{col}' tiene {unique_vals} valores únicos.\")"
   ]
  },
  {
   "cell_type": "markdown",
   "metadata": {},
   "source": [
    "**Conclusiones:** Tomando como punto de partida lo que se nos solicita en el reto, decidimos que las siguientes carácterísticas no son relevantes en el análisis de sentimientos a las reseñas:\n",
    "\n",
    "* **ID** \n",
    "* **Sitio**\n",
    "* **Indice del lugar**\n",
    "* **Nombre del lugar**\n",
    "* **Municipio**\n",
    "* **Valoraciones**\n",
    "* **Precio**\n",
    "* **Fecha**\n",
    "* **Valoración_num**\n",
    "* ****"
   ]
  },
  {
   "cell_type": "markdown",
   "metadata": {},
   "source": [
    "#### EDA VARIABLES CATEGÓRICAS"
   ]
  },
  {
   "cell_type": "code",
   "execution_count": 29,
   "metadata": {
    "scrolled": true
   },
   "outputs": [
    {
     "name": "stdout",
     "output_type": "stream",
     "text": [
      "Columnas de lass variables categóricas:\n",
      " - Sitio\n",
      " - Nombre del lugar\n",
      " - Municipio\n",
      " - Valoración\n",
      " - Valoraciones\n",
      " - Precio\n",
      " - Comentario\n",
      " - Fecha\n",
      " - Sentimiento\n"
     ]
    }
   ],
   "source": [
    "categorical_cols = data_train.select_dtypes(include=['object']).columns.tolist()\n",
    "\n",
    "print(\"Columnas de lass variables categóricas:\")\n",
    "for col in categorical_cols:\n",
    "    print(\" -\",col)"
   ]
  },
  {
   "cell_type": "code",
   "execution_count": 41,
   "metadata": {},
   "outputs": [],
   "source": [
    "def graficos_eda_categoricos(cat):\n",
    "    \n",
    "    #Calculamos el número de filas que necesitamos\n",
    "    from math import ceil\n",
    "    filas = ceil(cat.shape[1] / 2)\n",
    "\n",
    "    #Definimos el gráfico\n",
    "    f, ax = plt.subplots(nrows = filas, ncols = 2, figsize = (16, filas * 6))\n",
    "\n",
    "    #Aplanamos para iterar por el gráfico como si fuera de 1 dimensión en lugar de 2\n",
    "    ax = ax.flat \n",
    "\n",
    "    #Creamos el bucle que va añadiendo gráficos\n",
    "    for cada, variable in enumerate(cat):\n",
    "        try:\n",
    "            cat[variable].value_counts().plot.barh(ax = ax[cada])\n",
    "            ax[cada].set_title(variable, fontsize = 12, fontweight = \"bold\")\n",
    "            ax[cada].tick_params(labelsize = 12)\n",
    "        except:\n",
    "            pass"
   ]
  },
  {
   "cell_type": "code",
   "execution_count": 43,
   "metadata": {
    "scrolled": true
   },
   "outputs": [
    {
     "name": "stdout",
     "output_type": "stream",
     "text": [
      "Error in callback <function _draw_all_if_interactive at 0x000002A20E4ECB80> (for post_execute), with arguments args (),kwargs {}:\n"
     ]
    },
    {
     "ename": "ValueError",
     "evalue": "\n$$\n^\nParseException: Expected end of text, found '$'  (at char 0), (line:1, col:1)",
     "output_type": "error",
     "traceback": [
      "\u001b[1;31m---------------------------------------------------------------------------\u001b[0m",
      "\u001b[1;31mValueError\u001b[0m                                Traceback (most recent call last)",
      "File \u001b[1;32m~\\anaconda3\\Lib\\site-packages\\matplotlib\\pyplot.py:197\u001b[0m, in \u001b[0;36m_draw_all_if_interactive\u001b[1;34m()\u001b[0m\n\u001b[0;32m    195\u001b[0m \u001b[38;5;28;01mdef\u001b[39;00m \u001b[38;5;21m_draw_all_if_interactive\u001b[39m() \u001b[38;5;241m-\u001b[39m\u001b[38;5;241m>\u001b[39m \u001b[38;5;28;01mNone\u001b[39;00m:\n\u001b[0;32m    196\u001b[0m     \u001b[38;5;28;01mif\u001b[39;00m matplotlib\u001b[38;5;241m.\u001b[39mis_interactive():\n\u001b[1;32m--> 197\u001b[0m         draw_all()\n",
      "File \u001b[1;32m~\\anaconda3\\Lib\\site-packages\\matplotlib\\_pylab_helpers.py:132\u001b[0m, in \u001b[0;36mGcf.draw_all\u001b[1;34m(cls, force)\u001b[0m\n\u001b[0;32m    130\u001b[0m \u001b[38;5;28;01mfor\u001b[39;00m manager \u001b[38;5;129;01min\u001b[39;00m \u001b[38;5;28mcls\u001b[39m\u001b[38;5;241m.\u001b[39mget_all_fig_managers():\n\u001b[0;32m    131\u001b[0m     \u001b[38;5;28;01mif\u001b[39;00m force \u001b[38;5;129;01mor\u001b[39;00m manager\u001b[38;5;241m.\u001b[39mcanvas\u001b[38;5;241m.\u001b[39mfigure\u001b[38;5;241m.\u001b[39mstale:\n\u001b[1;32m--> 132\u001b[0m         manager\u001b[38;5;241m.\u001b[39mcanvas\u001b[38;5;241m.\u001b[39mdraw_idle()\n",
      "File \u001b[1;32m~\\anaconda3\\Lib\\site-packages\\matplotlib\\backend_bases.py:1893\u001b[0m, in \u001b[0;36mFigureCanvasBase.draw_idle\u001b[1;34m(self, *args, **kwargs)\u001b[0m\n\u001b[0;32m   1891\u001b[0m \u001b[38;5;28;01mif\u001b[39;00m \u001b[38;5;129;01mnot\u001b[39;00m \u001b[38;5;28mself\u001b[39m\u001b[38;5;241m.\u001b[39m_is_idle_drawing:\n\u001b[0;32m   1892\u001b[0m     \u001b[38;5;28;01mwith\u001b[39;00m \u001b[38;5;28mself\u001b[39m\u001b[38;5;241m.\u001b[39m_idle_draw_cntx():\n\u001b[1;32m-> 1893\u001b[0m         \u001b[38;5;28mself\u001b[39m\u001b[38;5;241m.\u001b[39mdraw(\u001b[38;5;241m*\u001b[39margs, \u001b[38;5;241m*\u001b[39m\u001b[38;5;241m*\u001b[39mkwargs)\n",
      "File \u001b[1;32m~\\anaconda3\\Lib\\site-packages\\matplotlib\\backends\\backend_agg.py:388\u001b[0m, in \u001b[0;36mFigureCanvasAgg.draw\u001b[1;34m(self)\u001b[0m\n\u001b[0;32m    385\u001b[0m \u001b[38;5;66;03m# Acquire a lock on the shared font cache.\u001b[39;00m\n\u001b[0;32m    386\u001b[0m \u001b[38;5;28;01mwith\u001b[39;00m (\u001b[38;5;28mself\u001b[39m\u001b[38;5;241m.\u001b[39mtoolbar\u001b[38;5;241m.\u001b[39m_wait_cursor_for_draw_cm() \u001b[38;5;28;01mif\u001b[39;00m \u001b[38;5;28mself\u001b[39m\u001b[38;5;241m.\u001b[39mtoolbar\n\u001b[0;32m    387\u001b[0m       \u001b[38;5;28;01melse\u001b[39;00m nullcontext()):\n\u001b[1;32m--> 388\u001b[0m     \u001b[38;5;28mself\u001b[39m\u001b[38;5;241m.\u001b[39mfigure\u001b[38;5;241m.\u001b[39mdraw(\u001b[38;5;28mself\u001b[39m\u001b[38;5;241m.\u001b[39mrenderer)\n\u001b[0;32m    389\u001b[0m     \u001b[38;5;66;03m# A GUI class may be need to update a window using this draw, so\u001b[39;00m\n\u001b[0;32m    390\u001b[0m     \u001b[38;5;66;03m# don't forget to call the superclass.\u001b[39;00m\n\u001b[0;32m    391\u001b[0m     \u001b[38;5;28msuper\u001b[39m()\u001b[38;5;241m.\u001b[39mdraw()\n",
      "File \u001b[1;32m~\\anaconda3\\Lib\\site-packages\\matplotlib\\artist.py:95\u001b[0m, in \u001b[0;36m_finalize_rasterization.<locals>.draw_wrapper\u001b[1;34m(artist, renderer, *args, **kwargs)\u001b[0m\n\u001b[0;32m     93\u001b[0m \u001b[38;5;129m@wraps\u001b[39m(draw)\n\u001b[0;32m     94\u001b[0m \u001b[38;5;28;01mdef\u001b[39;00m \u001b[38;5;21mdraw_wrapper\u001b[39m(artist, renderer, \u001b[38;5;241m*\u001b[39margs, \u001b[38;5;241m*\u001b[39m\u001b[38;5;241m*\u001b[39mkwargs):\n\u001b[1;32m---> 95\u001b[0m     result \u001b[38;5;241m=\u001b[39m draw(artist, renderer, \u001b[38;5;241m*\u001b[39margs, \u001b[38;5;241m*\u001b[39m\u001b[38;5;241m*\u001b[39mkwargs)\n\u001b[0;32m     96\u001b[0m     \u001b[38;5;28;01mif\u001b[39;00m renderer\u001b[38;5;241m.\u001b[39m_rasterizing:\n\u001b[0;32m     97\u001b[0m         renderer\u001b[38;5;241m.\u001b[39mstop_rasterizing()\n",
      "File \u001b[1;32m~\\anaconda3\\Lib\\site-packages\\matplotlib\\artist.py:72\u001b[0m, in \u001b[0;36mallow_rasterization.<locals>.draw_wrapper\u001b[1;34m(artist, renderer)\u001b[0m\n\u001b[0;32m     69\u001b[0m     \u001b[38;5;28;01mif\u001b[39;00m artist\u001b[38;5;241m.\u001b[39mget_agg_filter() \u001b[38;5;129;01mis\u001b[39;00m \u001b[38;5;129;01mnot\u001b[39;00m \u001b[38;5;28;01mNone\u001b[39;00m:\n\u001b[0;32m     70\u001b[0m         renderer\u001b[38;5;241m.\u001b[39mstart_filter()\n\u001b[1;32m---> 72\u001b[0m     \u001b[38;5;28;01mreturn\u001b[39;00m draw(artist, renderer)\n\u001b[0;32m     73\u001b[0m \u001b[38;5;28;01mfinally\u001b[39;00m:\n\u001b[0;32m     74\u001b[0m     \u001b[38;5;28;01mif\u001b[39;00m artist\u001b[38;5;241m.\u001b[39mget_agg_filter() \u001b[38;5;129;01mis\u001b[39;00m \u001b[38;5;129;01mnot\u001b[39;00m \u001b[38;5;28;01mNone\u001b[39;00m:\n",
      "File \u001b[1;32m~\\anaconda3\\Lib\\site-packages\\matplotlib\\figure.py:3154\u001b[0m, in \u001b[0;36mFigure.draw\u001b[1;34m(self, renderer)\u001b[0m\n\u001b[0;32m   3151\u001b[0m         \u001b[38;5;66;03m# ValueError can occur when resizing a window.\u001b[39;00m\n\u001b[0;32m   3153\u001b[0m \u001b[38;5;28mself\u001b[39m\u001b[38;5;241m.\u001b[39mpatch\u001b[38;5;241m.\u001b[39mdraw(renderer)\n\u001b[1;32m-> 3154\u001b[0m mimage\u001b[38;5;241m.\u001b[39m_draw_list_compositing_images(\n\u001b[0;32m   3155\u001b[0m     renderer, \u001b[38;5;28mself\u001b[39m, artists, \u001b[38;5;28mself\u001b[39m\u001b[38;5;241m.\u001b[39msuppressComposite)\n\u001b[0;32m   3157\u001b[0m \u001b[38;5;28;01mfor\u001b[39;00m sfig \u001b[38;5;129;01min\u001b[39;00m \u001b[38;5;28mself\u001b[39m\u001b[38;5;241m.\u001b[39msubfigs:\n\u001b[0;32m   3158\u001b[0m     sfig\u001b[38;5;241m.\u001b[39mdraw(renderer)\n",
      "File \u001b[1;32m~\\anaconda3\\Lib\\site-packages\\matplotlib\\image.py:132\u001b[0m, in \u001b[0;36m_draw_list_compositing_images\u001b[1;34m(renderer, parent, artists, suppress_composite)\u001b[0m\n\u001b[0;32m    130\u001b[0m \u001b[38;5;28;01mif\u001b[39;00m not_composite \u001b[38;5;129;01mor\u001b[39;00m \u001b[38;5;129;01mnot\u001b[39;00m has_images:\n\u001b[0;32m    131\u001b[0m     \u001b[38;5;28;01mfor\u001b[39;00m a \u001b[38;5;129;01min\u001b[39;00m artists:\n\u001b[1;32m--> 132\u001b[0m         a\u001b[38;5;241m.\u001b[39mdraw(renderer)\n\u001b[0;32m    133\u001b[0m \u001b[38;5;28;01melse\u001b[39;00m:\n\u001b[0;32m    134\u001b[0m     \u001b[38;5;66;03m# Composite any adjacent images together\u001b[39;00m\n\u001b[0;32m    135\u001b[0m     image_group \u001b[38;5;241m=\u001b[39m []\n",
      "File \u001b[1;32m~\\anaconda3\\Lib\\site-packages\\matplotlib\\artist.py:72\u001b[0m, in \u001b[0;36mallow_rasterization.<locals>.draw_wrapper\u001b[1;34m(artist, renderer)\u001b[0m\n\u001b[0;32m     69\u001b[0m     \u001b[38;5;28;01mif\u001b[39;00m artist\u001b[38;5;241m.\u001b[39mget_agg_filter() \u001b[38;5;129;01mis\u001b[39;00m \u001b[38;5;129;01mnot\u001b[39;00m \u001b[38;5;28;01mNone\u001b[39;00m:\n\u001b[0;32m     70\u001b[0m         renderer\u001b[38;5;241m.\u001b[39mstart_filter()\n\u001b[1;32m---> 72\u001b[0m     \u001b[38;5;28;01mreturn\u001b[39;00m draw(artist, renderer)\n\u001b[0;32m     73\u001b[0m \u001b[38;5;28;01mfinally\u001b[39;00m:\n\u001b[0;32m     74\u001b[0m     \u001b[38;5;28;01mif\u001b[39;00m artist\u001b[38;5;241m.\u001b[39mget_agg_filter() \u001b[38;5;129;01mis\u001b[39;00m \u001b[38;5;129;01mnot\u001b[39;00m \u001b[38;5;28;01mNone\u001b[39;00m:\n",
      "File \u001b[1;32m~\\anaconda3\\Lib\\site-packages\\matplotlib\\axes\\_base.py:3034\u001b[0m, in \u001b[0;36m_AxesBase.draw\u001b[1;34m(self, renderer)\u001b[0m\n\u001b[0;32m   3031\u001b[0m     \u001b[38;5;28;01mfor\u001b[39;00m spine \u001b[38;5;129;01min\u001b[39;00m \u001b[38;5;28mself\u001b[39m\u001b[38;5;241m.\u001b[39mspines\u001b[38;5;241m.\u001b[39mvalues():\n\u001b[0;32m   3032\u001b[0m         artists\u001b[38;5;241m.\u001b[39mremove(spine)\n\u001b[1;32m-> 3034\u001b[0m \u001b[38;5;28mself\u001b[39m\u001b[38;5;241m.\u001b[39m_update_title_position(renderer)\n\u001b[0;32m   3036\u001b[0m \u001b[38;5;28;01mif\u001b[39;00m \u001b[38;5;129;01mnot\u001b[39;00m \u001b[38;5;28mself\u001b[39m\u001b[38;5;241m.\u001b[39maxison:\n\u001b[0;32m   3037\u001b[0m     \u001b[38;5;28;01mfor\u001b[39;00m _axis \u001b[38;5;129;01min\u001b[39;00m \u001b[38;5;28mself\u001b[39m\u001b[38;5;241m.\u001b[39m_axis_map\u001b[38;5;241m.\u001b[39mvalues():\n",
      "File \u001b[1;32m~\\anaconda3\\Lib\\site-packages\\matplotlib\\axes\\_base.py:2978\u001b[0m, in \u001b[0;36m_AxesBase._update_title_position\u001b[1;34m(self, renderer)\u001b[0m\n\u001b[0;32m   2976\u001b[0m top \u001b[38;5;241m=\u001b[39m \u001b[38;5;28mmax\u001b[39m(top, bb\u001b[38;5;241m.\u001b[39mymax)\n\u001b[0;32m   2977\u001b[0m \u001b[38;5;28;01mif\u001b[39;00m title\u001b[38;5;241m.\u001b[39mget_text():\n\u001b[1;32m-> 2978\u001b[0m     ax\u001b[38;5;241m.\u001b[39myaxis\u001b[38;5;241m.\u001b[39mget_tightbbox(renderer)  \u001b[38;5;66;03m# update offsetText\u001b[39;00m\n\u001b[0;32m   2979\u001b[0m     \u001b[38;5;28;01mif\u001b[39;00m ax\u001b[38;5;241m.\u001b[39myaxis\u001b[38;5;241m.\u001b[39moffsetText\u001b[38;5;241m.\u001b[39mget_text():\n\u001b[0;32m   2980\u001b[0m         bb \u001b[38;5;241m=\u001b[39m ax\u001b[38;5;241m.\u001b[39myaxis\u001b[38;5;241m.\u001b[39moffsetText\u001b[38;5;241m.\u001b[39mget_tightbbox(renderer)\n",
      "File \u001b[1;32m~\\anaconda3\\Lib\\site-packages\\matplotlib\\axis.py:1336\u001b[0m, in \u001b[0;36mAxis.get_tightbbox\u001b[1;34m(self, renderer, for_layout_only)\u001b[0m\n\u001b[0;32m   1333\u001b[0m     renderer \u001b[38;5;241m=\u001b[39m \u001b[38;5;28mself\u001b[39m\u001b[38;5;241m.\u001b[39mfigure\u001b[38;5;241m.\u001b[39m_get_renderer()\n\u001b[0;32m   1334\u001b[0m ticks_to_draw \u001b[38;5;241m=\u001b[39m \u001b[38;5;28mself\u001b[39m\u001b[38;5;241m.\u001b[39m_update_ticks()\n\u001b[1;32m-> 1336\u001b[0m \u001b[38;5;28mself\u001b[39m\u001b[38;5;241m.\u001b[39m_update_label_position(renderer)\n\u001b[0;32m   1338\u001b[0m \u001b[38;5;66;03m# go back to just this axis's tick labels\u001b[39;00m\n\u001b[0;32m   1339\u001b[0m tlb1, tlb2 \u001b[38;5;241m=\u001b[39m \u001b[38;5;28mself\u001b[39m\u001b[38;5;241m.\u001b[39m_get_ticklabel_bboxes(ticks_to_draw, renderer)\n",
      "File \u001b[1;32m~\\anaconda3\\Lib\\site-packages\\matplotlib\\axis.py:2609\u001b[0m, in \u001b[0;36mYAxis._update_label_position\u001b[1;34m(self, renderer)\u001b[0m\n\u001b[0;32m   2605\u001b[0m     \u001b[38;5;28;01mreturn\u001b[39;00m\n\u001b[0;32m   2607\u001b[0m \u001b[38;5;66;03m# get bounding boxes for this axis and any siblings\u001b[39;00m\n\u001b[0;32m   2608\u001b[0m \u001b[38;5;66;03m# that have been set by `fig.align_ylabels()`\u001b[39;00m\n\u001b[1;32m-> 2609\u001b[0m bboxes, bboxes2 \u001b[38;5;241m=\u001b[39m \u001b[38;5;28mself\u001b[39m\u001b[38;5;241m.\u001b[39m_get_tick_boxes_siblings(renderer\u001b[38;5;241m=\u001b[39mrenderer)\n\u001b[0;32m   2610\u001b[0m x, y \u001b[38;5;241m=\u001b[39m \u001b[38;5;28mself\u001b[39m\u001b[38;5;241m.\u001b[39mlabel\u001b[38;5;241m.\u001b[39mget_position()\n\u001b[0;32m   2611\u001b[0m \u001b[38;5;28;01mif\u001b[39;00m \u001b[38;5;28mself\u001b[39m\u001b[38;5;241m.\u001b[39mlabel_position \u001b[38;5;241m==\u001b[39m \u001b[38;5;124m'\u001b[39m\u001b[38;5;124mleft\u001b[39m\u001b[38;5;124m'\u001b[39m:\n",
      "File \u001b[1;32m~\\anaconda3\\Lib\\site-packages\\matplotlib\\axis.py:2161\u001b[0m, in \u001b[0;36mAxis._get_tick_boxes_siblings\u001b[1;34m(self, renderer)\u001b[0m\n\u001b[0;32m   2159\u001b[0m axis \u001b[38;5;241m=\u001b[39m ax\u001b[38;5;241m.\u001b[39m_axis_map[name]\n\u001b[0;32m   2160\u001b[0m ticks_to_draw \u001b[38;5;241m=\u001b[39m axis\u001b[38;5;241m.\u001b[39m_update_ticks()\n\u001b[1;32m-> 2161\u001b[0m tlb, tlb2 \u001b[38;5;241m=\u001b[39m axis\u001b[38;5;241m.\u001b[39m_get_ticklabel_bboxes(ticks_to_draw, renderer)\n\u001b[0;32m   2162\u001b[0m bboxes\u001b[38;5;241m.\u001b[39mextend(tlb)\n\u001b[0;32m   2163\u001b[0m bboxes2\u001b[38;5;241m.\u001b[39mextend(tlb2)\n",
      "File \u001b[1;32m~\\anaconda3\\Lib\\site-packages\\matplotlib\\axis.py:1315\u001b[0m, in \u001b[0;36mAxis._get_ticklabel_bboxes\u001b[1;34m(self, ticks, renderer)\u001b[0m\n\u001b[0;32m   1313\u001b[0m \u001b[38;5;28;01mif\u001b[39;00m renderer \u001b[38;5;129;01mis\u001b[39;00m \u001b[38;5;28;01mNone\u001b[39;00m:\n\u001b[0;32m   1314\u001b[0m     renderer \u001b[38;5;241m=\u001b[39m \u001b[38;5;28mself\u001b[39m\u001b[38;5;241m.\u001b[39mfigure\u001b[38;5;241m.\u001b[39m_get_renderer()\n\u001b[1;32m-> 1315\u001b[0m \u001b[38;5;28;01mreturn\u001b[39;00m ([tick\u001b[38;5;241m.\u001b[39mlabel1\u001b[38;5;241m.\u001b[39mget_window_extent(renderer)\n\u001b[0;32m   1316\u001b[0m          \u001b[38;5;28;01mfor\u001b[39;00m tick \u001b[38;5;129;01min\u001b[39;00m ticks \u001b[38;5;28;01mif\u001b[39;00m tick\u001b[38;5;241m.\u001b[39mlabel1\u001b[38;5;241m.\u001b[39mget_visible()],\n\u001b[0;32m   1317\u001b[0m         [tick\u001b[38;5;241m.\u001b[39mlabel2\u001b[38;5;241m.\u001b[39mget_window_extent(renderer)\n\u001b[0;32m   1318\u001b[0m          \u001b[38;5;28;01mfor\u001b[39;00m tick \u001b[38;5;129;01min\u001b[39;00m ticks \u001b[38;5;28;01mif\u001b[39;00m tick\u001b[38;5;241m.\u001b[39mlabel2\u001b[38;5;241m.\u001b[39mget_visible()])\n",
      "File \u001b[1;32m~\\anaconda3\\Lib\\site-packages\\matplotlib\\axis.py:1315\u001b[0m, in \u001b[0;36m<listcomp>\u001b[1;34m(.0)\u001b[0m\n\u001b[0;32m   1313\u001b[0m \u001b[38;5;28;01mif\u001b[39;00m renderer \u001b[38;5;129;01mis\u001b[39;00m \u001b[38;5;28;01mNone\u001b[39;00m:\n\u001b[0;32m   1314\u001b[0m     renderer \u001b[38;5;241m=\u001b[39m \u001b[38;5;28mself\u001b[39m\u001b[38;5;241m.\u001b[39mfigure\u001b[38;5;241m.\u001b[39m_get_renderer()\n\u001b[1;32m-> 1315\u001b[0m \u001b[38;5;28;01mreturn\u001b[39;00m ([tick\u001b[38;5;241m.\u001b[39mlabel1\u001b[38;5;241m.\u001b[39mget_window_extent(renderer)\n\u001b[0;32m   1316\u001b[0m          \u001b[38;5;28;01mfor\u001b[39;00m tick \u001b[38;5;129;01min\u001b[39;00m ticks \u001b[38;5;28;01mif\u001b[39;00m tick\u001b[38;5;241m.\u001b[39mlabel1\u001b[38;5;241m.\u001b[39mget_visible()],\n\u001b[0;32m   1317\u001b[0m         [tick\u001b[38;5;241m.\u001b[39mlabel2\u001b[38;5;241m.\u001b[39mget_window_extent(renderer)\n\u001b[0;32m   1318\u001b[0m          \u001b[38;5;28;01mfor\u001b[39;00m tick \u001b[38;5;129;01min\u001b[39;00m ticks \u001b[38;5;28;01mif\u001b[39;00m tick\u001b[38;5;241m.\u001b[39mlabel2\u001b[38;5;241m.\u001b[39mget_visible()])\n",
      "File \u001b[1;32m~\\anaconda3\\Lib\\site-packages\\matplotlib\\text.py:956\u001b[0m, in \u001b[0;36mText.get_window_extent\u001b[1;34m(self, renderer, dpi)\u001b[0m\n\u001b[0;32m    951\u001b[0m     \u001b[38;5;28;01mraise\u001b[39;00m \u001b[38;5;167;01mRuntimeError\u001b[39;00m(\n\u001b[0;32m    952\u001b[0m         \u001b[38;5;124m\"\u001b[39m\u001b[38;5;124mCannot get window extent of text w/o renderer. You likely \u001b[39m\u001b[38;5;124m\"\u001b[39m\n\u001b[0;32m    953\u001b[0m         \u001b[38;5;124m\"\u001b[39m\u001b[38;5;124mwant to call \u001b[39m\u001b[38;5;124m'\u001b[39m\u001b[38;5;124mfigure.draw_without_rendering()\u001b[39m\u001b[38;5;124m'\u001b[39m\u001b[38;5;124m first.\u001b[39m\u001b[38;5;124m\"\u001b[39m)\n\u001b[0;32m    955\u001b[0m \u001b[38;5;28;01mwith\u001b[39;00m cbook\u001b[38;5;241m.\u001b[39m_setattr_cm(\u001b[38;5;28mself\u001b[39m\u001b[38;5;241m.\u001b[39mfigure, dpi\u001b[38;5;241m=\u001b[39mdpi):\n\u001b[1;32m--> 956\u001b[0m     bbox, info, descent \u001b[38;5;241m=\u001b[39m \u001b[38;5;28mself\u001b[39m\u001b[38;5;241m.\u001b[39m_get_layout(\u001b[38;5;28mself\u001b[39m\u001b[38;5;241m.\u001b[39m_renderer)\n\u001b[0;32m    957\u001b[0m     x, y \u001b[38;5;241m=\u001b[39m \u001b[38;5;28mself\u001b[39m\u001b[38;5;241m.\u001b[39mget_unitless_position()\n\u001b[0;32m    958\u001b[0m     x, y \u001b[38;5;241m=\u001b[39m \u001b[38;5;28mself\u001b[39m\u001b[38;5;241m.\u001b[39mget_transform()\u001b[38;5;241m.\u001b[39mtransform((x, y))\n",
      "File \u001b[1;32m~\\anaconda3\\Lib\\site-packages\\matplotlib\\text.py:381\u001b[0m, in \u001b[0;36mText._get_layout\u001b[1;34m(self, renderer)\u001b[0m\n\u001b[0;32m    379\u001b[0m clean_line, ismath \u001b[38;5;241m=\u001b[39m \u001b[38;5;28mself\u001b[39m\u001b[38;5;241m.\u001b[39m_preprocess_math(line)\n\u001b[0;32m    380\u001b[0m \u001b[38;5;28;01mif\u001b[39;00m clean_line:\n\u001b[1;32m--> 381\u001b[0m     w, h, d \u001b[38;5;241m=\u001b[39m _get_text_metrics_with_cache(\n\u001b[0;32m    382\u001b[0m         renderer, clean_line, \u001b[38;5;28mself\u001b[39m\u001b[38;5;241m.\u001b[39m_fontproperties,\n\u001b[0;32m    383\u001b[0m         ismath\u001b[38;5;241m=\u001b[39mismath, dpi\u001b[38;5;241m=\u001b[39m\u001b[38;5;28mself\u001b[39m\u001b[38;5;241m.\u001b[39mfigure\u001b[38;5;241m.\u001b[39mdpi)\n\u001b[0;32m    384\u001b[0m \u001b[38;5;28;01melse\u001b[39;00m:\n\u001b[0;32m    385\u001b[0m     w \u001b[38;5;241m=\u001b[39m h \u001b[38;5;241m=\u001b[39m d \u001b[38;5;241m=\u001b[39m \u001b[38;5;241m0\u001b[39m\n",
      "File \u001b[1;32m~\\anaconda3\\Lib\\site-packages\\matplotlib\\text.py:69\u001b[0m, in \u001b[0;36m_get_text_metrics_with_cache\u001b[1;34m(renderer, text, fontprop, ismath, dpi)\u001b[0m\n\u001b[0;32m     66\u001b[0m \u001b[38;5;250m\u001b[39m\u001b[38;5;124;03m\"\"\"Call ``renderer.get_text_width_height_descent``, caching the results.\"\"\"\u001b[39;00m\n\u001b[0;32m     67\u001b[0m \u001b[38;5;66;03m# Cached based on a copy of fontprop so that later in-place mutations of\u001b[39;00m\n\u001b[0;32m     68\u001b[0m \u001b[38;5;66;03m# the passed-in argument do not mess up the cache.\u001b[39;00m\n\u001b[1;32m---> 69\u001b[0m \u001b[38;5;28;01mreturn\u001b[39;00m _get_text_metrics_with_cache_impl(\n\u001b[0;32m     70\u001b[0m     weakref\u001b[38;5;241m.\u001b[39mref(renderer), text, fontprop\u001b[38;5;241m.\u001b[39mcopy(), ismath, dpi)\n",
      "File \u001b[1;32m~\\anaconda3\\Lib\\site-packages\\matplotlib\\text.py:77\u001b[0m, in \u001b[0;36m_get_text_metrics_with_cache_impl\u001b[1;34m(renderer_ref, text, fontprop, ismath, dpi)\u001b[0m\n\u001b[0;32m     73\u001b[0m \u001b[38;5;129m@functools\u001b[39m\u001b[38;5;241m.\u001b[39mlru_cache(\u001b[38;5;241m4096\u001b[39m)\n\u001b[0;32m     74\u001b[0m \u001b[38;5;28;01mdef\u001b[39;00m \u001b[38;5;21m_get_text_metrics_with_cache_impl\u001b[39m(\n\u001b[0;32m     75\u001b[0m         renderer_ref, text, fontprop, ismath, dpi):\n\u001b[0;32m     76\u001b[0m     \u001b[38;5;66;03m# dpi is unused, but participates in cache invalidation (via the renderer).\u001b[39;00m\n\u001b[1;32m---> 77\u001b[0m     \u001b[38;5;28;01mreturn\u001b[39;00m renderer_ref()\u001b[38;5;241m.\u001b[39mget_text_width_height_descent(text, fontprop, ismath)\n",
      "File \u001b[1;32m~\\anaconda3\\Lib\\site-packages\\matplotlib\\backends\\backend_agg.py:217\u001b[0m, in \u001b[0;36mRendererAgg.get_text_width_height_descent\u001b[1;34m(self, s, prop, ismath)\u001b[0m\n\u001b[0;32m    213\u001b[0m     \u001b[38;5;28;01mreturn\u001b[39;00m \u001b[38;5;28msuper\u001b[39m()\u001b[38;5;241m.\u001b[39mget_text_width_height_descent(s, prop, ismath)\n\u001b[0;32m    215\u001b[0m \u001b[38;5;28;01mif\u001b[39;00m ismath:\n\u001b[0;32m    216\u001b[0m     ox, oy, width, height, descent, font_image \u001b[38;5;241m=\u001b[39m \\\n\u001b[1;32m--> 217\u001b[0m         \u001b[38;5;28mself\u001b[39m\u001b[38;5;241m.\u001b[39mmathtext_parser\u001b[38;5;241m.\u001b[39mparse(s, \u001b[38;5;28mself\u001b[39m\u001b[38;5;241m.\u001b[39mdpi, prop)\n\u001b[0;32m    218\u001b[0m     \u001b[38;5;28;01mreturn\u001b[39;00m width, height, descent\n\u001b[0;32m    220\u001b[0m font \u001b[38;5;241m=\u001b[39m \u001b[38;5;28mself\u001b[39m\u001b[38;5;241m.\u001b[39m_prepare_font(prop)\n",
      "File \u001b[1;32m~\\anaconda3\\Lib\\site-packages\\matplotlib\\mathtext.py:79\u001b[0m, in \u001b[0;36mMathTextParser.parse\u001b[1;34m(self, s, dpi, prop, antialiased)\u001b[0m\n\u001b[0;32m     77\u001b[0m prop \u001b[38;5;241m=\u001b[39m prop\u001b[38;5;241m.\u001b[39mcopy() \u001b[38;5;28;01mif\u001b[39;00m prop \u001b[38;5;129;01mis\u001b[39;00m \u001b[38;5;129;01mnot\u001b[39;00m \u001b[38;5;28;01mNone\u001b[39;00m \u001b[38;5;28;01melse\u001b[39;00m \u001b[38;5;28;01mNone\u001b[39;00m\n\u001b[0;32m     78\u001b[0m antialiased \u001b[38;5;241m=\u001b[39m mpl\u001b[38;5;241m.\u001b[39m_val_or_rc(antialiased, \u001b[38;5;124m'\u001b[39m\u001b[38;5;124mtext.antialiased\u001b[39m\u001b[38;5;124m'\u001b[39m)\n\u001b[1;32m---> 79\u001b[0m \u001b[38;5;28;01mreturn\u001b[39;00m \u001b[38;5;28mself\u001b[39m\u001b[38;5;241m.\u001b[39m_parse_cached(s, dpi, prop, antialiased)\n",
      "File \u001b[1;32m~\\anaconda3\\Lib\\site-packages\\matplotlib\\mathtext.py:100\u001b[0m, in \u001b[0;36mMathTextParser._parse_cached\u001b[1;34m(self, s, dpi, prop, antialiased)\u001b[0m\n\u001b[0;32m     97\u001b[0m \u001b[38;5;28;01mif\u001b[39;00m \u001b[38;5;28mself\u001b[39m\u001b[38;5;241m.\u001b[39m_parser \u001b[38;5;129;01mis\u001b[39;00m \u001b[38;5;28;01mNone\u001b[39;00m:  \u001b[38;5;66;03m# Cache the parser globally.\u001b[39;00m\n\u001b[0;32m     98\u001b[0m     \u001b[38;5;28mself\u001b[39m\u001b[38;5;241m.\u001b[39m\u001b[38;5;18m__class__\u001b[39m\u001b[38;5;241m.\u001b[39m_parser \u001b[38;5;241m=\u001b[39m _mathtext\u001b[38;5;241m.\u001b[39mParser()\n\u001b[1;32m--> 100\u001b[0m box \u001b[38;5;241m=\u001b[39m \u001b[38;5;28mself\u001b[39m\u001b[38;5;241m.\u001b[39m_parser\u001b[38;5;241m.\u001b[39mparse(s, fontset, fontsize, dpi)\n\u001b[0;32m    101\u001b[0m output \u001b[38;5;241m=\u001b[39m _mathtext\u001b[38;5;241m.\u001b[39mship(box)\n\u001b[0;32m    102\u001b[0m \u001b[38;5;28;01mif\u001b[39;00m \u001b[38;5;28mself\u001b[39m\u001b[38;5;241m.\u001b[39m_output_type \u001b[38;5;241m==\u001b[39m \u001b[38;5;124m\"\u001b[39m\u001b[38;5;124mvector\u001b[39m\u001b[38;5;124m\"\u001b[39m:\n",
      "File \u001b[1;32m~\\anaconda3\\Lib\\site-packages\\matplotlib\\_mathtext.py:2165\u001b[0m, in \u001b[0;36mParser.parse\u001b[1;34m(self, s, fonts_object, fontsize, dpi)\u001b[0m\n\u001b[0;32m   2162\u001b[0m     result \u001b[38;5;241m=\u001b[39m \u001b[38;5;28mself\u001b[39m\u001b[38;5;241m.\u001b[39m_expression\u001b[38;5;241m.\u001b[39mparseString(s)\n\u001b[0;32m   2163\u001b[0m \u001b[38;5;28;01mexcept\u001b[39;00m ParseBaseException \u001b[38;5;28;01mas\u001b[39;00m err:\n\u001b[0;32m   2164\u001b[0m     \u001b[38;5;66;03m# explain becomes a plain method on pyparsing 3 (err.explain(0)).\u001b[39;00m\n\u001b[1;32m-> 2165\u001b[0m     \u001b[38;5;28;01mraise\u001b[39;00m \u001b[38;5;167;01mValueError\u001b[39;00m(\u001b[38;5;124m\"\u001b[39m\u001b[38;5;130;01m\\n\u001b[39;00m\u001b[38;5;124m\"\u001b[39m \u001b[38;5;241m+\u001b[39m ParseException\u001b[38;5;241m.\u001b[39mexplain(err, \u001b[38;5;241m0\u001b[39m)) \u001b[38;5;28;01mfrom\u001b[39;00m \u001b[38;5;28;01mNone\u001b[39;00m\n\u001b[0;32m   2166\u001b[0m \u001b[38;5;28mself\u001b[39m\u001b[38;5;241m.\u001b[39m_state_stack \u001b[38;5;241m=\u001b[39m []\n\u001b[0;32m   2167\u001b[0m \u001b[38;5;28mself\u001b[39m\u001b[38;5;241m.\u001b[39m_in_subscript_or_superscript \u001b[38;5;241m=\u001b[39m \u001b[38;5;28;01mFalse\u001b[39;00m\n",
      "\u001b[1;31mValueError\u001b[0m: \n$$\n^\nParseException: Expected end of text, found '$'  (at char 0), (line:1, col:1)"
     ]
    },
    {
     "ename": "ValueError",
     "evalue": "\n$$\n^\nParseException: Expected end of text, found '$'  (at char 0), (line:1, col:1)",
     "output_type": "error",
     "traceback": [
      "\u001b[1;31m---------------------------------------------------------------------------\u001b[0m",
      "\u001b[1;31mValueError\u001b[0m                                Traceback (most recent call last)",
      "File \u001b[1;32m~\\anaconda3\\Lib\\site-packages\\IPython\\core\\formatters.py:340\u001b[0m, in \u001b[0;36mBaseFormatter.__call__\u001b[1;34m(self, obj)\u001b[0m\n\u001b[0;32m    338\u001b[0m     \u001b[38;5;28;01mpass\u001b[39;00m\n\u001b[0;32m    339\u001b[0m \u001b[38;5;28;01melse\u001b[39;00m:\n\u001b[1;32m--> 340\u001b[0m     \u001b[38;5;28;01mreturn\u001b[39;00m printer(obj)\n\u001b[0;32m    341\u001b[0m \u001b[38;5;66;03m# Finally look for special method names\u001b[39;00m\n\u001b[0;32m    342\u001b[0m method \u001b[38;5;241m=\u001b[39m get_real_method(obj, \u001b[38;5;28mself\u001b[39m\u001b[38;5;241m.\u001b[39mprint_method)\n",
      "File \u001b[1;32m~\\anaconda3\\Lib\\site-packages\\IPython\\core\\pylabtools.py:152\u001b[0m, in \u001b[0;36mprint_figure\u001b[1;34m(fig, fmt, bbox_inches, base64, **kwargs)\u001b[0m\n\u001b[0;32m    149\u001b[0m     \u001b[38;5;28;01mfrom\u001b[39;00m \u001b[38;5;21;01mmatplotlib\u001b[39;00m\u001b[38;5;21;01m.\u001b[39;00m\u001b[38;5;21;01mbackend_bases\u001b[39;00m \u001b[38;5;28;01mimport\u001b[39;00m FigureCanvasBase\n\u001b[0;32m    150\u001b[0m     FigureCanvasBase(fig)\n\u001b[1;32m--> 152\u001b[0m fig\u001b[38;5;241m.\u001b[39mcanvas\u001b[38;5;241m.\u001b[39mprint_figure(bytes_io, \u001b[38;5;241m*\u001b[39m\u001b[38;5;241m*\u001b[39mkw)\n\u001b[0;32m    153\u001b[0m data \u001b[38;5;241m=\u001b[39m bytes_io\u001b[38;5;241m.\u001b[39mgetvalue()\n\u001b[0;32m    154\u001b[0m \u001b[38;5;28;01mif\u001b[39;00m fmt \u001b[38;5;241m==\u001b[39m \u001b[38;5;124m'\u001b[39m\u001b[38;5;124msvg\u001b[39m\u001b[38;5;124m'\u001b[39m:\n",
      "File \u001b[1;32m~\\anaconda3\\Lib\\site-packages\\matplotlib\\backend_bases.py:2158\u001b[0m, in \u001b[0;36mFigureCanvasBase.print_figure\u001b[1;34m(self, filename, dpi, facecolor, edgecolor, orientation, format, bbox_inches, pad_inches, bbox_extra_artists, backend, **kwargs)\u001b[0m\n\u001b[0;32m   2155\u001b[0m     \u001b[38;5;66;03m# we do this instead of `self.figure.draw_without_rendering`\u001b[39;00m\n\u001b[0;32m   2156\u001b[0m     \u001b[38;5;66;03m# so that we can inject the orientation\u001b[39;00m\n\u001b[0;32m   2157\u001b[0m     \u001b[38;5;28;01mwith\u001b[39;00m \u001b[38;5;28mgetattr\u001b[39m(renderer, \u001b[38;5;124m\"\u001b[39m\u001b[38;5;124m_draw_disabled\u001b[39m\u001b[38;5;124m\"\u001b[39m, nullcontext)():\n\u001b[1;32m-> 2158\u001b[0m         \u001b[38;5;28mself\u001b[39m\u001b[38;5;241m.\u001b[39mfigure\u001b[38;5;241m.\u001b[39mdraw(renderer)\n\u001b[0;32m   2159\u001b[0m \u001b[38;5;28;01mif\u001b[39;00m bbox_inches:\n\u001b[0;32m   2160\u001b[0m     \u001b[38;5;28;01mif\u001b[39;00m bbox_inches \u001b[38;5;241m==\u001b[39m \u001b[38;5;124m\"\u001b[39m\u001b[38;5;124mtight\u001b[39m\u001b[38;5;124m\"\u001b[39m:\n",
      "File \u001b[1;32m~\\anaconda3\\Lib\\site-packages\\matplotlib\\artist.py:95\u001b[0m, in \u001b[0;36m_finalize_rasterization.<locals>.draw_wrapper\u001b[1;34m(artist, renderer, *args, **kwargs)\u001b[0m\n\u001b[0;32m     93\u001b[0m \u001b[38;5;129m@wraps\u001b[39m(draw)\n\u001b[0;32m     94\u001b[0m \u001b[38;5;28;01mdef\u001b[39;00m \u001b[38;5;21mdraw_wrapper\u001b[39m(artist, renderer, \u001b[38;5;241m*\u001b[39margs, \u001b[38;5;241m*\u001b[39m\u001b[38;5;241m*\u001b[39mkwargs):\n\u001b[1;32m---> 95\u001b[0m     result \u001b[38;5;241m=\u001b[39m draw(artist, renderer, \u001b[38;5;241m*\u001b[39margs, \u001b[38;5;241m*\u001b[39m\u001b[38;5;241m*\u001b[39mkwargs)\n\u001b[0;32m     96\u001b[0m     \u001b[38;5;28;01mif\u001b[39;00m renderer\u001b[38;5;241m.\u001b[39m_rasterizing:\n\u001b[0;32m     97\u001b[0m         renderer\u001b[38;5;241m.\u001b[39mstop_rasterizing()\n",
      "File \u001b[1;32m~\\anaconda3\\Lib\\site-packages\\matplotlib\\artist.py:72\u001b[0m, in \u001b[0;36mallow_rasterization.<locals>.draw_wrapper\u001b[1;34m(artist, renderer)\u001b[0m\n\u001b[0;32m     69\u001b[0m     \u001b[38;5;28;01mif\u001b[39;00m artist\u001b[38;5;241m.\u001b[39mget_agg_filter() \u001b[38;5;129;01mis\u001b[39;00m \u001b[38;5;129;01mnot\u001b[39;00m \u001b[38;5;28;01mNone\u001b[39;00m:\n\u001b[0;32m     70\u001b[0m         renderer\u001b[38;5;241m.\u001b[39mstart_filter()\n\u001b[1;32m---> 72\u001b[0m     \u001b[38;5;28;01mreturn\u001b[39;00m draw(artist, renderer)\n\u001b[0;32m     73\u001b[0m \u001b[38;5;28;01mfinally\u001b[39;00m:\n\u001b[0;32m     74\u001b[0m     \u001b[38;5;28;01mif\u001b[39;00m artist\u001b[38;5;241m.\u001b[39mget_agg_filter() \u001b[38;5;129;01mis\u001b[39;00m \u001b[38;5;129;01mnot\u001b[39;00m \u001b[38;5;28;01mNone\u001b[39;00m:\n",
      "File \u001b[1;32m~\\anaconda3\\Lib\\site-packages\\matplotlib\\figure.py:3154\u001b[0m, in \u001b[0;36mFigure.draw\u001b[1;34m(self, renderer)\u001b[0m\n\u001b[0;32m   3151\u001b[0m         \u001b[38;5;66;03m# ValueError can occur when resizing a window.\u001b[39;00m\n\u001b[0;32m   3153\u001b[0m \u001b[38;5;28mself\u001b[39m\u001b[38;5;241m.\u001b[39mpatch\u001b[38;5;241m.\u001b[39mdraw(renderer)\n\u001b[1;32m-> 3154\u001b[0m mimage\u001b[38;5;241m.\u001b[39m_draw_list_compositing_images(\n\u001b[0;32m   3155\u001b[0m     renderer, \u001b[38;5;28mself\u001b[39m, artists, \u001b[38;5;28mself\u001b[39m\u001b[38;5;241m.\u001b[39msuppressComposite)\n\u001b[0;32m   3157\u001b[0m \u001b[38;5;28;01mfor\u001b[39;00m sfig \u001b[38;5;129;01min\u001b[39;00m \u001b[38;5;28mself\u001b[39m\u001b[38;5;241m.\u001b[39msubfigs:\n\u001b[0;32m   3158\u001b[0m     sfig\u001b[38;5;241m.\u001b[39mdraw(renderer)\n",
      "File \u001b[1;32m~\\anaconda3\\Lib\\site-packages\\matplotlib\\image.py:132\u001b[0m, in \u001b[0;36m_draw_list_compositing_images\u001b[1;34m(renderer, parent, artists, suppress_composite)\u001b[0m\n\u001b[0;32m    130\u001b[0m \u001b[38;5;28;01mif\u001b[39;00m not_composite \u001b[38;5;129;01mor\u001b[39;00m \u001b[38;5;129;01mnot\u001b[39;00m has_images:\n\u001b[0;32m    131\u001b[0m     \u001b[38;5;28;01mfor\u001b[39;00m a \u001b[38;5;129;01min\u001b[39;00m artists:\n\u001b[1;32m--> 132\u001b[0m         a\u001b[38;5;241m.\u001b[39mdraw(renderer)\n\u001b[0;32m    133\u001b[0m \u001b[38;5;28;01melse\u001b[39;00m:\n\u001b[0;32m    134\u001b[0m     \u001b[38;5;66;03m# Composite any adjacent images together\u001b[39;00m\n\u001b[0;32m    135\u001b[0m     image_group \u001b[38;5;241m=\u001b[39m []\n",
      "File \u001b[1;32m~\\anaconda3\\Lib\\site-packages\\matplotlib\\artist.py:72\u001b[0m, in \u001b[0;36mallow_rasterization.<locals>.draw_wrapper\u001b[1;34m(artist, renderer)\u001b[0m\n\u001b[0;32m     69\u001b[0m     \u001b[38;5;28;01mif\u001b[39;00m artist\u001b[38;5;241m.\u001b[39mget_agg_filter() \u001b[38;5;129;01mis\u001b[39;00m \u001b[38;5;129;01mnot\u001b[39;00m \u001b[38;5;28;01mNone\u001b[39;00m:\n\u001b[0;32m     70\u001b[0m         renderer\u001b[38;5;241m.\u001b[39mstart_filter()\n\u001b[1;32m---> 72\u001b[0m     \u001b[38;5;28;01mreturn\u001b[39;00m draw(artist, renderer)\n\u001b[0;32m     73\u001b[0m \u001b[38;5;28;01mfinally\u001b[39;00m:\n\u001b[0;32m     74\u001b[0m     \u001b[38;5;28;01mif\u001b[39;00m artist\u001b[38;5;241m.\u001b[39mget_agg_filter() \u001b[38;5;129;01mis\u001b[39;00m \u001b[38;5;129;01mnot\u001b[39;00m \u001b[38;5;28;01mNone\u001b[39;00m:\n",
      "File \u001b[1;32m~\\anaconda3\\Lib\\site-packages\\matplotlib\\axes\\_base.py:3034\u001b[0m, in \u001b[0;36m_AxesBase.draw\u001b[1;34m(self, renderer)\u001b[0m\n\u001b[0;32m   3031\u001b[0m     \u001b[38;5;28;01mfor\u001b[39;00m spine \u001b[38;5;129;01min\u001b[39;00m \u001b[38;5;28mself\u001b[39m\u001b[38;5;241m.\u001b[39mspines\u001b[38;5;241m.\u001b[39mvalues():\n\u001b[0;32m   3032\u001b[0m         artists\u001b[38;5;241m.\u001b[39mremove(spine)\n\u001b[1;32m-> 3034\u001b[0m \u001b[38;5;28mself\u001b[39m\u001b[38;5;241m.\u001b[39m_update_title_position(renderer)\n\u001b[0;32m   3036\u001b[0m \u001b[38;5;28;01mif\u001b[39;00m \u001b[38;5;129;01mnot\u001b[39;00m \u001b[38;5;28mself\u001b[39m\u001b[38;5;241m.\u001b[39maxison:\n\u001b[0;32m   3037\u001b[0m     \u001b[38;5;28;01mfor\u001b[39;00m _axis \u001b[38;5;129;01min\u001b[39;00m \u001b[38;5;28mself\u001b[39m\u001b[38;5;241m.\u001b[39m_axis_map\u001b[38;5;241m.\u001b[39mvalues():\n",
      "File \u001b[1;32m~\\anaconda3\\Lib\\site-packages\\matplotlib\\axes\\_base.py:2978\u001b[0m, in \u001b[0;36m_AxesBase._update_title_position\u001b[1;34m(self, renderer)\u001b[0m\n\u001b[0;32m   2976\u001b[0m top \u001b[38;5;241m=\u001b[39m \u001b[38;5;28mmax\u001b[39m(top, bb\u001b[38;5;241m.\u001b[39mymax)\n\u001b[0;32m   2977\u001b[0m \u001b[38;5;28;01mif\u001b[39;00m title\u001b[38;5;241m.\u001b[39mget_text():\n\u001b[1;32m-> 2978\u001b[0m     ax\u001b[38;5;241m.\u001b[39myaxis\u001b[38;5;241m.\u001b[39mget_tightbbox(renderer)  \u001b[38;5;66;03m# update offsetText\u001b[39;00m\n\u001b[0;32m   2979\u001b[0m     \u001b[38;5;28;01mif\u001b[39;00m ax\u001b[38;5;241m.\u001b[39myaxis\u001b[38;5;241m.\u001b[39moffsetText\u001b[38;5;241m.\u001b[39mget_text():\n\u001b[0;32m   2980\u001b[0m         bb \u001b[38;5;241m=\u001b[39m ax\u001b[38;5;241m.\u001b[39myaxis\u001b[38;5;241m.\u001b[39moffsetText\u001b[38;5;241m.\u001b[39mget_tightbbox(renderer)\n",
      "File \u001b[1;32m~\\anaconda3\\Lib\\site-packages\\matplotlib\\axis.py:1336\u001b[0m, in \u001b[0;36mAxis.get_tightbbox\u001b[1;34m(self, renderer, for_layout_only)\u001b[0m\n\u001b[0;32m   1333\u001b[0m     renderer \u001b[38;5;241m=\u001b[39m \u001b[38;5;28mself\u001b[39m\u001b[38;5;241m.\u001b[39mfigure\u001b[38;5;241m.\u001b[39m_get_renderer()\n\u001b[0;32m   1334\u001b[0m ticks_to_draw \u001b[38;5;241m=\u001b[39m \u001b[38;5;28mself\u001b[39m\u001b[38;5;241m.\u001b[39m_update_ticks()\n\u001b[1;32m-> 1336\u001b[0m \u001b[38;5;28mself\u001b[39m\u001b[38;5;241m.\u001b[39m_update_label_position(renderer)\n\u001b[0;32m   1338\u001b[0m \u001b[38;5;66;03m# go back to just this axis's tick labels\u001b[39;00m\n\u001b[0;32m   1339\u001b[0m tlb1, tlb2 \u001b[38;5;241m=\u001b[39m \u001b[38;5;28mself\u001b[39m\u001b[38;5;241m.\u001b[39m_get_ticklabel_bboxes(ticks_to_draw, renderer)\n",
      "File \u001b[1;32m~\\anaconda3\\Lib\\site-packages\\matplotlib\\axis.py:2609\u001b[0m, in \u001b[0;36mYAxis._update_label_position\u001b[1;34m(self, renderer)\u001b[0m\n\u001b[0;32m   2605\u001b[0m     \u001b[38;5;28;01mreturn\u001b[39;00m\n\u001b[0;32m   2607\u001b[0m \u001b[38;5;66;03m# get bounding boxes for this axis and any siblings\u001b[39;00m\n\u001b[0;32m   2608\u001b[0m \u001b[38;5;66;03m# that have been set by `fig.align_ylabels()`\u001b[39;00m\n\u001b[1;32m-> 2609\u001b[0m bboxes, bboxes2 \u001b[38;5;241m=\u001b[39m \u001b[38;5;28mself\u001b[39m\u001b[38;5;241m.\u001b[39m_get_tick_boxes_siblings(renderer\u001b[38;5;241m=\u001b[39mrenderer)\n\u001b[0;32m   2610\u001b[0m x, y \u001b[38;5;241m=\u001b[39m \u001b[38;5;28mself\u001b[39m\u001b[38;5;241m.\u001b[39mlabel\u001b[38;5;241m.\u001b[39mget_position()\n\u001b[0;32m   2611\u001b[0m \u001b[38;5;28;01mif\u001b[39;00m \u001b[38;5;28mself\u001b[39m\u001b[38;5;241m.\u001b[39mlabel_position \u001b[38;5;241m==\u001b[39m \u001b[38;5;124m'\u001b[39m\u001b[38;5;124mleft\u001b[39m\u001b[38;5;124m'\u001b[39m:\n",
      "File \u001b[1;32m~\\anaconda3\\Lib\\site-packages\\matplotlib\\axis.py:2161\u001b[0m, in \u001b[0;36mAxis._get_tick_boxes_siblings\u001b[1;34m(self, renderer)\u001b[0m\n\u001b[0;32m   2159\u001b[0m axis \u001b[38;5;241m=\u001b[39m ax\u001b[38;5;241m.\u001b[39m_axis_map[name]\n\u001b[0;32m   2160\u001b[0m ticks_to_draw \u001b[38;5;241m=\u001b[39m axis\u001b[38;5;241m.\u001b[39m_update_ticks()\n\u001b[1;32m-> 2161\u001b[0m tlb, tlb2 \u001b[38;5;241m=\u001b[39m axis\u001b[38;5;241m.\u001b[39m_get_ticklabel_bboxes(ticks_to_draw, renderer)\n\u001b[0;32m   2162\u001b[0m bboxes\u001b[38;5;241m.\u001b[39mextend(tlb)\n\u001b[0;32m   2163\u001b[0m bboxes2\u001b[38;5;241m.\u001b[39mextend(tlb2)\n",
      "File \u001b[1;32m~\\anaconda3\\Lib\\site-packages\\matplotlib\\axis.py:1315\u001b[0m, in \u001b[0;36mAxis._get_ticklabel_bboxes\u001b[1;34m(self, ticks, renderer)\u001b[0m\n\u001b[0;32m   1313\u001b[0m \u001b[38;5;28;01mif\u001b[39;00m renderer \u001b[38;5;129;01mis\u001b[39;00m \u001b[38;5;28;01mNone\u001b[39;00m:\n\u001b[0;32m   1314\u001b[0m     renderer \u001b[38;5;241m=\u001b[39m \u001b[38;5;28mself\u001b[39m\u001b[38;5;241m.\u001b[39mfigure\u001b[38;5;241m.\u001b[39m_get_renderer()\n\u001b[1;32m-> 1315\u001b[0m \u001b[38;5;28;01mreturn\u001b[39;00m ([tick\u001b[38;5;241m.\u001b[39mlabel1\u001b[38;5;241m.\u001b[39mget_window_extent(renderer)\n\u001b[0;32m   1316\u001b[0m          \u001b[38;5;28;01mfor\u001b[39;00m tick \u001b[38;5;129;01min\u001b[39;00m ticks \u001b[38;5;28;01mif\u001b[39;00m tick\u001b[38;5;241m.\u001b[39mlabel1\u001b[38;5;241m.\u001b[39mget_visible()],\n\u001b[0;32m   1317\u001b[0m         [tick\u001b[38;5;241m.\u001b[39mlabel2\u001b[38;5;241m.\u001b[39mget_window_extent(renderer)\n\u001b[0;32m   1318\u001b[0m          \u001b[38;5;28;01mfor\u001b[39;00m tick \u001b[38;5;129;01min\u001b[39;00m ticks \u001b[38;5;28;01mif\u001b[39;00m tick\u001b[38;5;241m.\u001b[39mlabel2\u001b[38;5;241m.\u001b[39mget_visible()])\n",
      "File \u001b[1;32m~\\anaconda3\\Lib\\site-packages\\matplotlib\\axis.py:1315\u001b[0m, in \u001b[0;36m<listcomp>\u001b[1;34m(.0)\u001b[0m\n\u001b[0;32m   1313\u001b[0m \u001b[38;5;28;01mif\u001b[39;00m renderer \u001b[38;5;129;01mis\u001b[39;00m \u001b[38;5;28;01mNone\u001b[39;00m:\n\u001b[0;32m   1314\u001b[0m     renderer \u001b[38;5;241m=\u001b[39m \u001b[38;5;28mself\u001b[39m\u001b[38;5;241m.\u001b[39mfigure\u001b[38;5;241m.\u001b[39m_get_renderer()\n\u001b[1;32m-> 1315\u001b[0m \u001b[38;5;28;01mreturn\u001b[39;00m ([tick\u001b[38;5;241m.\u001b[39mlabel1\u001b[38;5;241m.\u001b[39mget_window_extent(renderer)\n\u001b[0;32m   1316\u001b[0m          \u001b[38;5;28;01mfor\u001b[39;00m tick \u001b[38;5;129;01min\u001b[39;00m ticks \u001b[38;5;28;01mif\u001b[39;00m tick\u001b[38;5;241m.\u001b[39mlabel1\u001b[38;5;241m.\u001b[39mget_visible()],\n\u001b[0;32m   1317\u001b[0m         [tick\u001b[38;5;241m.\u001b[39mlabel2\u001b[38;5;241m.\u001b[39mget_window_extent(renderer)\n\u001b[0;32m   1318\u001b[0m          \u001b[38;5;28;01mfor\u001b[39;00m tick \u001b[38;5;129;01min\u001b[39;00m ticks \u001b[38;5;28;01mif\u001b[39;00m tick\u001b[38;5;241m.\u001b[39mlabel2\u001b[38;5;241m.\u001b[39mget_visible()])\n",
      "File \u001b[1;32m~\\anaconda3\\Lib\\site-packages\\matplotlib\\text.py:956\u001b[0m, in \u001b[0;36mText.get_window_extent\u001b[1;34m(self, renderer, dpi)\u001b[0m\n\u001b[0;32m    951\u001b[0m     \u001b[38;5;28;01mraise\u001b[39;00m \u001b[38;5;167;01mRuntimeError\u001b[39;00m(\n\u001b[0;32m    952\u001b[0m         \u001b[38;5;124m\"\u001b[39m\u001b[38;5;124mCannot get window extent of text w/o renderer. You likely \u001b[39m\u001b[38;5;124m\"\u001b[39m\n\u001b[0;32m    953\u001b[0m         \u001b[38;5;124m\"\u001b[39m\u001b[38;5;124mwant to call \u001b[39m\u001b[38;5;124m'\u001b[39m\u001b[38;5;124mfigure.draw_without_rendering()\u001b[39m\u001b[38;5;124m'\u001b[39m\u001b[38;5;124m first.\u001b[39m\u001b[38;5;124m\"\u001b[39m)\n\u001b[0;32m    955\u001b[0m \u001b[38;5;28;01mwith\u001b[39;00m cbook\u001b[38;5;241m.\u001b[39m_setattr_cm(\u001b[38;5;28mself\u001b[39m\u001b[38;5;241m.\u001b[39mfigure, dpi\u001b[38;5;241m=\u001b[39mdpi):\n\u001b[1;32m--> 956\u001b[0m     bbox, info, descent \u001b[38;5;241m=\u001b[39m \u001b[38;5;28mself\u001b[39m\u001b[38;5;241m.\u001b[39m_get_layout(\u001b[38;5;28mself\u001b[39m\u001b[38;5;241m.\u001b[39m_renderer)\n\u001b[0;32m    957\u001b[0m     x, y \u001b[38;5;241m=\u001b[39m \u001b[38;5;28mself\u001b[39m\u001b[38;5;241m.\u001b[39mget_unitless_position()\n\u001b[0;32m    958\u001b[0m     x, y \u001b[38;5;241m=\u001b[39m \u001b[38;5;28mself\u001b[39m\u001b[38;5;241m.\u001b[39mget_transform()\u001b[38;5;241m.\u001b[39mtransform((x, y))\n",
      "File \u001b[1;32m~\\anaconda3\\Lib\\site-packages\\matplotlib\\text.py:381\u001b[0m, in \u001b[0;36mText._get_layout\u001b[1;34m(self, renderer)\u001b[0m\n\u001b[0;32m    379\u001b[0m clean_line, ismath \u001b[38;5;241m=\u001b[39m \u001b[38;5;28mself\u001b[39m\u001b[38;5;241m.\u001b[39m_preprocess_math(line)\n\u001b[0;32m    380\u001b[0m \u001b[38;5;28;01mif\u001b[39;00m clean_line:\n\u001b[1;32m--> 381\u001b[0m     w, h, d \u001b[38;5;241m=\u001b[39m _get_text_metrics_with_cache(\n\u001b[0;32m    382\u001b[0m         renderer, clean_line, \u001b[38;5;28mself\u001b[39m\u001b[38;5;241m.\u001b[39m_fontproperties,\n\u001b[0;32m    383\u001b[0m         ismath\u001b[38;5;241m=\u001b[39mismath, dpi\u001b[38;5;241m=\u001b[39m\u001b[38;5;28mself\u001b[39m\u001b[38;5;241m.\u001b[39mfigure\u001b[38;5;241m.\u001b[39mdpi)\n\u001b[0;32m    384\u001b[0m \u001b[38;5;28;01melse\u001b[39;00m:\n\u001b[0;32m    385\u001b[0m     w \u001b[38;5;241m=\u001b[39m h \u001b[38;5;241m=\u001b[39m d \u001b[38;5;241m=\u001b[39m \u001b[38;5;241m0\u001b[39m\n",
      "File \u001b[1;32m~\\anaconda3\\Lib\\site-packages\\matplotlib\\text.py:69\u001b[0m, in \u001b[0;36m_get_text_metrics_with_cache\u001b[1;34m(renderer, text, fontprop, ismath, dpi)\u001b[0m\n\u001b[0;32m     66\u001b[0m \u001b[38;5;250m\u001b[39m\u001b[38;5;124;03m\"\"\"Call ``renderer.get_text_width_height_descent``, caching the results.\"\"\"\u001b[39;00m\n\u001b[0;32m     67\u001b[0m \u001b[38;5;66;03m# Cached based on a copy of fontprop so that later in-place mutations of\u001b[39;00m\n\u001b[0;32m     68\u001b[0m \u001b[38;5;66;03m# the passed-in argument do not mess up the cache.\u001b[39;00m\n\u001b[1;32m---> 69\u001b[0m \u001b[38;5;28;01mreturn\u001b[39;00m _get_text_metrics_with_cache_impl(\n\u001b[0;32m     70\u001b[0m     weakref\u001b[38;5;241m.\u001b[39mref(renderer), text, fontprop\u001b[38;5;241m.\u001b[39mcopy(), ismath, dpi)\n",
      "File \u001b[1;32m~\\anaconda3\\Lib\\site-packages\\matplotlib\\text.py:77\u001b[0m, in \u001b[0;36m_get_text_metrics_with_cache_impl\u001b[1;34m(renderer_ref, text, fontprop, ismath, dpi)\u001b[0m\n\u001b[0;32m     73\u001b[0m \u001b[38;5;129m@functools\u001b[39m\u001b[38;5;241m.\u001b[39mlru_cache(\u001b[38;5;241m4096\u001b[39m)\n\u001b[0;32m     74\u001b[0m \u001b[38;5;28;01mdef\u001b[39;00m \u001b[38;5;21m_get_text_metrics_with_cache_impl\u001b[39m(\n\u001b[0;32m     75\u001b[0m         renderer_ref, text, fontprop, ismath, dpi):\n\u001b[0;32m     76\u001b[0m     \u001b[38;5;66;03m# dpi is unused, but participates in cache invalidation (via the renderer).\u001b[39;00m\n\u001b[1;32m---> 77\u001b[0m     \u001b[38;5;28;01mreturn\u001b[39;00m renderer_ref()\u001b[38;5;241m.\u001b[39mget_text_width_height_descent(text, fontprop, ismath)\n",
      "File \u001b[1;32m~\\anaconda3\\Lib\\site-packages\\matplotlib\\backends\\backend_agg.py:217\u001b[0m, in \u001b[0;36mRendererAgg.get_text_width_height_descent\u001b[1;34m(self, s, prop, ismath)\u001b[0m\n\u001b[0;32m    213\u001b[0m     \u001b[38;5;28;01mreturn\u001b[39;00m \u001b[38;5;28msuper\u001b[39m()\u001b[38;5;241m.\u001b[39mget_text_width_height_descent(s, prop, ismath)\n\u001b[0;32m    215\u001b[0m \u001b[38;5;28;01mif\u001b[39;00m ismath:\n\u001b[0;32m    216\u001b[0m     ox, oy, width, height, descent, font_image \u001b[38;5;241m=\u001b[39m \\\n\u001b[1;32m--> 217\u001b[0m         \u001b[38;5;28mself\u001b[39m\u001b[38;5;241m.\u001b[39mmathtext_parser\u001b[38;5;241m.\u001b[39mparse(s, \u001b[38;5;28mself\u001b[39m\u001b[38;5;241m.\u001b[39mdpi, prop)\n\u001b[0;32m    218\u001b[0m     \u001b[38;5;28;01mreturn\u001b[39;00m width, height, descent\n\u001b[0;32m    220\u001b[0m font \u001b[38;5;241m=\u001b[39m \u001b[38;5;28mself\u001b[39m\u001b[38;5;241m.\u001b[39m_prepare_font(prop)\n",
      "File \u001b[1;32m~\\anaconda3\\Lib\\site-packages\\matplotlib\\mathtext.py:79\u001b[0m, in \u001b[0;36mMathTextParser.parse\u001b[1;34m(self, s, dpi, prop, antialiased)\u001b[0m\n\u001b[0;32m     77\u001b[0m prop \u001b[38;5;241m=\u001b[39m prop\u001b[38;5;241m.\u001b[39mcopy() \u001b[38;5;28;01mif\u001b[39;00m prop \u001b[38;5;129;01mis\u001b[39;00m \u001b[38;5;129;01mnot\u001b[39;00m \u001b[38;5;28;01mNone\u001b[39;00m \u001b[38;5;28;01melse\u001b[39;00m \u001b[38;5;28;01mNone\u001b[39;00m\n\u001b[0;32m     78\u001b[0m antialiased \u001b[38;5;241m=\u001b[39m mpl\u001b[38;5;241m.\u001b[39m_val_or_rc(antialiased, \u001b[38;5;124m'\u001b[39m\u001b[38;5;124mtext.antialiased\u001b[39m\u001b[38;5;124m'\u001b[39m)\n\u001b[1;32m---> 79\u001b[0m \u001b[38;5;28;01mreturn\u001b[39;00m \u001b[38;5;28mself\u001b[39m\u001b[38;5;241m.\u001b[39m_parse_cached(s, dpi, prop, antialiased)\n",
      "File \u001b[1;32m~\\anaconda3\\Lib\\site-packages\\matplotlib\\mathtext.py:100\u001b[0m, in \u001b[0;36mMathTextParser._parse_cached\u001b[1;34m(self, s, dpi, prop, antialiased)\u001b[0m\n\u001b[0;32m     97\u001b[0m \u001b[38;5;28;01mif\u001b[39;00m \u001b[38;5;28mself\u001b[39m\u001b[38;5;241m.\u001b[39m_parser \u001b[38;5;129;01mis\u001b[39;00m \u001b[38;5;28;01mNone\u001b[39;00m:  \u001b[38;5;66;03m# Cache the parser globally.\u001b[39;00m\n\u001b[0;32m     98\u001b[0m     \u001b[38;5;28mself\u001b[39m\u001b[38;5;241m.\u001b[39m\u001b[38;5;18m__class__\u001b[39m\u001b[38;5;241m.\u001b[39m_parser \u001b[38;5;241m=\u001b[39m _mathtext\u001b[38;5;241m.\u001b[39mParser()\n\u001b[1;32m--> 100\u001b[0m box \u001b[38;5;241m=\u001b[39m \u001b[38;5;28mself\u001b[39m\u001b[38;5;241m.\u001b[39m_parser\u001b[38;5;241m.\u001b[39mparse(s, fontset, fontsize, dpi)\n\u001b[0;32m    101\u001b[0m output \u001b[38;5;241m=\u001b[39m _mathtext\u001b[38;5;241m.\u001b[39mship(box)\n\u001b[0;32m    102\u001b[0m \u001b[38;5;28;01mif\u001b[39;00m \u001b[38;5;28mself\u001b[39m\u001b[38;5;241m.\u001b[39m_output_type \u001b[38;5;241m==\u001b[39m \u001b[38;5;124m\"\u001b[39m\u001b[38;5;124mvector\u001b[39m\u001b[38;5;124m\"\u001b[39m:\n",
      "File \u001b[1;32m~\\anaconda3\\Lib\\site-packages\\matplotlib\\_mathtext.py:2165\u001b[0m, in \u001b[0;36mParser.parse\u001b[1;34m(self, s, fonts_object, fontsize, dpi)\u001b[0m\n\u001b[0;32m   2162\u001b[0m     result \u001b[38;5;241m=\u001b[39m \u001b[38;5;28mself\u001b[39m\u001b[38;5;241m.\u001b[39m_expression\u001b[38;5;241m.\u001b[39mparseString(s)\n\u001b[0;32m   2163\u001b[0m \u001b[38;5;28;01mexcept\u001b[39;00m ParseBaseException \u001b[38;5;28;01mas\u001b[39;00m err:\n\u001b[0;32m   2164\u001b[0m     \u001b[38;5;66;03m# explain becomes a plain method on pyparsing 3 (err.explain(0)).\u001b[39;00m\n\u001b[1;32m-> 2165\u001b[0m     \u001b[38;5;28;01mraise\u001b[39;00m \u001b[38;5;167;01mValueError\u001b[39;00m(\u001b[38;5;124m\"\u001b[39m\u001b[38;5;130;01m\\n\u001b[39;00m\u001b[38;5;124m\"\u001b[39m \u001b[38;5;241m+\u001b[39m ParseException\u001b[38;5;241m.\u001b[39mexplain(err, \u001b[38;5;241m0\u001b[39m)) \u001b[38;5;28;01mfrom\u001b[39;00m \u001b[38;5;28;01mNone\u001b[39;00m\n\u001b[0;32m   2166\u001b[0m \u001b[38;5;28mself\u001b[39m\u001b[38;5;241m.\u001b[39m_state_stack \u001b[38;5;241m=\u001b[39m []\n\u001b[0;32m   2167\u001b[0m \u001b[38;5;28mself\u001b[39m\u001b[38;5;241m.\u001b[39m_in_subscript_or_superscript \u001b[38;5;241m=\u001b[39m \u001b[38;5;28;01mFalse\u001b[39;00m\n",
      "\u001b[1;31mValueError\u001b[0m: \n$$\n^\nParseException: Expected end of text, found '$'  (at char 0), (line:1, col:1)"
     ]
    },
    {
     "data": {
      "text/plain": [
       "<Figure size 1600x3000 with 10 Axes>"
      ]
     },
     "metadata": {},
     "output_type": "display_data"
    }
   ],
   "source": [
    "graficos_eda_categoricos(data_train.select_dtypes('O'))"
   ]
  },
  {
   "cell_type": "code",
   "execution_count": 26,
   "metadata": {},
   "outputs": [
    {
     "name": "stdout",
     "output_type": "stream",
     "text": [
      "<class 'pandas.core.frame.DataFrame'>\n",
      "RangeIndex: 818 entries, 0 to 817\n",
      "Data columns (total 6 columns):\n",
      " #   Column           Non-Null Count  Dtype \n",
      "---  ------           --------------  ----- \n",
      " 0   Valoración       818 non-null    object\n",
      " 1   Valoraciones     818 non-null    object\n",
      " 2   Comentario       818 non-null    object\n",
      " 3   Votos a favor    818 non-null    int64 \n",
      " 4   Votos en contra  818 non-null    int64 \n",
      " 5   Sentimiento      818 non-null    object\n",
      "dtypes: int64(2), object(4)\n",
      "memory usage: 38.5+ KB\n"
     ]
    }
   ],
   "source": [
    "# Eliminar columnas no relevantes para el análisis\n",
    "data_clean = data_train.drop(columns=[\"ID\", 'Sitio', 'Nombre del lugar', \"Índice del lugar\", \"Nombre del lugar\",'Municipio', 'Precio','Fecha', \"Valoración_num\"])\n",
    "data_clean.info()"
   ]
  },
  {
   "cell_type": "code",
   "execution_count": null,
   "metadata": {},
   "outputs": [],
   "source": []
  }
 ],
 "metadata": {
  "kernelspec": {
   "display_name": "Python 3 (ipykernel)",
   "language": "python",
   "name": "python3"
  },
  "language_info": {
   "codemirror_mode": {
    "name": "ipython",
    "version": 3
   },
   "file_extension": ".py",
   "mimetype": "text/x-python",
   "name": "python",
   "nbconvert_exporter": "python",
   "pygments_lexer": "ipython3",
   "version": "3.11.7"
  }
 },
 "nbformat": 4,
 "nbformat_minor": 4
}
