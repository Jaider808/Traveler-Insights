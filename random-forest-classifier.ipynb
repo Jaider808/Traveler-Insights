{
 "cells": [
  {
   "cell_type": "markdown",
   "metadata": {},
   "source": [
    "# **Traveler Insights**"
   ]
  },
  {
   "cell_type": "markdown",
   "metadata": {},
   "source": [
    "A medida que el turismo se vuelve cada vez más digital y las reseñas en línea influyen fuertemente en las decisiones de viaje, las plataformas digitales juegan un papel crucial en la comprensión de las preferencias y comportamientos de los turistas. A través de Traveler Insights, tu misión es desarrollar un modelo capaz de clasificar el sentimiento de estas reseñas en tres categorías principales: positivo, neutral o negativo. Esta tarea es clave para ayudar a la industria turística a comprender mejor las emociones de los visitantes, permitiéndoles adaptar sus ofertas para mejorar las experiencias y optimizar sus servicios."
   ]
  },
  {
   "cell_type": "markdown",
   "metadata": {},
   "source": [
    "Participantes:\n",
    "\n",
    "Daniel Isaías Cruz González\n",
    "\n",
    "Jaider Castilla Babilonia"
   ]
  },
  {
   "cell_type": "markdown",
   "metadata": {},
   "source": [
    "# Librerías Python"
   ]
  },
  {
   "cell_type": "markdown",
   "metadata": {},
   "source": [
    "---"
   ]
  },
  {
   "cell_type": "code",
   "execution_count": 32,
   "metadata": {
    "execution": {
     "iopub.execute_input": "2024-11-26T01:01:40.786488Z",
     "iopub.status.busy": "2024-11-26T01:01:40.785450Z",
     "iopub.status.idle": "2024-11-26T01:01:40.792911Z",
     "shell.execute_reply": "2024-11-26T01:01:40.791869Z",
     "shell.execute_reply.started": "2024-11-26T01:01:40.786443Z"
    },
    "trusted": true
   },
   "outputs": [
    {
     "name": "stdout",
     "output_type": "stream",
     "text": [
      "Requirement already satisfied: pandas in c:\\users\\jaide\\documents\\traveler-insights\\.venv\\lib\\site-packages (2.2.3)\n",
      "Requirement already satisfied: scikit-learn in c:\\users\\jaide\\documents\\traveler-insights\\.venv\\lib\\site-packages (1.5.2)\n",
      "Requirement already satisfied: plotly in c:\\users\\jaide\\documents\\traveler-insights\\.venv\\lib\\site-packages (5.24.1)\n",
      "Requirement already satisfied: numpy>=1.23.2 in c:\\users\\jaide\\documents\\traveler-insights\\.venv\\lib\\site-packages (from pandas) (2.1.3)\n",
      "Requirement already satisfied: python-dateutil>=2.8.2 in c:\\users\\jaide\\documents\\traveler-insights\\.venv\\lib\\site-packages (from pandas) (2.9.0.post0)\n",
      "Requirement already satisfied: pytz>=2020.1 in c:\\users\\jaide\\documents\\traveler-insights\\.venv\\lib\\site-packages (from pandas) (2024.2)\n",
      "Requirement already satisfied: tzdata>=2022.7 in c:\\users\\jaide\\documents\\traveler-insights\\.venv\\lib\\site-packages (from pandas) (2024.2)\n",
      "Requirement already satisfied: scipy>=1.6.0 in c:\\users\\jaide\\documents\\traveler-insights\\.venv\\lib\\site-packages (from scikit-learn) (1.14.1)\n",
      "Requirement already satisfied: joblib>=1.2.0 in c:\\users\\jaide\\documents\\traveler-insights\\.venv\\lib\\site-packages (from scikit-learn) (1.4.2)\n",
      "Requirement already satisfied: threadpoolctl>=3.1.0 in c:\\users\\jaide\\documents\\traveler-insights\\.venv\\lib\\site-packages (from scikit-learn) (3.5.0)\n",
      "Requirement already satisfied: tenacity>=6.2.0 in c:\\users\\jaide\\documents\\traveler-insights\\.venv\\lib\\site-packages (from plotly) (9.0.0)\n",
      "Requirement already satisfied: packaging in c:\\users\\jaide\\documents\\traveler-insights\\.venv\\lib\\site-packages (from plotly) (24.2)\n",
      "Requirement already satisfied: six>=1.5 in c:\\users\\jaide\\documents\\traveler-insights\\.venv\\lib\\site-packages (from python-dateutil>=2.8.2->pandas) (1.16.0)\n",
      "Note: you may need to restart the kernel to use updated packages.\n"
     ]
    }
   ],
   "source": [
    "# Importando librerias\n",
    "%pip install pandas scikit-learn plotly\n",
    "import pandas as pd\n",
    "import numpy as np\n",
    "import seaborn as sns\n",
    "import matplotlib.pyplot as plt\n",
    "import plotly.express as px\n",
    "\n",
    "# ML\n",
    "from sklearn.model_selection import train_test_split\n",
    "from sklearn.feature_extraction.text import TfidfVectorizer\n",
    "from sklearn.ensemble import RandomForestClassifier\n",
    "from sklearn.metrics import classification_report, accuracy_score\n",
    "\n",
    "\n",
    "#from sklearn.model_selection import RandomizedSearchCV,RepeatedStratifiedKFold, train_test_split\n",
    "from sklearn.metrics import f1_score, accuracy_score, precision_score, confusion_matrix\n",
    "\n",
    "\n",
    "from sklearn.model_selection import train_test_split\n",
    "\n",
    "from sklearn.metrics import classification_report, accuracy_score\n",
    "\n",
    "import matplotlib.pyplot as plt\n",
    "import seaborn as sns\n",
    "import warnings\n",
    "\n",
    "warnings.filterwarnings('ignore')"
   ]
  },
  {
   "cell_type": "markdown",
   "metadata": {},
   "source": [
    "# Contenido de datos\n",
    "\n",
    "* **ID:** Un identificador numérico único para cada revisión.\n",
    "* **Sitio:** La plataforma de la que procede la reseña (por ejemplo, Foursquare).\n",
    "* **Índice del lugar:** Índice o identificador único del lugar reseñado en la plataforma.\n",
    "* **Nombre del lugar:** Nombre del lugar turístico reseñado.\n",
    "* **Enlace del lugar:** Enlace URL a la página del lugar turístico en la plataforma.\n",
    "* **Municipio:** Ciudad o municipio donde se encuentra el lugar turístico.\n",
    "* **Valoración:** La calificación global otorgada al lugar en forma de texto (por ejemplo, «8,9/10»).\n",
    "* **Valoraciones:** El número total de valoraciones que ha recibido el lugar.\n",
    "* **Precio:** Precio o coste de la visita al lugar (si está disponible).\n",
    "* **Comentario:** El texto completo de la valoración.\n",
    "* **Fecha:** Fecha de la valoración.\n",
    "* **Votos a favor:** Número de upvotes que ha recibido la reseña.\n",
    "* **Votos en contra:** Número de votos en contra que ha recibido la valoración.\n",
    "* **Valoración_num:** Extracción numérica del campo Valoración (por ejemplo, 8,9 de «8,9/10»).\n",
    "* **Variable objetivo Sentimiento:** Es la etiqueta de sentimiento que predecirá para los datos test.csv. Puede tomar uno de estos tres valores: positivo, neutro y negativo."
   ]
  },
  {
   "cell_type": "markdown",
   "metadata": {},
   "source": [
    "# Lectura y Análisis de los datos"
   ]
  },
  {
   "cell_type": "markdown",
   "metadata": {},
   "source": [
    "---"
   ]
  },
  {
   "cell_type": "code",
   "execution_count": 33,
   "metadata": {
    "execution": {
     "iopub.execute_input": "2024-11-26T01:01:40.815175Z",
     "iopub.status.busy": "2024-11-26T01:01:40.814773Z",
     "iopub.status.idle": "2024-11-26T01:01:40.845599Z",
     "shell.execute_reply": "2024-11-26T01:01:40.844639Z",
     "shell.execute_reply.started": "2024-11-26T01:01:40.815141Z"
    },
    "scrolled": true,
    "trusted": true
   },
   "outputs": [
    {
     "data": {
      "text/html": [
       "<div>\n",
       "<style scoped>\n",
       "    .dataframe tbody tr th:only-of-type {\n",
       "        vertical-align: middle;\n",
       "    }\n",
       "\n",
       "    .dataframe tbody tr th {\n",
       "        vertical-align: top;\n",
       "    }\n",
       "\n",
       "    .dataframe thead th {\n",
       "        text-align: right;\n",
       "    }\n",
       "</style>\n",
       "<table border=\"1\" class=\"dataframe\">\n",
       "  <thead>\n",
       "    <tr style=\"text-align: right;\">\n",
       "      <th></th>\n",
       "      <th>ID</th>\n",
       "      <th>Sitio</th>\n",
       "      <th>Índice del lugar</th>\n",
       "      <th>Nombre del lugar</th>\n",
       "      <th>Enlace del lugar</th>\n",
       "      <th>Municipio</th>\n",
       "      <th>Valoración</th>\n",
       "      <th>Valoraciones</th>\n",
       "      <th>Precio</th>\n",
       "      <th>Comentario</th>\n",
       "      <th>Fecha</th>\n",
       "      <th>Votos a favor</th>\n",
       "      <th>Votos en contra</th>\n",
       "      <th>Valoración_num</th>\n",
       "      <th>Sentimiento</th>\n",
       "    </tr>\n",
       "  </thead>\n",
       "  <tbody>\n",
       "    <tr>\n",
       "      <th>0</th>\n",
       "      <td>380</td>\n",
       "      <td>Tripadvisor</td>\n",
       "      <td>50</td>\n",
       "      <td>Isla Múcura</td>\n",
       "      <td>https://www.tripadvisor.co/Attraction_Review-g...</td>\n",
       "      <td>San Onofre</td>\n",
       "      <td>4.5/5</td>\n",
       "      <td>281</td>\n",
       "      <td>Precio Desconocido</td>\n",
       "      <td>La isla es muy hermosa y tiene unas aguas muy ...</td>\n",
       "      <td>24 de agosto de 2017</td>\n",
       "      <td>0</td>\n",
       "      <td>0</td>\n",
       "      <td>4.5</td>\n",
       "      <td>neutral</td>\n",
       "    </tr>\n",
       "    <tr>\n",
       "      <th>1</th>\n",
       "      <td>196</td>\n",
       "      <td>Foursquare</td>\n",
       "      <td>30</td>\n",
       "      <td>Doki's comidas rápidas (Majagual)</td>\n",
       "      <td>https://es.foursquare.com/v/dokis-comidas-r%C3...</td>\n",
       "      <td>Sincelejo</td>\n",
       "      <td>7.4/10</td>\n",
       "      <td>13 valoraciones</td>\n",
       "      <td>$</td>\n",
       "      <td>Lahamburguesa de polloy elpatacónDoki, son del...</td>\n",
       "      <td>Abril 12, 2015</td>\n",
       "      <td>0</td>\n",
       "      <td>0</td>\n",
       "      <td>7.4</td>\n",
       "      <td>positivo</td>\n",
       "    </tr>\n",
       "    <tr>\n",
       "      <th>2</th>\n",
       "      <td>723</td>\n",
       "      <td>Tripadvisor</td>\n",
       "      <td>56</td>\n",
       "      <td>Playa la Coquerita</td>\n",
       "      <td>https://www.tripadvisor.co/Attraction_Review-g...</td>\n",
       "      <td>Coveñas</td>\n",
       "      <td>4.0/5</td>\n",
       "      <td>28</td>\n",
       "      <td>Precio Desconocido</td>\n",
       "      <td>La playa es preciosa, de aguas mansas y playas...</td>\n",
       "      <td>14 de febrero de 2020</td>\n",
       "      <td>0</td>\n",
       "      <td>0</td>\n",
       "      <td>4.0</td>\n",
       "      <td>neutral</td>\n",
       "    </tr>\n",
       "    <tr>\n",
       "      <th>3</th>\n",
       "      <td>522</td>\n",
       "      <td>Tripadvisor</td>\n",
       "      <td>50</td>\n",
       "      <td>Isla Múcura</td>\n",
       "      <td>https://www.tripadvisor.co/Attraction_Review-g...</td>\n",
       "      <td>San Onofre</td>\n",
       "      <td>4.5/5</td>\n",
       "      <td>281</td>\n",
       "      <td>Precio Desconocido</td>\n",
       "      <td>es un paraíso de playa Para llegar a la isla l...</td>\n",
       "      <td>3 de octubre de 2012</td>\n",
       "      <td>0</td>\n",
       "      <td>0</td>\n",
       "      <td>4.5</td>\n",
       "      <td>neutral</td>\n",
       "    </tr>\n",
       "    <tr>\n",
       "      <th>4</th>\n",
       "      <td>1126</td>\n",
       "      <td>Tripadvisor</td>\n",
       "      <td>74</td>\n",
       "      <td>Covenas Diving Co.</td>\n",
       "      <td>https://www.tripadvisor.co/Attraction_Review-g...</td>\n",
       "      <td>Coveñas</td>\n",
       "      <td>5.0/5</td>\n",
       "      <td>259</td>\n",
       "      <td>Precio Desconocido</td>\n",
       "      <td>Es muy buena escuela de buceo; excelente los l...</td>\n",
       "      <td>4 de marzo de 2018</td>\n",
       "      <td>0</td>\n",
       "      <td>0</td>\n",
       "      <td>5.0</td>\n",
       "      <td>neutral</td>\n",
       "    </tr>\n",
       "  </tbody>\n",
       "</table>\n",
       "</div>"
      ],
      "text/plain": [
       "     ID        Sitio  Índice del lugar                   Nombre del lugar  \\\n",
       "0   380  Tripadvisor                50                        Isla Múcura   \n",
       "1   196   Foursquare                30  Doki's comidas rápidas (Majagual)   \n",
       "2   723  Tripadvisor                56                 Playa la Coquerita   \n",
       "3   522  Tripadvisor                50                        Isla Múcura   \n",
       "4  1126  Tripadvisor                74                 Covenas Diving Co.   \n",
       "\n",
       "                                    Enlace del lugar    Municipio Valoración  \\\n",
       "0  https://www.tripadvisor.co/Attraction_Review-g...   San Onofre      4.5/5   \n",
       "1  https://es.foursquare.com/v/dokis-comidas-r%C3...    Sincelejo     7.4/10   \n",
       "2  https://www.tripadvisor.co/Attraction_Review-g...      Coveñas      4.0/5   \n",
       "3  https://www.tripadvisor.co/Attraction_Review-g...   San Onofre      4.5/5   \n",
       "4  https://www.tripadvisor.co/Attraction_Review-g...      Coveñas      5.0/5   \n",
       "\n",
       "      Valoraciones              Precio  \\\n",
       "0              281  Precio Desconocido   \n",
       "1  13 valoraciones                   $   \n",
       "2               28  Precio Desconocido   \n",
       "3              281  Precio Desconocido   \n",
       "4              259  Precio Desconocido   \n",
       "\n",
       "                                          Comentario                  Fecha  \\\n",
       "0  La isla es muy hermosa y tiene unas aguas muy ...   24 de agosto de 2017   \n",
       "1  Lahamburguesa de polloy elpatacónDoki, son del...         Abril 12, 2015   \n",
       "2  La playa es preciosa, de aguas mansas y playas...  14 de febrero de 2020   \n",
       "3  es un paraíso de playa Para llegar a la isla l...   3 de octubre de 2012   \n",
       "4  Es muy buena escuela de buceo; excelente los l...     4 de marzo de 2018   \n",
       "\n",
       "   Votos a favor  Votos en contra  Valoración_num Sentimiento  \n",
       "0              0                0             4.5     neutral  \n",
       "1              0                0             7.4    positivo  \n",
       "2              0                0             4.0     neutral  \n",
       "3              0                0             4.5     neutral  \n",
       "4              0                0             5.0     neutral  "
      ]
     },
     "execution_count": 33,
     "metadata": {},
     "output_type": "execute_result"
    }
   ],
   "source": [
    "# Carga del dataset \"TRAIN\"\n",
    "data_train = pd.read_csv('dataset/train.csv')\n",
    "data_train.head(5)"
   ]
  },
  {
   "cell_type": "code",
   "execution_count": 34,
   "metadata": {
    "execution": {
     "iopub.execute_input": "2024-11-26T01:01:40.847451Z",
     "iopub.status.busy": "2024-11-26T01:01:40.847175Z",
     "iopub.status.idle": "2024-11-26T01:01:40.859718Z",
     "shell.execute_reply": "2024-11-26T01:01:40.858481Z",
     "shell.execute_reply.started": "2024-11-26T01:01:40.847423Z"
    },
    "trusted": true
   },
   "outputs": [
    {
     "name": "stdout",
     "output_type": "stream",
     "text": [
      "<class 'pandas.core.frame.DataFrame'>\n",
      "RangeIndex: 818 entries, 0 to 817\n",
      "Data columns (total 15 columns):\n",
      " #   Column            Non-Null Count  Dtype  \n",
      "---  ------            --------------  -----  \n",
      " 0   ID                818 non-null    int64  \n",
      " 1   Sitio             818 non-null    object \n",
      " 2   Índice del lugar  818 non-null    int64  \n",
      " 3   Nombre del lugar  818 non-null    object \n",
      " 4   Enlace del lugar  817 non-null    object \n",
      " 5   Municipio         818 non-null    object \n",
      " 6   Valoración        818 non-null    object \n",
      " 7   Valoraciones      818 non-null    object \n",
      " 8   Precio            818 non-null    object \n",
      " 9   Comentario        818 non-null    object \n",
      " 10  Fecha             818 non-null    object \n",
      " 11  Votos a favor     818 non-null    int64  \n",
      " 12  Votos en contra   818 non-null    int64  \n",
      " 13  Valoración_num    818 non-null    float64\n",
      " 14  Sentimiento       818 non-null    object \n",
      "dtypes: float64(1), int64(4), object(10)\n",
      "memory usage: 96.0+ KB\n"
     ]
    }
   ],
   "source": [
    "data_train.info()"
   ]
  },
  {
   "cell_type": "code",
   "execution_count": 35,
   "metadata": {
    "execution": {
     "iopub.execute_input": "2024-11-26T01:01:40.861698Z",
     "iopub.status.busy": "2024-11-26T01:01:40.861326Z",
     "iopub.status.idle": "2024-11-26T01:01:40.896473Z",
     "shell.execute_reply": "2024-11-26T01:01:40.895481Z",
     "shell.execute_reply.started": "2024-11-26T01:01:40.861665Z"
    },
    "scrolled": true,
    "trusted": true
   },
   "outputs": [
    {
     "data": {
      "text/html": [
       "<div>\n",
       "<style scoped>\n",
       "    .dataframe tbody tr th:only-of-type {\n",
       "        vertical-align: middle;\n",
       "    }\n",
       "\n",
       "    .dataframe tbody tr th {\n",
       "        vertical-align: top;\n",
       "    }\n",
       "\n",
       "    .dataframe thead th {\n",
       "        text-align: right;\n",
       "    }\n",
       "</style>\n",
       "<table border=\"1\" class=\"dataframe\">\n",
       "  <thead>\n",
       "    <tr style=\"text-align: right;\">\n",
       "      <th></th>\n",
       "      <th>ID</th>\n",
       "      <th>Sitio</th>\n",
       "      <th>Índice del lugar</th>\n",
       "      <th>Nombre del lugar</th>\n",
       "      <th>Enlace del lugar</th>\n",
       "      <th>Municipio</th>\n",
       "      <th>Valoración</th>\n",
       "      <th>Valoraciones</th>\n",
       "      <th>Precio</th>\n",
       "      <th>Comentario</th>\n",
       "      <th>Fecha</th>\n",
       "      <th>Votos a favor</th>\n",
       "      <th>Votos en contra</th>\n",
       "      <th>Valoración_num</th>\n",
       "      <th>Sentimiento</th>\n",
       "    </tr>\n",
       "  </thead>\n",
       "  <tbody>\n",
       "    <tr>\n",
       "      <th>0</th>\n",
       "      <td>980</td>\n",
       "      <td>Tripadvisor</td>\n",
       "      <td>74</td>\n",
       "      <td>Covenas Diving Co.</td>\n",
       "      <td>https://www.tripadvisor.co/Attraction_Review-g...</td>\n",
       "      <td>Coveñas</td>\n",
       "      <td>5.0/5</td>\n",
       "      <td>259</td>\n",
       "      <td>Precio Desconocido</td>\n",
       "      <td>De las mejores experiencias de la vida, no se ...</td>\n",
       "      <td>25 de abril de 2021</td>\n",
       "      <td>0</td>\n",
       "      <td>0</td>\n",
       "      <td>5.0</td>\n",
       "      <td>NaN</td>\n",
       "    </tr>\n",
       "    <tr>\n",
       "      <th>1</th>\n",
       "      <td>1249</td>\n",
       "      <td>Tripadvisor</td>\n",
       "      <td>79</td>\n",
       "      <td>Anfibio Sports Adventure</td>\n",
       "      <td>https://www.tripadvisor.co/Attraction_Review-g...</td>\n",
       "      <td>San Onofre</td>\n",
       "      <td>5.0/5</td>\n",
       "      <td>34</td>\n",
       "      <td>Precio Desconocido</td>\n",
       "      <td>Me encanto el plan de Stand up paddle y de bic...</td>\n",
       "      <td>1 de julio de 2021</td>\n",
       "      <td>0</td>\n",
       "      <td>0</td>\n",
       "      <td>5.0</td>\n",
       "      <td>NaN</td>\n",
       "    </tr>\n",
       "    <tr>\n",
       "      <th>2</th>\n",
       "      <td>260</td>\n",
       "      <td>Foursquare</td>\n",
       "      <td>42</td>\n",
       "      <td>Playas De La Primera Ensenada</td>\n",
       "      <td>https://foursquare.com/v/playas-de-la-primera-...</td>\n",
       "      <td>Coveñas</td>\n",
       "      <td>6.9/10</td>\n",
       "      <td>9 valoraciones</td>\n",
       "      <td>Precio Desconocido</td>\n",
       "      <td>Excelentes playas para disfrutar del hermoso m...</td>\n",
       "      <td>Abril 13, 2013</td>\n",
       "      <td>0</td>\n",
       "      <td>0</td>\n",
       "      <td>6.9</td>\n",
       "      <td>NaN</td>\n",
       "    </tr>\n",
       "    <tr>\n",
       "      <th>3</th>\n",
       "      <td>459</td>\n",
       "      <td>Tripadvisor</td>\n",
       "      <td>50</td>\n",
       "      <td>Isla Múcura</td>\n",
       "      <td>https://www.tripadvisor.co/Attraction_Review-g...</td>\n",
       "      <td>San Onofre</td>\n",
       "      <td>4.5/5</td>\n",
       "      <td>281</td>\n",
       "      <td>Precio Desconocido</td>\n",
       "      <td>Experiencia inolvidable Es un paisaje exótico,...</td>\n",
       "      <td>7 de enero de 2015</td>\n",
       "      <td>0</td>\n",
       "      <td>0</td>\n",
       "      <td>4.5</td>\n",
       "      <td>NaN</td>\n",
       "    </tr>\n",
       "    <tr>\n",
       "      <th>4</th>\n",
       "      <td>309</td>\n",
       "      <td>Foursquare</td>\n",
       "      <td>48</td>\n",
       "      <td>Lile's Pizza</td>\n",
       "      <td>https://foursquare.com/v/liles-pizza/5185a7cb4...</td>\n",
       "      <td>Sincelejo</td>\n",
       "      <td>6.7/10</td>\n",
       "      <td>31 valoraciones</td>\n",
       "      <td>$</td>\n",
       "      <td>Excelente la caprichosa y los granizados ;)</td>\n",
       "      <td>Septiembre 19, 2013</td>\n",
       "      <td>0</td>\n",
       "      <td>0</td>\n",
       "      <td>6.7</td>\n",
       "      <td>NaN</td>\n",
       "    </tr>\n",
       "  </tbody>\n",
       "</table>\n",
       "</div>"
      ],
      "text/plain": [
       "     ID        Sitio  Índice del lugar               Nombre del lugar  \\\n",
       "0   980  Tripadvisor                74             Covenas Diving Co.   \n",
       "1  1249  Tripadvisor                79       Anfibio Sports Adventure   \n",
       "2   260   Foursquare                42  Playas De La Primera Ensenada   \n",
       "3   459  Tripadvisor                50                    Isla Múcura   \n",
       "4   309   Foursquare                48                   Lile's Pizza   \n",
       "\n",
       "                                    Enlace del lugar    Municipio Valoración  \\\n",
       "0  https://www.tripadvisor.co/Attraction_Review-g...      Coveñas      5.0/5   \n",
       "1  https://www.tripadvisor.co/Attraction_Review-g...   San Onofre      5.0/5   \n",
       "2  https://foursquare.com/v/playas-de-la-primera-...      Coveñas     6.9/10   \n",
       "3  https://www.tripadvisor.co/Attraction_Review-g...   San Onofre      4.5/5   \n",
       "4  https://foursquare.com/v/liles-pizza/5185a7cb4...    Sincelejo     6.7/10   \n",
       "\n",
       "      Valoraciones              Precio  \\\n",
       "0              259  Precio Desconocido   \n",
       "1               34  Precio Desconocido   \n",
       "2   9 valoraciones  Precio Desconocido   \n",
       "3              281  Precio Desconocido   \n",
       "4  31 valoraciones                   $   \n",
       "\n",
       "                                          Comentario                Fecha  \\\n",
       "0  De las mejores experiencias de la vida, no se ...  25 de abril de 2021   \n",
       "1  Me encanto el plan de Stand up paddle y de bic...   1 de julio de 2021   \n",
       "2  Excelentes playas para disfrutar del hermoso m...       Abril 13, 2013   \n",
       "3  Experiencia inolvidable Es un paisaje exótico,...   7 de enero de 2015   \n",
       "4        Excelente la caprichosa y los granizados ;)  Septiembre 19, 2013   \n",
       "\n",
       "   Votos a favor  Votos en contra  Valoración_num  Sentimiento  \n",
       "0              0                0             5.0          NaN  \n",
       "1              0                0             5.0          NaN  \n",
       "2              0                0             6.9          NaN  \n",
       "3              0                0             4.5          NaN  \n",
       "4              0                0             6.7          NaN  "
      ]
     },
     "execution_count": 35,
     "metadata": {},
     "output_type": "execute_result"
    }
   ],
   "source": [
    "# Carga del dataset \"TEST\"\n",
    "data_test = pd.read_csv('dataset/submission.csv')\n",
    "data_test.head(5)"
   ]
  },
  {
   "cell_type": "code",
   "execution_count": 36,
   "metadata": {
    "execution": {
     "iopub.execute_input": "2024-11-26T01:01:40.898617Z",
     "iopub.status.busy": "2024-11-26T01:01:40.898183Z",
     "iopub.status.idle": "2024-11-26T01:01:40.909987Z",
     "shell.execute_reply": "2024-11-26T01:01:40.908879Z",
     "shell.execute_reply.started": "2024-11-26T01:01:40.898549Z"
    },
    "scrolled": true,
    "trusted": true
   },
   "outputs": [
    {
     "name": "stdout",
     "output_type": "stream",
     "text": [
      "<class 'pandas.core.frame.DataFrame'>\n",
      "RangeIndex: 818 entries, 0 to 817\n",
      "Data columns (total 15 columns):\n",
      " #   Column            Non-Null Count  Dtype  \n",
      "---  ------            --------------  -----  \n",
      " 0   ID                818 non-null    int64  \n",
      " 1   Sitio             818 non-null    object \n",
      " 2   Índice del lugar  818 non-null    int64  \n",
      " 3   Nombre del lugar  818 non-null    object \n",
      " 4   Enlace del lugar  817 non-null    object \n",
      " 5   Municipio         818 non-null    object \n",
      " 6   Valoración        818 non-null    object \n",
      " 7   Valoraciones      818 non-null    object \n",
      " 8   Precio            818 non-null    object \n",
      " 9   Comentario        818 non-null    object \n",
      " 10  Fecha             818 non-null    object \n",
      " 11  Votos a favor     818 non-null    int64  \n",
      " 12  Votos en contra   818 non-null    int64  \n",
      " 13  Valoración_num    818 non-null    float64\n",
      " 14  Sentimiento       818 non-null    object \n",
      "dtypes: float64(1), int64(4), object(10)\n",
      "memory usage: 96.0+ KB\n"
     ]
    }
   ],
   "source": [
    "data_train.info()"
   ]
  },
  {
   "cell_type": "markdown",
   "metadata": {},
   "source": [
    "#### ANÁLISIS DE NULOS"
   ]
  },
  {
   "cell_type": "code",
   "execution_count": 37,
   "metadata": {
    "execution": {
     "iopub.execute_input": "2024-11-26T01:01:40.912417Z",
     "iopub.status.busy": "2024-11-26T01:01:40.912054Z",
     "iopub.status.idle": "2024-11-26T01:01:40.926735Z",
     "shell.execute_reply": "2024-11-26T01:01:40.925460Z",
     "shell.execute_reply.started": "2024-11-26T01:01:40.912383Z"
    },
    "trusted": true
   },
   "outputs": [
    {
     "name": "stdout",
     "output_type": "stream",
     "text": [
      "número total de registros nulos en \"train\" : 1\n",
      "número total de registros nulos en \"test\" : 129\n"
     ]
    }
   ],
   "source": [
    "#total_nulos_train = \n",
    "print(f\"número total de registros nulos en \\\"train\\\" : {data_train.isnull().sum().sum()}\")\n",
    "#total_nulos_test = \n",
    "print(f\"número total de registros nulos en \\\"test\\\" : {data_test.isnull().sum().sum()}\")\n",
    "#nulos_por_columna = df.isnull().sum()\n",
    "#nulos_por_columna"
   ]
  },
  {
   "cell_type": "code",
   "execution_count": 38,
   "metadata": {
    "execution": {
     "iopub.execute_input": "2024-11-26T01:01:40.928699Z",
     "iopub.status.busy": "2024-11-26T01:01:40.928208Z",
     "iopub.status.idle": "2024-11-26T01:01:40.944480Z",
     "shell.execute_reply": "2024-11-26T01:01:40.943262Z",
     "shell.execute_reply.started": "2024-11-26T01:01:40.928651Z"
    },
    "trusted": true
   },
   "outputs": [
    {
     "data": {
      "text/plain": [
       "ID                  0\n",
       "Sitio               0\n",
       "Índice del lugar    0\n",
       "Nombre del lugar    0\n",
       "Enlace del lugar    1\n",
       "Municipio           0\n",
       "Valoración          0\n",
       "Valoraciones        0\n",
       "Precio              0\n",
       "Comentario          0\n",
       "Fecha               0\n",
       "Votos a favor       0\n",
       "Votos en contra     0\n",
       "Valoración_num      0\n",
       "Sentimiento         0\n",
       "dtype: int64"
      ]
     },
     "execution_count": 38,
     "metadata": {},
     "output_type": "execute_result"
    }
   ],
   "source": [
    "nulos_por_columna = data_train.isnull().sum()\n",
    "nulos_por_columna"
   ]
  },
  {
   "cell_type": "code",
   "execution_count": 39,
   "metadata": {
    "execution": {
     "iopub.execute_input": "2024-11-26T01:01:40.946744Z",
     "iopub.status.busy": "2024-11-26T01:01:40.946281Z",
     "iopub.status.idle": "2024-11-26T01:01:40.959445Z",
     "shell.execute_reply": "2024-11-26T01:01:40.958357Z",
     "shell.execute_reply.started": "2024-11-26T01:01:40.946696Z"
    },
    "trusted": true
   },
   "outputs": [
    {
     "data": {
      "text/plain": [
       "ID                    0\n",
       "Sitio                 0\n",
       "Índice del lugar      0\n",
       "Nombre del lugar      0\n",
       "Enlace del lugar      0\n",
       "Municipio             0\n",
       "Valoración            0\n",
       "Valoraciones          0\n",
       "Precio                0\n",
       "Comentario            0\n",
       "Fecha                 0\n",
       "Votos a favor         0\n",
       "Votos en contra       0\n",
       "Valoración_num        0\n",
       "Sentimiento         129\n",
       "dtype: int64"
      ]
     },
     "execution_count": 39,
     "metadata": {},
     "output_type": "execute_result"
    }
   ],
   "source": [
    "nulos_por_columna = data_test.isnull().sum()\n",
    "nulos_por_columna"
   ]
  },
  {
   "cell_type": "markdown",
   "metadata": {},
   "source": [
    "**Conclusión:** El único dataset que posee valores nulos es el de entrenamiento. Sin embargo, la característica dónde se encuentre dicho valor nulo (\"Enlace del lugar\") es prescindible para el análisis. Por lo que se procederá a eliminar dicha característica de ambos dataset."
   ]
  },
  {
   "cell_type": "code",
   "execution_count": 40,
   "metadata": {
    "execution": {
     "iopub.execute_input": "2024-11-26T01:01:40.961238Z",
     "iopub.status.busy": "2024-11-26T01:01:40.960955Z",
     "iopub.status.idle": "2024-11-26T01:01:40.975669Z",
     "shell.execute_reply": "2024-11-26T01:01:40.974497Z",
     "shell.execute_reply.started": "2024-11-26T01:01:40.961211Z"
    },
    "trusted": true
   },
   "outputs": [],
   "source": [
    "data_train = data_train.drop(\"Enlace del lugar\", axis=1)\n",
    "data_test = data_test.drop(\"Enlace del lugar\", axis=1)"
   ]
  },
  {
   "cell_type": "code",
   "execution_count": 41,
   "metadata": {
    "execution": {
     "iopub.execute_input": "2024-11-26T01:01:40.978842Z",
     "iopub.status.busy": "2024-11-26T01:01:40.978478Z",
     "iopub.status.idle": "2024-11-26T01:01:41.000321Z",
     "shell.execute_reply": "2024-11-26T01:01:40.999240Z",
     "shell.execute_reply.started": "2024-11-26T01:01:40.978809Z"
    },
    "scrolled": true,
    "trusted": true
   },
   "outputs": [
    {
     "data": {
      "text/html": [
       "<div>\n",
       "<style scoped>\n",
       "    .dataframe tbody tr th:only-of-type {\n",
       "        vertical-align: middle;\n",
       "    }\n",
       "\n",
       "    .dataframe tbody tr th {\n",
       "        vertical-align: top;\n",
       "    }\n",
       "\n",
       "    .dataframe thead th {\n",
       "        text-align: right;\n",
       "    }\n",
       "</style>\n",
       "<table border=\"1\" class=\"dataframe\">\n",
       "  <thead>\n",
       "    <tr style=\"text-align: right;\">\n",
       "      <th></th>\n",
       "      <th>ID</th>\n",
       "      <th>Sitio</th>\n",
       "      <th>Índice del lugar</th>\n",
       "      <th>Nombre del lugar</th>\n",
       "      <th>Municipio</th>\n",
       "      <th>Valoración</th>\n",
       "      <th>Valoraciones</th>\n",
       "      <th>Precio</th>\n",
       "      <th>Comentario</th>\n",
       "      <th>Fecha</th>\n",
       "      <th>Votos a favor</th>\n",
       "      <th>Votos en contra</th>\n",
       "      <th>Valoración_num</th>\n",
       "      <th>Sentimiento</th>\n",
       "    </tr>\n",
       "  </thead>\n",
       "  <tbody>\n",
       "    <tr>\n",
       "      <th>0</th>\n",
       "      <td>380</td>\n",
       "      <td>Tripadvisor</td>\n",
       "      <td>50</td>\n",
       "      <td>Isla Múcura</td>\n",
       "      <td>San Onofre</td>\n",
       "      <td>4.5/5</td>\n",
       "      <td>281</td>\n",
       "      <td>Precio Desconocido</td>\n",
       "      <td>La isla es muy hermosa y tiene unas aguas muy ...</td>\n",
       "      <td>24 de agosto de 2017</td>\n",
       "      <td>0</td>\n",
       "      <td>0</td>\n",
       "      <td>4.5</td>\n",
       "      <td>neutral</td>\n",
       "    </tr>\n",
       "    <tr>\n",
       "      <th>1</th>\n",
       "      <td>196</td>\n",
       "      <td>Foursquare</td>\n",
       "      <td>30</td>\n",
       "      <td>Doki's comidas rápidas (Majagual)</td>\n",
       "      <td>Sincelejo</td>\n",
       "      <td>7.4/10</td>\n",
       "      <td>13 valoraciones</td>\n",
       "      <td>$</td>\n",
       "      <td>Lahamburguesa de polloy elpatacónDoki, son del...</td>\n",
       "      <td>Abril 12, 2015</td>\n",
       "      <td>0</td>\n",
       "      <td>0</td>\n",
       "      <td>7.4</td>\n",
       "      <td>positivo</td>\n",
       "    </tr>\n",
       "    <tr>\n",
       "      <th>2</th>\n",
       "      <td>723</td>\n",
       "      <td>Tripadvisor</td>\n",
       "      <td>56</td>\n",
       "      <td>Playa la Coquerita</td>\n",
       "      <td>Coveñas</td>\n",
       "      <td>4.0/5</td>\n",
       "      <td>28</td>\n",
       "      <td>Precio Desconocido</td>\n",
       "      <td>La playa es preciosa, de aguas mansas y playas...</td>\n",
       "      <td>14 de febrero de 2020</td>\n",
       "      <td>0</td>\n",
       "      <td>0</td>\n",
       "      <td>4.0</td>\n",
       "      <td>neutral</td>\n",
       "    </tr>\n",
       "    <tr>\n",
       "      <th>3</th>\n",
       "      <td>522</td>\n",
       "      <td>Tripadvisor</td>\n",
       "      <td>50</td>\n",
       "      <td>Isla Múcura</td>\n",
       "      <td>San Onofre</td>\n",
       "      <td>4.5/5</td>\n",
       "      <td>281</td>\n",
       "      <td>Precio Desconocido</td>\n",
       "      <td>es un paraíso de playa Para llegar a la isla l...</td>\n",
       "      <td>3 de octubre de 2012</td>\n",
       "      <td>0</td>\n",
       "      <td>0</td>\n",
       "      <td>4.5</td>\n",
       "      <td>neutral</td>\n",
       "    </tr>\n",
       "    <tr>\n",
       "      <th>4</th>\n",
       "      <td>1126</td>\n",
       "      <td>Tripadvisor</td>\n",
       "      <td>74</td>\n",
       "      <td>Covenas Diving Co.</td>\n",
       "      <td>Coveñas</td>\n",
       "      <td>5.0/5</td>\n",
       "      <td>259</td>\n",
       "      <td>Precio Desconocido</td>\n",
       "      <td>Es muy buena escuela de buceo; excelente los l...</td>\n",
       "      <td>4 de marzo de 2018</td>\n",
       "      <td>0</td>\n",
       "      <td>0</td>\n",
       "      <td>5.0</td>\n",
       "      <td>neutral</td>\n",
       "    </tr>\n",
       "  </tbody>\n",
       "</table>\n",
       "</div>"
      ],
      "text/plain": [
       "     ID        Sitio  Índice del lugar                   Nombre del lugar  \\\n",
       "0   380  Tripadvisor                50                        Isla Múcura   \n",
       "1   196   Foursquare                30  Doki's comidas rápidas (Majagual)   \n",
       "2   723  Tripadvisor                56                 Playa la Coquerita   \n",
       "3   522  Tripadvisor                50                        Isla Múcura   \n",
       "4  1126  Tripadvisor                74                 Covenas Diving Co.   \n",
       "\n",
       "     Municipio Valoración     Valoraciones              Precio  \\\n",
       "0   San Onofre      4.5/5              281  Precio Desconocido   \n",
       "1    Sincelejo     7.4/10  13 valoraciones                   $   \n",
       "2      Coveñas      4.0/5               28  Precio Desconocido   \n",
       "3   San Onofre      4.5/5              281  Precio Desconocido   \n",
       "4      Coveñas      5.0/5              259  Precio Desconocido   \n",
       "\n",
       "                                          Comentario                  Fecha  \\\n",
       "0  La isla es muy hermosa y tiene unas aguas muy ...   24 de agosto de 2017   \n",
       "1  Lahamburguesa de polloy elpatacónDoki, son del...         Abril 12, 2015   \n",
       "2  La playa es preciosa, de aguas mansas y playas...  14 de febrero de 2020   \n",
       "3  es un paraíso de playa Para llegar a la isla l...   3 de octubre de 2012   \n",
       "4  Es muy buena escuela de buceo; excelente los l...     4 de marzo de 2018   \n",
       "\n",
       "   Votos a favor  Votos en contra  Valoración_num Sentimiento  \n",
       "0              0                0             4.5     neutral  \n",
       "1              0                0             7.4    positivo  \n",
       "2              0                0             4.0     neutral  \n",
       "3              0                0             4.5     neutral  \n",
       "4              0                0             5.0     neutral  "
      ]
     },
     "execution_count": 41,
     "metadata": {},
     "output_type": "execute_result"
    }
   ],
   "source": [
    "data_train.head()"
   ]
  },
  {
   "cell_type": "code",
   "execution_count": 42,
   "metadata": {
    "execution": {
     "iopub.execute_input": "2024-11-26T01:01:41.001900Z",
     "iopub.status.busy": "2024-11-26T01:01:41.001589Z",
     "iopub.status.idle": "2024-11-26T01:01:41.028623Z",
     "shell.execute_reply": "2024-11-26T01:01:41.027434Z",
     "shell.execute_reply.started": "2024-11-26T01:01:41.001870Z"
    },
    "scrolled": true,
    "trusted": true
   },
   "outputs": [
    {
     "data": {
      "text/html": [
       "<div>\n",
       "<style scoped>\n",
       "    .dataframe tbody tr th:only-of-type {\n",
       "        vertical-align: middle;\n",
       "    }\n",
       "\n",
       "    .dataframe tbody tr th {\n",
       "        vertical-align: top;\n",
       "    }\n",
       "\n",
       "    .dataframe thead th {\n",
       "        text-align: right;\n",
       "    }\n",
       "</style>\n",
       "<table border=\"1\" class=\"dataframe\">\n",
       "  <thead>\n",
       "    <tr style=\"text-align: right;\">\n",
       "      <th></th>\n",
       "      <th>ID</th>\n",
       "      <th>Sitio</th>\n",
       "      <th>Índice del lugar</th>\n",
       "      <th>Nombre del lugar</th>\n",
       "      <th>Municipio</th>\n",
       "      <th>Valoración</th>\n",
       "      <th>Valoraciones</th>\n",
       "      <th>Precio</th>\n",
       "      <th>Comentario</th>\n",
       "      <th>Fecha</th>\n",
       "      <th>Votos a favor</th>\n",
       "      <th>Votos en contra</th>\n",
       "      <th>Valoración_num</th>\n",
       "      <th>Sentimiento</th>\n",
       "    </tr>\n",
       "  </thead>\n",
       "  <tbody>\n",
       "    <tr>\n",
       "      <th>0</th>\n",
       "      <td>980</td>\n",
       "      <td>Tripadvisor</td>\n",
       "      <td>74</td>\n",
       "      <td>Covenas Diving Co.</td>\n",
       "      <td>Coveñas</td>\n",
       "      <td>5.0/5</td>\n",
       "      <td>259</td>\n",
       "      <td>Precio Desconocido</td>\n",
       "      <td>De las mejores experiencias de la vida, no se ...</td>\n",
       "      <td>25 de abril de 2021</td>\n",
       "      <td>0</td>\n",
       "      <td>0</td>\n",
       "      <td>5.0</td>\n",
       "      <td>NaN</td>\n",
       "    </tr>\n",
       "    <tr>\n",
       "      <th>1</th>\n",
       "      <td>1249</td>\n",
       "      <td>Tripadvisor</td>\n",
       "      <td>79</td>\n",
       "      <td>Anfibio Sports Adventure</td>\n",
       "      <td>San Onofre</td>\n",
       "      <td>5.0/5</td>\n",
       "      <td>34</td>\n",
       "      <td>Precio Desconocido</td>\n",
       "      <td>Me encanto el plan de Stand up paddle y de bic...</td>\n",
       "      <td>1 de julio de 2021</td>\n",
       "      <td>0</td>\n",
       "      <td>0</td>\n",
       "      <td>5.0</td>\n",
       "      <td>NaN</td>\n",
       "    </tr>\n",
       "    <tr>\n",
       "      <th>2</th>\n",
       "      <td>260</td>\n",
       "      <td>Foursquare</td>\n",
       "      <td>42</td>\n",
       "      <td>Playas De La Primera Ensenada</td>\n",
       "      <td>Coveñas</td>\n",
       "      <td>6.9/10</td>\n",
       "      <td>9 valoraciones</td>\n",
       "      <td>Precio Desconocido</td>\n",
       "      <td>Excelentes playas para disfrutar del hermoso m...</td>\n",
       "      <td>Abril 13, 2013</td>\n",
       "      <td>0</td>\n",
       "      <td>0</td>\n",
       "      <td>6.9</td>\n",
       "      <td>NaN</td>\n",
       "    </tr>\n",
       "    <tr>\n",
       "      <th>3</th>\n",
       "      <td>459</td>\n",
       "      <td>Tripadvisor</td>\n",
       "      <td>50</td>\n",
       "      <td>Isla Múcura</td>\n",
       "      <td>San Onofre</td>\n",
       "      <td>4.5/5</td>\n",
       "      <td>281</td>\n",
       "      <td>Precio Desconocido</td>\n",
       "      <td>Experiencia inolvidable Es un paisaje exótico,...</td>\n",
       "      <td>7 de enero de 2015</td>\n",
       "      <td>0</td>\n",
       "      <td>0</td>\n",
       "      <td>4.5</td>\n",
       "      <td>NaN</td>\n",
       "    </tr>\n",
       "    <tr>\n",
       "      <th>4</th>\n",
       "      <td>309</td>\n",
       "      <td>Foursquare</td>\n",
       "      <td>48</td>\n",
       "      <td>Lile's Pizza</td>\n",
       "      <td>Sincelejo</td>\n",
       "      <td>6.7/10</td>\n",
       "      <td>31 valoraciones</td>\n",
       "      <td>$</td>\n",
       "      <td>Excelente la caprichosa y los granizados ;)</td>\n",
       "      <td>Septiembre 19, 2013</td>\n",
       "      <td>0</td>\n",
       "      <td>0</td>\n",
       "      <td>6.7</td>\n",
       "      <td>NaN</td>\n",
       "    </tr>\n",
       "  </tbody>\n",
       "</table>\n",
       "</div>"
      ],
      "text/plain": [
       "     ID        Sitio  Índice del lugar               Nombre del lugar  \\\n",
       "0   980  Tripadvisor                74             Covenas Diving Co.   \n",
       "1  1249  Tripadvisor                79       Anfibio Sports Adventure   \n",
       "2   260   Foursquare                42  Playas De La Primera Ensenada   \n",
       "3   459  Tripadvisor                50                    Isla Múcura   \n",
       "4   309   Foursquare                48                   Lile's Pizza   \n",
       "\n",
       "     Municipio Valoración     Valoraciones              Precio  \\\n",
       "0      Coveñas      5.0/5              259  Precio Desconocido   \n",
       "1   San Onofre      5.0/5               34  Precio Desconocido   \n",
       "2      Coveñas     6.9/10   9 valoraciones  Precio Desconocido   \n",
       "3   San Onofre      4.5/5              281  Precio Desconocido   \n",
       "4    Sincelejo     6.7/10  31 valoraciones                   $   \n",
       "\n",
       "                                          Comentario                Fecha  \\\n",
       "0  De las mejores experiencias de la vida, no se ...  25 de abril de 2021   \n",
       "1  Me encanto el plan de Stand up paddle y de bic...   1 de julio de 2021   \n",
       "2  Excelentes playas para disfrutar del hermoso m...       Abril 13, 2013   \n",
       "3  Experiencia inolvidable Es un paisaje exótico,...   7 de enero de 2015   \n",
       "4        Excelente la caprichosa y los granizados ;)  Septiembre 19, 2013   \n",
       "\n",
       "   Votos a favor  Votos en contra  Valoración_num  Sentimiento  \n",
       "0              0                0             5.0          NaN  \n",
       "1              0                0             5.0          NaN  \n",
       "2              0                0             6.9          NaN  \n",
       "3              0                0             4.5          NaN  \n",
       "4              0                0             6.7          NaN  "
      ]
     },
     "execution_count": 42,
     "metadata": {},
     "output_type": "execute_result"
    }
   ],
   "source": [
    "data_test.head()"
   ]
  },
  {
   "cell_type": "markdown",
   "metadata": {},
   "source": [
    "#### ANÁLISIS DE VALORES ÚNICOS"
   ]
  },
  {
   "cell_type": "code",
   "execution_count": 43,
   "metadata": {
    "execution": {
     "iopub.execute_input": "2024-11-26T01:01:41.030301Z",
     "iopub.status.busy": "2024-11-26T01:01:41.029975Z",
     "iopub.status.idle": "2024-11-26T01:01:41.045690Z",
     "shell.execute_reply": "2024-11-26T01:01:41.044363Z",
     "shell.execute_reply.started": "2024-11-26T01:01:41.030270Z"
    },
    "trusted": true
   },
   "outputs": [
    {
     "name": "stdout",
     "output_type": "stream",
     "text": [
      "Columna 'ID' tiene 818 valores únicos.\n",
      "Columna 'Sitio' tiene 2 valores únicos.\n",
      "Columna 'Índice del lugar' tiene 69 valores únicos.\n",
      "Columna 'Nombre del lugar' tiene 73 valores únicos.\n",
      "Columna 'Municipio' tiene 9 valores únicos.\n",
      "Columna 'Valoración' tiene 23 valores únicos.\n",
      "Columna 'Valoraciones' tiene 43 valores únicos.\n",
      "Columna 'Precio' tiene 4 valores únicos.\n",
      "Columna 'Comentario' tiene 809 valores únicos.\n",
      "Columna 'Fecha' tiene 688 valores únicos.\n",
      "Columna 'Votos a favor' tiene 16 valores únicos.\n",
      "Columna 'Votos en contra' tiene 2 valores únicos.\n",
      "Columna 'Valoración_num' tiene 23 valores únicos.\n",
      "Columna 'Sentimiento' tiene 3 valores únicos.\n"
     ]
    }
   ],
   "source": [
    "# Analizar las columnas y sus valores\n",
    "for col in data_train.columns:\n",
    "    unique_vals = data_train[col].nunique()\n",
    "    print(f\"Columna '{col}' tiene {unique_vals} valores únicos.\")"
   ]
  },
  {
   "cell_type": "markdown",
   "metadata": {},
   "source": [
    "**Conclusiones:** Tomando como punto de partida lo que se nos solicita en el reto, decidimos que las siguientes carácterísticas no son relevantes en el análisis de sentimientos a las reseñas:\n",
    "\n",
    "* **ID** \n",
    "* **Sitio**\n",
    "* **Indice del lugar**\n",
    "* **Nombre del lugar**\n",
    "* **Municipio**\n",
    "* **Valoraciones**\n",
    "* **Precio**\n",
    "* **Fecha**\n",
    "* **Valoración_num**\n",
    "* ****"
   ]
  },
  {
   "cell_type": "markdown",
   "metadata": {},
   "source": [
    "#### EDA VARIABLES CATEGÓRICAS"
   ]
  },
  {
   "cell_type": "code",
   "execution_count": 44,
   "metadata": {
    "execution": {
     "iopub.execute_input": "2024-11-26T01:01:41.048117Z",
     "iopub.status.busy": "2024-11-26T01:01:41.047283Z",
     "iopub.status.idle": "2024-11-26T01:01:41.057611Z",
     "shell.execute_reply": "2024-11-26T01:01:41.056423Z",
     "shell.execute_reply.started": "2024-11-26T01:01:41.048055Z"
    },
    "scrolled": true,
    "trusted": true
   },
   "outputs": [
    {
     "name": "stdout",
     "output_type": "stream",
     "text": [
      "Columnas de las variables categóricas:\n",
      " - Sitio\n",
      " - Nombre del lugar\n",
      " - Municipio\n",
      " - Valoración\n",
      " - Valoraciones\n",
      " - Precio\n",
      " - Comentario\n",
      " - Fecha\n",
      " - Sentimiento\n"
     ]
    }
   ],
   "source": [
    "categorical_cols = data_train.select_dtypes(include=['object']).columns.tolist()\n",
    "\n",
    "print(\"Columnas de las variables categóricas:\")\n",
    "for col in categorical_cols:\n",
    "    print(\" -\",col)"
   ]
  },
  {
   "cell_type": "markdown",
   "metadata": {},
   "source": [
    "**Conclusiones:**  Dada la naturaleza de algunas características, algunas no se consideran relevantes para el análisis. Por lo que se procederá a eliminar las siguientes carácterístcas:\n",
    "\n",
    "* Sitio\n",
    "* Nombre del luga\n",
    "* Municip\n",
    "* Valorac\n",
    "* Valoraci\n",
    "* Precioo\n",
    " \n",
    "timiento"
   ]
  },
  {
   "cell_type": "code",
   "execution_count": 45,
   "metadata": {
    "execution": {
     "iopub.execute_input": "2024-11-26T01:01:41.059844Z",
     "iopub.status.busy": "2024-11-26T01:01:41.059260Z",
     "iopub.status.idle": "2024-11-26T01:01:41.077015Z",
     "shell.execute_reply": "2024-11-26T01:01:41.075733Z",
     "shell.execute_reply.started": "2024-11-26T01:01:41.059770Z"
    },
    "trusted": true
   },
   "outputs": [
    {
     "data": {
      "text/html": [
       "<div>\n",
       "<style scoped>\n",
       "    .dataframe tbody tr th:only-of-type {\n",
       "        vertical-align: middle;\n",
       "    }\n",
       "\n",
       "    .dataframe tbody tr th {\n",
       "        vertical-align: top;\n",
       "    }\n",
       "\n",
       "    .dataframe thead th {\n",
       "        text-align: right;\n",
       "    }\n",
       "</style>\n",
       "<table border=\"1\" class=\"dataframe\">\n",
       "  <thead>\n",
       "    <tr style=\"text-align: right;\">\n",
       "      <th></th>\n",
       "      <th>Comentario</th>\n",
       "      <th>Sentimiento</th>\n",
       "    </tr>\n",
       "  </thead>\n",
       "  <tbody>\n",
       "    <tr>\n",
       "      <th>0</th>\n",
       "      <td>La isla es muy hermosa y tiene unas aguas muy ...</td>\n",
       "      <td>neutral</td>\n",
       "    </tr>\n",
       "    <tr>\n",
       "      <th>1</th>\n",
       "      <td>Lahamburguesa de polloy elpatacónDoki, son del...</td>\n",
       "      <td>positivo</td>\n",
       "    </tr>\n",
       "    <tr>\n",
       "      <th>2</th>\n",
       "      <td>La playa es preciosa, de aguas mansas y playas...</td>\n",
       "      <td>neutral</td>\n",
       "    </tr>\n",
       "    <tr>\n",
       "      <th>3</th>\n",
       "      <td>es un paraíso de playa Para llegar a la isla l...</td>\n",
       "      <td>neutral</td>\n",
       "    </tr>\n",
       "    <tr>\n",
       "      <th>4</th>\n",
       "      <td>Es muy buena escuela de buceo; excelente los l...</td>\n",
       "      <td>neutral</td>\n",
       "    </tr>\n",
       "    <tr>\n",
       "      <th>...</th>\n",
       "      <td>...</td>\n",
       "      <td>...</td>\n",
       "    </tr>\n",
       "    <tr>\n",
       "      <th>813</th>\n",
       "      <td>Lomitoa lasfinas hierbas... buenisimo!</td>\n",
       "      <td>positivo</td>\n",
       "    </tr>\n",
       "    <tr>\n",
       "      <th>814</th>\n",
       "      <td>Hicimos un excelente fun dive con Stefania y G...</td>\n",
       "      <td>neutral</td>\n",
       "    </tr>\n",
       "    <tr>\n",
       "      <th>815</th>\n",
       "      <td>El parque a su alrededor estaba en remodelació...</td>\n",
       "      <td>neutral</td>\n",
       "    </tr>\n",
       "    <tr>\n",
       "      <th>816</th>\n",
       "      <td>La mejor experiencia en Coveñas, totalmente re...</td>\n",
       "      <td>neutral</td>\n",
       "    </tr>\n",
       "    <tr>\n",
       "      <th>817</th>\n",
       "      <td>A mediados de enero aún conservaba la decoraci...</td>\n",
       "      <td>neutral</td>\n",
       "    </tr>\n",
       "  </tbody>\n",
       "</table>\n",
       "<p>818 rows × 2 columns</p>\n",
       "</div>"
      ],
      "text/plain": [
       "                                            Comentario Sentimiento\n",
       "0    La isla es muy hermosa y tiene unas aguas muy ...     neutral\n",
       "1    Lahamburguesa de polloy elpatacónDoki, son del...    positivo\n",
       "2    La playa es preciosa, de aguas mansas y playas...     neutral\n",
       "3    es un paraíso de playa Para llegar a la isla l...     neutral\n",
       "4    Es muy buena escuela de buceo; excelente los l...     neutral\n",
       "..                                                 ...         ...\n",
       "813             Lomitoa lasfinas hierbas... buenisimo!    positivo\n",
       "814  Hicimos un excelente fun dive con Stefania y G...     neutral\n",
       "815  El parque a su alrededor estaba en remodelació...     neutral\n",
       "816  La mejor experiencia en Coveñas, totalmente re...     neutral\n",
       "817  A mediados de enero aún conservaba la decoraci...     neutral\n",
       "\n",
       "[818 rows x 2 columns]"
      ]
     },
     "execution_count": 45,
     "metadata": {},
     "output_type": "execute_result"
    }
   ],
   "source": [
    "data_train = data_train.drop(columns=[ 'Sitio', 'Nombre del lugar', 'Municipio', 'Valoración', 'Valoraciones', 'Precio', 'Fecha'])\n",
    "data_train.select_dtypes('O')"
   ]
  },
  {
   "cell_type": "markdown",
   "metadata": {},
   "source": [
    "#### EDA VARIABLES NUMÉRICAS"
   ]
  },
  {
   "cell_type": "code",
   "execution_count": 46,
   "metadata": {
    "execution": {
     "iopub.execute_input": "2024-11-26T01:01:41.079479Z",
     "iopub.status.busy": "2024-11-26T01:01:41.078546Z",
     "iopub.status.idle": "2024-11-26T01:01:41.087952Z",
     "shell.execute_reply": "2024-11-26T01:01:41.086887Z",
     "shell.execute_reply.started": "2024-11-26T01:01:41.079442Z"
    },
    "trusted": true
   },
   "outputs": [],
   "source": [
    "def estadisticos_cont(num):\n",
    "    #Calculamos describe\n",
    "    estadisticos = num.describe().T\n",
    "    #Añadimos la mediana\n",
    "    estadisticos['median'] = num.median()\n",
    "    #Reordenamos para que la mediana esté al lado de la media\n",
    "    estadisticos = estadisticos.iloc[:,[0,1,8,2,3,4,5,6,7]]\n",
    "    #Lo devolvemos\n",
    "    return(estadisticos)"
   ]
  },
  {
   "cell_type": "code",
   "execution_count": 47,
   "metadata": {
    "execution": {
     "iopub.execute_input": "2024-11-26T01:01:41.091474Z",
     "iopub.status.busy": "2024-11-26T01:01:41.091129Z",
     "iopub.status.idle": "2024-11-26T01:01:41.129092Z",
     "shell.execute_reply": "2024-11-26T01:01:41.127985Z",
     "shell.execute_reply.started": "2024-11-26T01:01:41.091442Z"
    },
    "trusted": true
   },
   "outputs": [
    {
     "data": {
      "text/html": [
       "<div>\n",
       "<style scoped>\n",
       "    .dataframe tbody tr th:only-of-type {\n",
       "        vertical-align: middle;\n",
       "    }\n",
       "\n",
       "    .dataframe tbody tr th {\n",
       "        vertical-align: top;\n",
       "    }\n",
       "\n",
       "    .dataframe thead th {\n",
       "        text-align: right;\n",
       "    }\n",
       "</style>\n",
       "<table border=\"1\" class=\"dataframe\">\n",
       "  <thead>\n",
       "    <tr style=\"text-align: right;\">\n",
       "      <th></th>\n",
       "      <th>count</th>\n",
       "      <th>mean</th>\n",
       "      <th>median</th>\n",
       "      <th>std</th>\n",
       "      <th>min</th>\n",
       "      <th>25%</th>\n",
       "      <th>50%</th>\n",
       "      <th>75%</th>\n",
       "      <th>max</th>\n",
       "    </tr>\n",
       "  </thead>\n",
       "  <tbody>\n",
       "    <tr>\n",
       "      <th>ID</th>\n",
       "      <td>818.0</td>\n",
       "      <td>652.980440</td>\n",
       "      <td>660.5</td>\n",
       "      <td>373.715546</td>\n",
       "      <td>1.0</td>\n",
       "      <td>331.25</td>\n",
       "      <td>660.5</td>\n",
       "      <td>974.75</td>\n",
       "      <td>1298.0</td>\n",
       "    </tr>\n",
       "    <tr>\n",
       "      <th>Índice del lugar</th>\n",
       "      <td>818.0</td>\n",
       "      <td>52.808068</td>\n",
       "      <td>53.0</td>\n",
       "      <td>21.491306</td>\n",
       "      <td>1.0</td>\n",
       "      <td>50.00</td>\n",
       "      <td>53.0</td>\n",
       "      <td>74.00</td>\n",
       "      <td>81.0</td>\n",
       "    </tr>\n",
       "    <tr>\n",
       "      <th>Votos a favor</th>\n",
       "      <td>818.0</td>\n",
       "      <td>0.591687</td>\n",
       "      <td>0.0</td>\n",
       "      <td>1.586982</td>\n",
       "      <td>0.0</td>\n",
       "      <td>0.00</td>\n",
       "      <td>0.0</td>\n",
       "      <td>1.00</td>\n",
       "      <td>17.0</td>\n",
       "    </tr>\n",
       "    <tr>\n",
       "      <th>Votos en contra</th>\n",
       "      <td>818.0</td>\n",
       "      <td>0.001222</td>\n",
       "      <td>0.0</td>\n",
       "      <td>0.034964</td>\n",
       "      <td>0.0</td>\n",
       "      <td>0.00</td>\n",
       "      <td>0.0</td>\n",
       "      <td>0.00</td>\n",
       "      <td>1.0</td>\n",
       "    </tr>\n",
       "    <tr>\n",
       "      <th>Valoración_num</th>\n",
       "      <td>818.0</td>\n",
       "      <td>5.369438</td>\n",
       "      <td>5.0</td>\n",
       "      <td>1.463441</td>\n",
       "      <td>3.5</td>\n",
       "      <td>4.50</td>\n",
       "      <td>5.0</td>\n",
       "      <td>5.00</td>\n",
       "      <td>8.9</td>\n",
       "    </tr>\n",
       "  </tbody>\n",
       "</table>\n",
       "</div>"
      ],
      "text/plain": [
       "                  count        mean  median         std  min     25%    50%  \\\n",
       "ID                818.0  652.980440   660.5  373.715546  1.0  331.25  660.5   \n",
       "Índice del lugar  818.0   52.808068    53.0   21.491306  1.0   50.00   53.0   \n",
       "Votos a favor     818.0    0.591687     0.0    1.586982  0.0    0.00    0.0   \n",
       "Votos en contra   818.0    0.001222     0.0    0.034964  0.0    0.00    0.0   \n",
       "Valoración_num    818.0    5.369438     5.0    1.463441  3.5    4.50    5.0   \n",
       "\n",
       "                     75%     max  \n",
       "ID                974.75  1298.0  \n",
       "Índice del lugar   74.00    81.0  \n",
       "Votos a favor       1.00    17.0  \n",
       "Votos en contra     0.00     1.0  \n",
       "Valoración_num      5.00     8.9  "
      ]
     },
     "execution_count": 47,
     "metadata": {},
     "output_type": "execute_result"
    }
   ],
   "source": [
    "estadisticos_cont(data_train.select_dtypes('number'))"
   ]
  },
  {
   "cell_type": "markdown",
   "metadata": {},
   "source": [
    "**Conclusión:** ID e Índice del lugar no aportan al entrénamiento. Se procederá a eleminar estas carácterísticas."
   ]
  },
  {
   "cell_type": "code",
   "execution_count": 48,
   "metadata": {
    "execution": {
     "iopub.execute_input": "2024-11-26T01:01:41.130491Z",
     "iopub.status.busy": "2024-11-26T01:01:41.130200Z",
     "iopub.status.idle": "2024-11-26T01:01:41.145118Z",
     "shell.execute_reply": "2024-11-26T01:01:41.144033Z",
     "shell.execute_reply.started": "2024-11-26T01:01:41.130463Z"
    },
    "trusted": true
   },
   "outputs": [
    {
     "data": {
      "text/html": [
       "<div>\n",
       "<style scoped>\n",
       "    .dataframe tbody tr th:only-of-type {\n",
       "        vertical-align: middle;\n",
       "    }\n",
       "\n",
       "    .dataframe tbody tr th {\n",
       "        vertical-align: top;\n",
       "    }\n",
       "\n",
       "    .dataframe thead th {\n",
       "        text-align: right;\n",
       "    }\n",
       "</style>\n",
       "<table border=\"1\" class=\"dataframe\">\n",
       "  <thead>\n",
       "    <tr style=\"text-align: right;\">\n",
       "      <th></th>\n",
       "      <th>Comentario</th>\n",
       "      <th>Votos a favor</th>\n",
       "      <th>Votos en contra</th>\n",
       "      <th>Valoración_num</th>\n",
       "      <th>Sentimiento</th>\n",
       "    </tr>\n",
       "  </thead>\n",
       "  <tbody>\n",
       "    <tr>\n",
       "      <th>0</th>\n",
       "      <td>La isla es muy hermosa y tiene unas aguas muy ...</td>\n",
       "      <td>0</td>\n",
       "      <td>0</td>\n",
       "      <td>4.5</td>\n",
       "      <td>neutral</td>\n",
       "    </tr>\n",
       "    <tr>\n",
       "      <th>1</th>\n",
       "      <td>Lahamburguesa de polloy elpatacónDoki, son del...</td>\n",
       "      <td>0</td>\n",
       "      <td>0</td>\n",
       "      <td>7.4</td>\n",
       "      <td>positivo</td>\n",
       "    </tr>\n",
       "    <tr>\n",
       "      <th>2</th>\n",
       "      <td>La playa es preciosa, de aguas mansas y playas...</td>\n",
       "      <td>0</td>\n",
       "      <td>0</td>\n",
       "      <td>4.0</td>\n",
       "      <td>neutral</td>\n",
       "    </tr>\n",
       "    <tr>\n",
       "      <th>3</th>\n",
       "      <td>es un paraíso de playa Para llegar a la isla l...</td>\n",
       "      <td>0</td>\n",
       "      <td>0</td>\n",
       "      <td>4.5</td>\n",
       "      <td>neutral</td>\n",
       "    </tr>\n",
       "    <tr>\n",
       "      <th>4</th>\n",
       "      <td>Es muy buena escuela de buceo; excelente los l...</td>\n",
       "      <td>0</td>\n",
       "      <td>0</td>\n",
       "      <td>5.0</td>\n",
       "      <td>neutral</td>\n",
       "    </tr>\n",
       "    <tr>\n",
       "      <th>...</th>\n",
       "      <td>...</td>\n",
       "      <td>...</td>\n",
       "      <td>...</td>\n",
       "      <td>...</td>\n",
       "      <td>...</td>\n",
       "    </tr>\n",
       "    <tr>\n",
       "      <th>813</th>\n",
       "      <td>Lomitoa lasfinas hierbas... buenisimo!</td>\n",
       "      <td>0</td>\n",
       "      <td>0</td>\n",
       "      <td>8.7</td>\n",
       "      <td>positivo</td>\n",
       "    </tr>\n",
       "    <tr>\n",
       "      <th>814</th>\n",
       "      <td>Hicimos un excelente fun dive con Stefania y G...</td>\n",
       "      <td>0</td>\n",
       "      <td>0</td>\n",
       "      <td>5.0</td>\n",
       "      <td>neutral</td>\n",
       "    </tr>\n",
       "    <tr>\n",
       "      <th>815</th>\n",
       "      <td>El parque a su alrededor estaba en remodelació...</td>\n",
       "      <td>0</td>\n",
       "      <td>0</td>\n",
       "      <td>4.0</td>\n",
       "      <td>neutral</td>\n",
       "    </tr>\n",
       "    <tr>\n",
       "      <th>816</th>\n",
       "      <td>La mejor experiencia en Coveñas, totalmente re...</td>\n",
       "      <td>0</td>\n",
       "      <td>0</td>\n",
       "      <td>5.0</td>\n",
       "      <td>neutral</td>\n",
       "    </tr>\n",
       "    <tr>\n",
       "      <th>817</th>\n",
       "      <td>A mediados de enero aún conservaba la decoraci...</td>\n",
       "      <td>0</td>\n",
       "      <td>0</td>\n",
       "      <td>4.0</td>\n",
       "      <td>neutral</td>\n",
       "    </tr>\n",
       "  </tbody>\n",
       "</table>\n",
       "<p>818 rows × 5 columns</p>\n",
       "</div>"
      ],
      "text/plain": [
       "                                            Comentario  Votos a favor  \\\n",
       "0    La isla es muy hermosa y tiene unas aguas muy ...              0   \n",
       "1    Lahamburguesa de polloy elpatacónDoki, son del...              0   \n",
       "2    La playa es preciosa, de aguas mansas y playas...              0   \n",
       "3    es un paraíso de playa Para llegar a la isla l...              0   \n",
       "4    Es muy buena escuela de buceo; excelente los l...              0   \n",
       "..                                                 ...            ...   \n",
       "813             Lomitoa lasfinas hierbas... buenisimo!              0   \n",
       "814  Hicimos un excelente fun dive con Stefania y G...              0   \n",
       "815  El parque a su alrededor estaba en remodelació...              0   \n",
       "816  La mejor experiencia en Coveñas, totalmente re...              0   \n",
       "817  A mediados de enero aún conservaba la decoraci...              0   \n",
       "\n",
       "     Votos en contra  Valoración_num Sentimiento  \n",
       "0                  0             4.5     neutral  \n",
       "1                  0             7.4    positivo  \n",
       "2                  0             4.0     neutral  \n",
       "3                  0             4.5     neutral  \n",
       "4                  0             5.0     neutral  \n",
       "..               ...             ...         ...  \n",
       "813                0             8.7    positivo  \n",
       "814                0             5.0     neutral  \n",
       "815                0             4.0     neutral  \n",
       "816                0             5.0     neutral  \n",
       "817                0             4.0     neutral  \n",
       "\n",
       "[818 rows x 5 columns]"
      ]
     },
     "execution_count": 48,
     "metadata": {},
     "output_type": "execute_result"
    }
   ],
   "source": [
    "data_train = data_train.drop(columns=[ 'ID', 'Índice del lugar'])\n",
    "data_train"
   ]
  },
  {
   "cell_type": "markdown",
   "metadata": {},
   "source": [
    "# Preprocesamiento: Entrenamiento y Normalización"
   ]
  },
  {
   "cell_type": "code",
   "execution_count": 49,
   "metadata": {
    "execution": {
     "iopub.execute_input": "2024-11-26T01:01:41.147072Z",
     "iopub.status.busy": "2024-11-26T01:01:41.146625Z",
     "iopub.status.idle": "2024-11-26T01:01:41.157452Z",
     "shell.execute_reply": "2024-11-26T01:01:41.156287Z",
     "shell.execute_reply.started": "2024-11-26T01:01:41.147024Z"
    },
    "trusted": true
   },
   "outputs": [],
   "source": [
    "# Convertir la columna Sentimiento a etiquetas numéricas\n",
    "sentiment_mapping = {'positivo': 2, 'neutral': 1, 'negativo': 0}\n",
    "data_train['Sentimiento_num'] = data_train['Sentimiento'].map(sentiment_mapping)\n",
    "\n",
    "# Separamos las etiquetas\n",
    "X_text_train = data_train['Comentario']\n",
    "y_train = data_train['Sentimiento']"
   ]
  },
  {
   "cell_type": "code",
   "execution_count": 50,
   "metadata": {
    "execution": {
     "iopub.execute_input": "2024-11-26T01:01:41.159429Z",
     "iopub.status.busy": "2024-11-26T01:01:41.159091Z",
     "iopub.status.idle": "2024-11-26T01:01:41.177640Z",
     "shell.execute_reply": "2024-11-26T01:01:41.176381Z",
     "shell.execute_reply.started": "2024-11-26T01:01:41.159395Z"
    },
    "trusted": true
   },
   "outputs": [],
   "source": [
    "# Dividir el dataset en conjunto de entrenamiento y prueba\n",
    "X_train, X_val, y_train, y_val = train_test_split(X_text_train, y_train, test_size=0.2, random_state=42)\n",
    "\n",
    "# Lista de palabras de detención para español\n",
    "spanish_stop_words = [\n",
    "    \"de\", \"la\", \"que\", \"el\", \"en\", \"y\", \"a\", \"los\", \"del\", \"se\", \"las\", \"por\", \"un\", \"para\", \n",
    "    \"con\", \"no\", \"una\", \"su\", \"al\", \"lo\", \"como\", \"más\", \"pero\", \"sus\", \"le\", \"ya\", \"o\", \n",
    "    \"este\", \"sí\", \"porque\", \"esta\", \"entre\", \"cuando\", \"muy\", \"sin\", \"sobre\", \"también\", \n",
    "    \"me\", \"hasta\", \"hay\", \"donde\", \"quien\", \"desde\", \"todo\", \"nos\", \"durante\", \"todos\", \n",
    "    \"uno\", \"les\", \"ni\", \"contra\", \"otros\", \"ese\", \"eso\", \"ante\", \"ellos\", \"e\", \"esto\", \n",
    "    \"mí\", \"antes\", \"algunos\", \"qué\", \"unos\", \"yo\", \"otro\", \"otras\", \"otra\", \"él\", \n",
    "    \"tanto\", \"esa\", \"estos\", \"mucho\", \"quienes\", \"nada\", \"muchos\", \"cual\", \"poco\", \n",
    "    \"ella\", \"estar\", \"estas\", \"algunas\", \"algo\", \"nosotros\", \"mi\", \"mis\", \"tú\", \"te\", \n",
    "    \"ti\", \"tu\", \"tus\", \"ellas\", \"nosotras\", \"vosotros\", \"vosotras\", \"os\", \"mío\", \"mía\", \n",
    "    \"míos\", \"mías\", \"tuyo\", \"tuya\", \"tuyos\", \"tuyas\", \"suyo\", \"suya\", \"suyos\", \"suyas\", \n",
    "    \"nuestro\", \"nuestra\", \"nuestros\", \"nuestras\", \"vuestro\", \"vuestra\", \"vuestros\", \n",
    "    \"vuestras\", \"esos\", \"esas\", \"estoy\", \"estás\", \"está\", \"estamos\", \"estáis\", \"están\", \n",
    "    \"esté\", \"estés\", \"estemos\", \"estéis\", \"estén\", \"estaré\", \"estarás\", \"estará\", \n",
    "    \"estaremos\", \"estaréis\", \"estarán\", \"estaría\", \"estarías\", \"estaríamos\", \n",
    "    \"estaríais\", \"estarían\", \"estaba\", \"estabas\", \"estábamos\", \"estabais\", \"estaban\", \n",
    "    \"estuve\", \"estuviste\", \"estuvo\", \"estuvimos\", \"estuvisteis\", \"estuvieron\", \"estuviera\", \n",
    "    \"estuvieras\", \"estuviéramos\", \"estuvierais\", \"estuvieran\", \"estuviese\", \"estuvieses\", \n",
    "    \"estuviésemos\", \"estuvieseis\", \"estuviesen\", \"estando\", \"estado\", \"estados\", \n",
    "    \"estada\", \"estadas\", \"estad\"\n",
    "]"
   ]
  },
  {
   "cell_type": "code",
   "execution_count": 51,
   "metadata": {
    "execution": {
     "iopub.execute_input": "2024-11-26T01:01:41.179730Z",
     "iopub.status.busy": "2024-11-26T01:01:41.179342Z",
     "iopub.status.idle": "2024-11-26T01:01:41.244255Z",
     "shell.execute_reply": "2024-11-26T01:01:41.243249Z",
     "shell.execute_reply.started": "2024-11-26T01:01:41.179685Z"
    },
    "scrolled": true,
    "trusted": true
   },
   "outputs": [
    {
     "name": "stdout",
     "output_type": "stream",
     "text": [
      "                                            Comentario  Votos a favor  \\\n",
      "0    La isla es muy hermosa y tiene unas aguas muy ...              0   \n",
      "1    Lahamburguesa de polloy elpatacónDoki, son del...              0   \n",
      "2    La playa es preciosa, de aguas mansas y playas...              0   \n",
      "3    es un paraíso de playa Para llegar a la isla l...              0   \n",
      "4    Es muy buena escuela de buceo; excelente los l...              0   \n",
      "..                                                 ...            ...   \n",
      "813             Lomitoa lasfinas hierbas... buenisimo!              0   \n",
      "814  Hicimos un excelente fun dive con Stefania y G...              0   \n",
      "815  El parque a su alrededor estaba en remodelació...              0   \n",
      "816  La mejor experiencia en Coveñas, totalmente re...              0   \n",
      "817  A mediados de enero aún conservaba la decoraci...              0   \n",
      "\n",
      "     Votos en contra  Valoración_num Sentimiento  Sentimiento_num  \n",
      "0                  0             4.5     neutral                1  \n",
      "1                  0             7.4    positivo                2  \n",
      "2                  0             4.0     neutral                1  \n",
      "3                  0             4.5     neutral                1  \n",
      "4                  0             5.0     neutral                1  \n",
      "..               ...             ...         ...              ...  \n",
      "813                0             8.7    positivo                2  \n",
      "814                0             5.0     neutral                1  \n",
      "815                0             4.0     neutral                1  \n",
      "816                0             5.0     neutral                1  \n",
      "817                0             4.0     neutral                1  \n",
      "\n",
      "[818 rows x 6 columns]\n"
     ]
    }
   ],
   "source": [
    "# Vectorizamos los comentarios usando TF-IDF\n",
    "vectorizer = TfidfVectorizer(max_features=5000, stop_words=spanish_stop_words)\n",
    "X_train_tfidf = vectorizer.fit_transform(X_train)\n",
    "X_val_tfidf = vectorizer.transform(X_val)\n",
    "X_test_tfidf = vectorizer.transform(data_test['Comentario'])\n",
    "print(data_train)"
   ]
  },
  {
   "cell_type": "code",
   "execution_count": 52,
   "metadata": {
    "execution": {
     "iopub.execute_input": "2024-11-26T01:01:41.246298Z",
     "iopub.status.busy": "2024-11-26T01:01:41.245871Z",
     "iopub.status.idle": "2024-11-26T01:01:41.261940Z",
     "shell.execute_reply": "2024-11-26T01:01:41.260819Z",
     "shell.execute_reply.started": "2024-11-26T01:01:41.246250Z"
    },
    "scrolled": true,
    "trusted": true
   },
   "outputs": [
    {
     "data": {
      "text/html": [
       "<div>\n",
       "<style scoped>\n",
       "    .dataframe tbody tr th:only-of-type {\n",
       "        vertical-align: middle;\n",
       "    }\n",
       "\n",
       "    .dataframe tbody tr th {\n",
       "        vertical-align: top;\n",
       "    }\n",
       "\n",
       "    .dataframe thead th {\n",
       "        text-align: right;\n",
       "    }\n",
       "</style>\n",
       "<table border=\"1\" class=\"dataframe\">\n",
       "  <thead>\n",
       "    <tr style=\"text-align: right;\">\n",
       "      <th></th>\n",
       "      <th>ID</th>\n",
       "      <th>Sitio</th>\n",
       "      <th>Índice del lugar</th>\n",
       "      <th>Nombre del lugar</th>\n",
       "      <th>Municipio</th>\n",
       "      <th>Valoración</th>\n",
       "      <th>Valoraciones</th>\n",
       "      <th>Precio</th>\n",
       "      <th>Comentario</th>\n",
       "      <th>Fecha</th>\n",
       "      <th>Votos a favor</th>\n",
       "      <th>Votos en contra</th>\n",
       "      <th>Valoración_num</th>\n",
       "      <th>Sentimiento</th>\n",
       "    </tr>\n",
       "  </thead>\n",
       "  <tbody>\n",
       "    <tr>\n",
       "      <th>0</th>\n",
       "      <td>980</td>\n",
       "      <td>Tripadvisor</td>\n",
       "      <td>74</td>\n",
       "      <td>Covenas Diving Co.</td>\n",
       "      <td>Coveñas</td>\n",
       "      <td>5.0/5</td>\n",
       "      <td>259</td>\n",
       "      <td>Precio Desconocido</td>\n",
       "      <td>De las mejores experiencias de la vida, no se ...</td>\n",
       "      <td>25 de abril de 2021</td>\n",
       "      <td>0</td>\n",
       "      <td>0</td>\n",
       "      <td>5.0</td>\n",
       "      <td>NaN</td>\n",
       "    </tr>\n",
       "    <tr>\n",
       "      <th>1</th>\n",
       "      <td>1249</td>\n",
       "      <td>Tripadvisor</td>\n",
       "      <td>79</td>\n",
       "      <td>Anfibio Sports Adventure</td>\n",
       "      <td>San Onofre</td>\n",
       "      <td>5.0/5</td>\n",
       "      <td>34</td>\n",
       "      <td>Precio Desconocido</td>\n",
       "      <td>Me encanto el plan de Stand up paddle y de bic...</td>\n",
       "      <td>1 de julio de 2021</td>\n",
       "      <td>0</td>\n",
       "      <td>0</td>\n",
       "      <td>5.0</td>\n",
       "      <td>NaN</td>\n",
       "    </tr>\n",
       "    <tr>\n",
       "      <th>2</th>\n",
       "      <td>260</td>\n",
       "      <td>Foursquare</td>\n",
       "      <td>42</td>\n",
       "      <td>Playas De La Primera Ensenada</td>\n",
       "      <td>Coveñas</td>\n",
       "      <td>6.9/10</td>\n",
       "      <td>9 valoraciones</td>\n",
       "      <td>Precio Desconocido</td>\n",
       "      <td>Excelentes playas para disfrutar del hermoso m...</td>\n",
       "      <td>Abril 13, 2013</td>\n",
       "      <td>0</td>\n",
       "      <td>0</td>\n",
       "      <td>6.9</td>\n",
       "      <td>NaN</td>\n",
       "    </tr>\n",
       "    <tr>\n",
       "      <th>3</th>\n",
       "      <td>459</td>\n",
       "      <td>Tripadvisor</td>\n",
       "      <td>50</td>\n",
       "      <td>Isla Múcura</td>\n",
       "      <td>San Onofre</td>\n",
       "      <td>4.5/5</td>\n",
       "      <td>281</td>\n",
       "      <td>Precio Desconocido</td>\n",
       "      <td>Experiencia inolvidable Es un paisaje exótico,...</td>\n",
       "      <td>7 de enero de 2015</td>\n",
       "      <td>0</td>\n",
       "      <td>0</td>\n",
       "      <td>4.5</td>\n",
       "      <td>NaN</td>\n",
       "    </tr>\n",
       "    <tr>\n",
       "      <th>4</th>\n",
       "      <td>309</td>\n",
       "      <td>Foursquare</td>\n",
       "      <td>48</td>\n",
       "      <td>Lile's Pizza</td>\n",
       "      <td>Sincelejo</td>\n",
       "      <td>6.7/10</td>\n",
       "      <td>31 valoraciones</td>\n",
       "      <td>$</td>\n",
       "      <td>Excelente la caprichosa y los granizados ;)</td>\n",
       "      <td>Septiembre 19, 2013</td>\n",
       "      <td>0</td>\n",
       "      <td>0</td>\n",
       "      <td>6.7</td>\n",
       "      <td>NaN</td>\n",
       "    </tr>\n",
       "  </tbody>\n",
       "</table>\n",
       "</div>"
      ],
      "text/plain": [
       "     ID        Sitio  Índice del lugar               Nombre del lugar  \\\n",
       "0   980  Tripadvisor                74             Covenas Diving Co.   \n",
       "1  1249  Tripadvisor                79       Anfibio Sports Adventure   \n",
       "2   260   Foursquare                42  Playas De La Primera Ensenada   \n",
       "3   459  Tripadvisor                50                    Isla Múcura   \n",
       "4   309   Foursquare                48                   Lile's Pizza   \n",
       "\n",
       "     Municipio Valoración     Valoraciones              Precio  \\\n",
       "0      Coveñas      5.0/5              259  Precio Desconocido   \n",
       "1   San Onofre      5.0/5               34  Precio Desconocido   \n",
       "2      Coveñas     6.9/10   9 valoraciones  Precio Desconocido   \n",
       "3   San Onofre      4.5/5              281  Precio Desconocido   \n",
       "4    Sincelejo     6.7/10  31 valoraciones                   $   \n",
       "\n",
       "                                          Comentario                Fecha  \\\n",
       "0  De las mejores experiencias de la vida, no se ...  25 de abril de 2021   \n",
       "1  Me encanto el plan de Stand up paddle y de bic...   1 de julio de 2021   \n",
       "2  Excelentes playas para disfrutar del hermoso m...       Abril 13, 2013   \n",
       "3  Experiencia inolvidable Es un paisaje exótico,...   7 de enero de 2015   \n",
       "4        Excelente la caprichosa y los granizados ;)  Septiembre 19, 2013   \n",
       "\n",
       "   Votos a favor  Votos en contra  Valoración_num  Sentimiento  \n",
       "0              0                0             5.0          NaN  \n",
       "1              0                0             5.0          NaN  \n",
       "2              0                0             6.9          NaN  \n",
       "3              0                0             4.5          NaN  \n",
       "4              0                0             6.7          NaN  "
      ]
     },
     "execution_count": 52,
     "metadata": {},
     "output_type": "execute_result"
    }
   ],
   "source": [
    "data_test.head()"
   ]
  },
  {
   "cell_type": "markdown",
   "metadata": {},
   "source": [
    "### Entrenamiento de los modelos"
   ]
  },
  {
   "cell_type": "markdown",
   "metadata": {},
   "source": [
    "#### Modelo Random Forest Classifier"
   ]
  },
  {
   "cell_type": "code",
   "execution_count": 53,
   "metadata": {
    "execution": {
     "iopub.execute_input": "2024-11-26T01:01:41.263767Z",
     "iopub.status.busy": "2024-11-26T01:01:41.263295Z",
     "iopub.status.idle": "2024-11-26T01:01:41.654642Z",
     "shell.execute_reply": "2024-11-26T01:01:41.653533Z",
     "shell.execute_reply.started": "2024-11-26T01:01:41.263733Z"
    },
    "scrolled": true,
    "trusted": true
   },
   "outputs": [
    {
     "name": "stdout",
     "output_type": "stream",
     "text": [
      "              precision    recall  f1-score   support\n",
      "\n",
      "    negativo       0.00      0.00      0.00         4\n",
      "     neutral       0.85      0.96      0.90       122\n",
      "    positivo       0.78      0.55      0.65        38\n",
      "\n",
      "    accuracy                           0.84       164\n",
      "   macro avg       0.54      0.50      0.52       164\n",
      "weighted avg       0.82      0.84      0.82       164\n",
      "\n"
     ]
    }
   ],
   "source": [
    "modelo = RandomForestClassifier(random_state=42, n_estimators=100)\n",
    "modelo.fit(X_train_tfidf, y_train)\n",
    "y_val_pred = modelo.predict(X_val_tfidf)\n",
    "validation_report = classification_report(y_val, y_val_pred, target_names=['negativo', 'neutral', 'positivo'])\n",
    "print(validation_report)"
   ]
  },
  {
   "cell_type": "code",
   "execution_count": 54,
   "metadata": {
    "execution": {
     "iopub.execute_input": "2024-11-26T01:01:41.656019Z",
     "iopub.status.busy": "2024-11-26T01:01:41.655732Z",
     "iopub.status.idle": "2024-11-26T01:01:41.662687Z",
     "shell.execute_reply": "2024-11-26T01:01:41.661677Z",
     "shell.execute_reply.started": "2024-11-26T01:01:41.655987Z"
    },
    "trusted": true
   },
   "outputs": [
    {
     "name": "stdout",
     "output_type": "stream",
     "text": [
      "Exactitud general en el conjunto de validación: 84.15%\n"
     ]
    }
   ],
   "source": [
    "# Calculo de exactitud general\n",
    "accuracy = accuracy_score(y_val, y_val_pred)\n",
    "print(f\"Exactitud general en el conjunto de validación: {100*accuracy:.2f}%\")"
   ]
  },
  {
   "cell_type": "code",
   "execution_count": 55,
   "metadata": {
    "execution": {
     "iopub.execute_input": "2024-11-26T01:01:41.664374Z",
     "iopub.status.busy": "2024-11-26T01:01:41.664054Z",
     "iopub.status.idle": "2024-11-26T01:01:41.688905Z",
     "shell.execute_reply": "2024-11-26T01:01:41.687385Z",
     "shell.execute_reply.started": "2024-11-26T01:01:41.664327Z"
    },
    "trusted": true
   },
   "outputs": [
    {
     "name": "stdout",
     "output_type": "stream",
     "text": [
      "['neutral' 'neutral' 'neutral' 'neutral' 'positivo' 'neutral' 'neutral'\n",
      " 'neutral' 'neutral' 'neutral' 'neutral' 'neutral' 'neutral' 'neutral'\n",
      " 'positivo' 'neutral' 'neutral' 'neutral' 'neutral' 'neutral' 'neutral'\n",
      " 'neutral' 'neutral' 'neutral' 'neutral' 'neutral' 'neutral' 'positivo'\n",
      " 'positivo' 'neutral' 'neutral' 'neutral' 'neutral' 'positivo' 'neutral'\n",
      " 'neutral' 'neutral' 'neutral' 'neutral' 'neutral' 'neutral' 'neutral'\n",
      " 'neutral' 'neutral' 'neutral' 'positivo' 'neutral' 'neutral' 'neutral'\n",
      " 'neutral' 'neutral' 'neutral' 'neutral' 'neutral' 'neutral' 'neutral'\n",
      " 'neutral' 'neutral' 'positivo' 'neutral' 'neutral' 'neutral' 'neutral'\n",
      " 'neutral' 'neutral' 'neutral' 'neutral' 'neutral' 'neutral' 'neutral'\n",
      " 'neutral' 'neutral' 'neutral' 'neutral' 'neutral' 'neutral' 'neutral'\n",
      " 'neutral' 'positivo' 'positivo' 'neutral' 'neutral' 'neutral' 'neutral'\n",
      " 'neutral' 'positivo' 'neutral' 'neutral' 'neutral' 'neutral' 'neutral'\n",
      " 'neutral' 'neutral' 'neutral' 'neutral' 'neutral' 'neutral' 'neutral'\n",
      " 'neutral' 'neutral' 'neutral' 'neutral' 'neutral' 'neutral' 'neutral'\n",
      " 'neutral' 'neutral' 'neutral' 'positivo' 'neutral' 'neutral' 'neutral'\n",
      " 'neutral' 'neutral' 'neutral' 'neutral' 'neutral' 'neutral' 'neutral'\n",
      " 'positivo' 'neutral' 'neutral' 'neutral' 'neutral' 'neutral' 'neutral'\n",
      " 'positivo' 'neutral' 'neutral']\n"
     ]
    }
   ],
   "source": [
    "test_predictions = modelo.predict(X_test_tfidf)\n",
    "print(test_predictions)"
   ]
  },
  {
   "cell_type": "code",
   "execution_count": 56,
   "metadata": {
    "execution": {
     "iopub.execute_input": "2024-11-26T01:01:41.691722Z",
     "iopub.status.busy": "2024-11-26T01:01:41.691368Z",
     "iopub.status.idle": "2024-11-26T01:01:41.699652Z",
     "shell.execute_reply": "2024-11-26T01:01:41.698519Z",
     "shell.execute_reply.started": "2024-11-26T01:01:41.691689Z"
    },
    "trusted": true
   },
   "outputs": [
    {
     "name": "stdout",
     "output_type": "stream",
     "text": [
      "0      1\n",
      "1      1\n",
      "2      1\n",
      "3      1\n",
      "4      2\n",
      "      ..\n",
      "124    1\n",
      "125    1\n",
      "126    2\n",
      "127    1\n",
      "128    1\n",
      "Name: Sentimiento, Length: 129, dtype: int64\n"
     ]
    }
   ],
   "source": [
    "data_test['Sentimiento'] = test_predictions\n",
    "data_test['Sentimiento'] = data_test['Sentimiento'].map({'negativo':0, 'neutral' :1, 'positivo' :2})\n",
    "print(data_test['Sentimiento'])"
   ]
  },
  {
   "cell_type": "code",
   "execution_count": 57,
   "metadata": {
    "execution": {
     "iopub.execute_input": "2024-11-26T01:01:41.701214Z",
     "iopub.status.busy": "2024-11-26T01:01:41.700908Z",
     "iopub.status.idle": "2024-11-26T01:01:41.714929Z",
     "shell.execute_reply": "2024-11-26T01:01:41.713720Z",
     "shell.execute_reply.started": "2024-11-26T01:01:41.701185Z"
    },
    "trusted": true
   },
   "outputs": [
    {
     "data": {
      "text/plain": [
       "'submission_data.csv'"
      ]
     },
     "execution_count": 57,
     "metadata": {},
     "output_type": "execute_result"
    }
   ],
   "source": [
    "# Crear el archivo de envío\n",
    "data_submission = data_test[['ID', 'Sentimiento']].head(129)\n",
    "output_path = 'submission_data.csv'\n",
    "data_submission.to_csv(output_path, index=False)\n",
    "output_path"
   ]
  }
 ],
 "metadata": {
  "kaggle": {
   "accelerator": "none",
   "dataSources": [
    {
     "databundleVersionId": 9959596,
     "sourceId": 87312,
     "sourceType": "competition"
    }
   ],
   "dockerImageVersionId": 30786,
   "isGpuEnabled": false,
   "isInternetEnabled": false,
   "language": "python",
   "sourceType": "notebook"
  },
  "kernelspec": {
   "display_name": ".venv",
   "language": "python",
   "name": "python3"
  },
  "language_info": {
   "codemirror_mode": {
    "name": "ipython",
    "version": 3
   },
   "file_extension": ".py",
   "mimetype": "text/x-python",
   "name": "python",
   "nbconvert_exporter": "python",
   "pygments_lexer": "ipython3",
   "version": "3.11.9"
  }
 },
 "nbformat": 4,
 "nbformat_minor": 4
}
